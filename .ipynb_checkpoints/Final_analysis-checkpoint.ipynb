{
 "cells": [
  {
   "cell_type": "code",
   "execution_count": 2,
   "id": "d61efdb8",
   "metadata": {},
   "outputs": [
    {
     "name": "stdout",
     "output_type": "stream",
     "text": [
      "Requirement already satisfied: scikit-learn in /usr/local/lib/python3.9/site-packages (0.24.2)\n",
      "Requirement already satisfied: scipy in /usr/local/lib/python3.9/site-packages (1.6.3)\n",
      "Requirement already satisfied: matplotlib in /usr/local/lib/python3.9/site-packages (3.4.2)\n",
      "Requirement already satisfied: pyparsing>=2.2.1 in /usr/local/lib/python3.9/site-packages (from matplotlib) (2.4.7)\n",
      "Requirement already satisfied: cycler>=0.10 in /usr/local/lib/python3.9/site-packages (from matplotlib) (0.10.0)\n",
      "Requirement already satisfied: python-dateutil>=2.7 in /usr/local/lib/python3.9/site-packages (from matplotlib) (2.8.1)\n",
      "Requirement already satisfied: pillow>=6.2.0 in /usr/local/lib/python3.9/site-packages (from matplotlib) (8.1.0)\n",
      "Requirement already satisfied: numpy>=1.16 in /usr/local/lib/python3.9/site-packages (from matplotlib) (1.20.1)\n",
      "Requirement already satisfied: kiwisolver>=1.0.1 in /usr/local/lib/python3.9/site-packages (from matplotlib) (1.3.1)\n",
      "Requirement already satisfied: six in /usr/local/lib/python3.9/site-packages (from cycler>=0.10->matplotlib) (1.15.0)\n",
      "Requirement already satisfied: joblib>=0.11 in /usr/local/lib/python3.9/site-packages (from scikit-learn) (1.0.1)\n",
      "Requirement already satisfied: threadpoolctl>=2.0.0 in /usr/local/lib/python3.9/site-packages (from scikit-learn) (2.1.0)\n",
      "\u001b[33mWARNING: You are using pip version 21.0.1; however, version 21.1.1 is available.\n",
      "You should consider upgrading via the '/usr/local/opt/python@3.9/bin/python3.9 -m pip install --upgrade pip' command.\u001b[0m\n",
      "Requirement already satisfied: pandas in /usr/local/lib/python3.9/site-packages (1.2.4)\n",
      "Requirement already satisfied: pytz>=2017.3 in /usr/local/lib/python3.9/site-packages (from pandas) (2021.1)\n",
      "Requirement already satisfied: python-dateutil>=2.7.3 in /usr/local/lib/python3.9/site-packages (from pandas) (2.8.1)\n",
      "Requirement already satisfied: numpy>=1.16.5 in /usr/local/lib/python3.9/site-packages (from pandas) (1.20.1)\n",
      "Requirement already satisfied: six>=1.5 in /usr/local/lib/python3.9/site-packages (from python-dateutil>=2.7.3->pandas) (1.15.0)\n",
      "\u001b[33mWARNING: You are using pip version 21.0.1; however, version 21.1.1 is available.\n",
      "You should consider upgrading via the '/usr/local/opt/python@3.9/bin/python3.9 -m pip install --upgrade pip' command.\u001b[0m\n",
      "Requirement already satisfied: seaborn in /usr/local/lib/python3.9/site-packages (0.11.1)\n",
      "Requirement already satisfied: matplotlib>=2.2 in /usr/local/lib/python3.9/site-packages (from seaborn) (3.4.2)\n",
      "Requirement already satisfied: numpy>=1.15 in /usr/local/lib/python3.9/site-packages (from seaborn) (1.20.1)\n",
      "Requirement already satisfied: scipy>=1.0 in /usr/local/lib/python3.9/site-packages (from seaborn) (1.6.3)\n",
      "Requirement already satisfied: pandas>=0.23 in /usr/local/lib/python3.9/site-packages (from seaborn) (1.2.4)\n",
      "Requirement already satisfied: pillow>=6.2.0 in /usr/local/lib/python3.9/site-packages (from matplotlib>=2.2->seaborn) (8.1.0)\n",
      "Requirement already satisfied: cycler>=0.10 in /usr/local/lib/python3.9/site-packages (from matplotlib>=2.2->seaborn) (0.10.0)\n",
      "Requirement already satisfied: kiwisolver>=1.0.1 in /usr/local/lib/python3.9/site-packages (from matplotlib>=2.2->seaborn) (1.3.1)\n",
      "Requirement already satisfied: python-dateutil>=2.7 in /usr/local/lib/python3.9/site-packages (from matplotlib>=2.2->seaborn) (2.8.1)\n",
      "Requirement already satisfied: pyparsing>=2.2.1 in /usr/local/lib/python3.9/site-packages (from matplotlib>=2.2->seaborn) (2.4.7)\n",
      "Requirement already satisfied: six in /usr/local/lib/python3.9/site-packages (from cycler>=0.10->matplotlib>=2.2->seaborn) (1.15.0)\n",
      "Requirement already satisfied: pytz>=2017.3 in /usr/local/lib/python3.9/site-packages (from pandas>=0.23->seaborn) (2021.1)\n",
      "\u001b[33mWARNING: You are using pip version 21.0.1; however, version 21.1.1 is available.\n",
      "You should consider upgrading via the '/usr/local/opt/python@3.9/bin/python3.9 -m pip install --upgrade pip' command.\u001b[0m\n",
      "Requirement already satisfied: plotly-express in /usr/local/lib/python3.9/site-packages (0.4.1)\n",
      "Requirement already satisfied: statsmodels>=0.9.0 in /usr/local/lib/python3.9/site-packages (from plotly-express) (0.12.2)\n",
      "Requirement already satisfied: pandas>=0.20.0 in /usr/local/lib/python3.9/site-packages (from plotly-express) (1.2.4)\n",
      "Requirement already satisfied: numpy>=1.11 in /usr/local/lib/python3.9/site-packages (from plotly-express) (1.20.1)\n",
      "Requirement already satisfied: scipy>=0.18 in /usr/local/lib/python3.9/site-packages (from plotly-express) (1.6.3)\n",
      "Requirement already satisfied: patsy>=0.5 in /usr/local/lib/python3.9/site-packages (from plotly-express) (0.5.1)\n",
      "Requirement already satisfied: plotly>=4.1.0 in /usr/local/lib/python3.9/site-packages (from plotly-express) (4.14.3)\n",
      "Requirement already satisfied: python-dateutil>=2.7.3 in /usr/local/lib/python3.9/site-packages (from pandas>=0.20.0->plotly-express) (2.8.1)\n",
      "Requirement already satisfied: pytz>=2017.3 in /usr/local/lib/python3.9/site-packages (from pandas>=0.20.0->plotly-express) (2021.1)\n",
      "Requirement already satisfied: six in /usr/local/lib/python3.9/site-packages (from patsy>=0.5->plotly-express) (1.15.0)\n",
      "Requirement already satisfied: retrying>=1.3.3 in /usr/local/lib/python3.9/site-packages (from plotly>=4.1.0->plotly-express) (1.3.3)\n",
      "\u001b[33mWARNING: You are using pip version 21.0.1; however, version 21.1.1 is available.\n",
      "You should consider upgrading via the '/usr/local/opt/python@3.9/bin/python3.9 -m pip install --upgrade pip' command.\u001b[0m\n"
     ]
    }
   ],
   "source": [
    "!pip install -U scikit-learn scipy matplotlib\n",
    "!pip install pandas\n",
    "!pip install seaborn\n",
    "!pip install plotly-express"
   ]
  },
  {
   "cell_type": "code",
   "execution_count": 3,
   "id": "b77d8ad6",
   "metadata": {},
   "outputs": [],
   "source": [
    "#importing libraries\n",
    "import numpy as np\n",
    "import pandas as pd \n",
    "import matplotlib.pyplot as plt\n",
    "import seaborn as sns\n",
    "\n",
    "import plotly_express as px\n",
    "import plotly.graph_objects as go\n",
    "import plotly.io as pio\n",
    "import plotly.figure_factory as ff\n",
    "from plotly.subplots import make_subplots\n",
    "\n",
    "from plotly.offline import plot, iplot,init_notebook_mode"
   ]
  },
  {
   "cell_type": "code",
   "execution_count": 10,
   "id": "6e083756",
   "metadata": {},
   "outputs": [
    {
     "data": {
      "text/html": [
       "<div>\n",
       "<style scoped>\n",
       "    .dataframe tbody tr th:only-of-type {\n",
       "        vertical-align: middle;\n",
       "    }\n",
       "\n",
       "    .dataframe tbody tr th {\n",
       "        vertical-align: top;\n",
       "    }\n",
       "\n",
       "    .dataframe thead th {\n",
       "        text-align: right;\n",
       "    }\n",
       "</style>\n",
       "<table border=\"1\" class=\"dataframe\">\n",
       "  <thead>\n",
       "    <tr style=\"text-align: right;\">\n",
       "      <th></th>\n",
       "      <th>date</th>\n",
       "      <th>quarter</th>\n",
       "      <th>department</th>\n",
       "      <th>day</th>\n",
       "      <th>team</th>\n",
       "      <th>targeted_productivity</th>\n",
       "      <th>smv</th>\n",
       "      <th>wip</th>\n",
       "      <th>over_time</th>\n",
       "      <th>incentive</th>\n",
       "      <th>idle_time</th>\n",
       "      <th>idle_men</th>\n",
       "      <th>no_of_style_change</th>\n",
       "      <th>no_of_workers</th>\n",
       "      <th>actual_productivity</th>\n",
       "    </tr>\n",
       "  </thead>\n",
       "  <tbody>\n",
       "    <tr>\n",
       "      <th>0</th>\n",
       "      <td>1/1/2015</td>\n",
       "      <td>Quarter1</td>\n",
       "      <td>sweing</td>\n",
       "      <td>Thursday</td>\n",
       "      <td>8</td>\n",
       "      <td>0.80</td>\n",
       "      <td>26.16</td>\n",
       "      <td>1108.0</td>\n",
       "      <td>7080</td>\n",
       "      <td>98</td>\n",
       "      <td>0.0</td>\n",
       "      <td>0</td>\n",
       "      <td>0</td>\n",
       "      <td>59.0</td>\n",
       "      <td>0.940725</td>\n",
       "    </tr>\n",
       "    <tr>\n",
       "      <th>1</th>\n",
       "      <td>1/1/2015</td>\n",
       "      <td>Quarter1</td>\n",
       "      <td>finishing</td>\n",
       "      <td>Thursday</td>\n",
       "      <td>1</td>\n",
       "      <td>0.75</td>\n",
       "      <td>3.94</td>\n",
       "      <td>NaN</td>\n",
       "      <td>960</td>\n",
       "      <td>0</td>\n",
       "      <td>0.0</td>\n",
       "      <td>0</td>\n",
       "      <td>0</td>\n",
       "      <td>8.0</td>\n",
       "      <td>0.886500</td>\n",
       "    </tr>\n",
       "    <tr>\n",
       "      <th>2</th>\n",
       "      <td>1/1/2015</td>\n",
       "      <td>Quarter1</td>\n",
       "      <td>sweing</td>\n",
       "      <td>Thursday</td>\n",
       "      <td>11</td>\n",
       "      <td>0.80</td>\n",
       "      <td>11.41</td>\n",
       "      <td>968.0</td>\n",
       "      <td>3660</td>\n",
       "      <td>50</td>\n",
       "      <td>0.0</td>\n",
       "      <td>0</td>\n",
       "      <td>0</td>\n",
       "      <td>30.5</td>\n",
       "      <td>0.800570</td>\n",
       "    </tr>\n",
       "    <tr>\n",
       "      <th>3</th>\n",
       "      <td>1/1/2015</td>\n",
       "      <td>Quarter1</td>\n",
       "      <td>sweing</td>\n",
       "      <td>Thursday</td>\n",
       "      <td>12</td>\n",
       "      <td>0.80</td>\n",
       "      <td>11.41</td>\n",
       "      <td>968.0</td>\n",
       "      <td>3660</td>\n",
       "      <td>50</td>\n",
       "      <td>0.0</td>\n",
       "      <td>0</td>\n",
       "      <td>0</td>\n",
       "      <td>30.5</td>\n",
       "      <td>0.800570</td>\n",
       "    </tr>\n",
       "    <tr>\n",
       "      <th>4</th>\n",
       "      <td>1/1/2015</td>\n",
       "      <td>Quarter1</td>\n",
       "      <td>sweing</td>\n",
       "      <td>Thursday</td>\n",
       "      <td>6</td>\n",
       "      <td>0.80</td>\n",
       "      <td>25.90</td>\n",
       "      <td>1170.0</td>\n",
       "      <td>1920</td>\n",
       "      <td>50</td>\n",
       "      <td>0.0</td>\n",
       "      <td>0</td>\n",
       "      <td>0</td>\n",
       "      <td>56.0</td>\n",
       "      <td>0.800382</td>\n",
       "    </tr>\n",
       "  </tbody>\n",
       "</table>\n",
       "</div>"
      ],
      "text/plain": [
       "       date   quarter  department       day  team  targeted_productivity  \\\n",
       "0  1/1/2015  Quarter1      sweing  Thursday     8                   0.80   \n",
       "1  1/1/2015  Quarter1  finishing   Thursday     1                   0.75   \n",
       "2  1/1/2015  Quarter1      sweing  Thursday    11                   0.80   \n",
       "3  1/1/2015  Quarter1      sweing  Thursday    12                   0.80   \n",
       "4  1/1/2015  Quarter1      sweing  Thursday     6                   0.80   \n",
       "\n",
       "     smv     wip  over_time  incentive  idle_time  idle_men  \\\n",
       "0  26.16  1108.0       7080         98        0.0         0   \n",
       "1   3.94     NaN        960          0        0.0         0   \n",
       "2  11.41   968.0       3660         50        0.0         0   \n",
       "3  11.41   968.0       3660         50        0.0         0   \n",
       "4  25.90  1170.0       1920         50        0.0         0   \n",
       "\n",
       "   no_of_style_change  no_of_workers  actual_productivity  \n",
       "0                   0           59.0             0.940725  \n",
       "1                   0            8.0             0.886500  \n",
       "2                   0           30.5             0.800570  \n",
       "3                   0           30.5             0.800570  \n",
       "4                   0           56.0             0.800382  "
      ]
     },
     "execution_count": 10,
     "metadata": {},
     "output_type": "execute_result"
    }
   ],
   "source": [
    "#Clean the data\n",
    "data = pd.read_csv('garments_worker_productivity.csv')\n",
    "data.head()"
   ]
  },
  {
   "cell_type": "code",
   "execution_count": 11,
   "id": "4bd5e8a1",
   "metadata": {},
   "outputs": [],
   "source": [
    "df = data.copy()"
   ]
  },
  {
   "cell_type": "code",
   "execution_count": 12,
   "id": "f1fe1b27",
   "metadata": {},
   "outputs": [
    {
     "data": {
      "text/plain": [
       "(1197, 15)"
      ]
     },
     "execution_count": 12,
     "metadata": {},
     "output_type": "execute_result"
    }
   ],
   "source": [
    "df.shape"
   ]
  },
  {
   "cell_type": "code",
   "execution_count": 13,
   "id": "3f01fa39",
   "metadata": {},
   "outputs": [
    {
     "name": "stdout",
     "output_type": "stream",
     "text": [
      "<class 'pandas.core.frame.DataFrame'>\n",
      "RangeIndex: 1197 entries, 0 to 1196\n",
      "Data columns (total 15 columns):\n",
      " #   Column                 Non-Null Count  Dtype  \n",
      "---  ------                 --------------  -----  \n",
      " 0   date                   1197 non-null   object \n",
      " 1   quarter                1197 non-null   object \n",
      " 2   department             1197 non-null   object \n",
      " 3   day                    1197 non-null   object \n",
      " 4   team                   1197 non-null   int64  \n",
      " 5   targeted_productivity  1197 non-null   float64\n",
      " 6   smv                    1197 non-null   float64\n",
      " 7   wip                    691 non-null    float64\n",
      " 8   over_time              1197 non-null   int64  \n",
      " 9   incentive              1197 non-null   int64  \n",
      " 10  idle_time              1197 non-null   float64\n",
      " 11  idle_men               1197 non-null   int64  \n",
      " 12  no_of_style_change     1197 non-null   int64  \n",
      " 13  no_of_workers          1197 non-null   float64\n",
      " 14  actual_productivity    1197 non-null   float64\n",
      "dtypes: float64(6), int64(5), object(4)\n",
      "memory usage: 140.4+ KB\n"
     ]
    }
   ],
   "source": [
    "df.info()\n",
    "\n",
    "\n",
    "#     The dataset contains 1197 rows and 15 columns\n",
    "\n",
    "#     Attribute Information:\n",
    "\n",
    "#     date : Date in MM-DD-YYYY\n",
    "#     day : Day of the Week\n",
    "#     quarter : A portion of the month. A month was divided into four quarters\n",
    "#     department : Associated department with the instance\n",
    "#     teamno : Associated team number with the instance\n",
    "#     noofworkers : Number of workers in each team\n",
    "#     noofstylechange : Number of changes in the style of a particular product\n",
    "#     targetedproductivity : Targeted productivity set by the Authority for each team for each day.\n",
    "#     smv : Standard Minute Value, it is the allocated time for a task\n",
    "#     wip : Work in progress. Includes the number of unfinished items for products\n",
    "#     overtime : Represents the amount of overtime by each team in minutes\n",
    "#     incentive : Represents the amount of financial incentive (in BDT) that enables or motivates a particular course of action.\n",
    "#     idletime : The amount of time when the production was interrupted due to several reasons\n",
    "#     idlemen : The number of workers who were idle due to production interruption\n",
    "#     actual_productivity : The actual % of productivity that was delivered by the workers. It ranges from 0-1.\n"
   ]
  },
  {
   "cell_type": "code",
   "execution_count": 14,
   "id": "e8687e38",
   "metadata": {},
   "outputs": [
    {
     "data": {
      "text/plain": [
       "date                       0\n",
       "quarter                    0\n",
       "department                 0\n",
       "day                        0\n",
       "team                       0\n",
       "targeted_productivity      0\n",
       "smv                        0\n",
       "wip                      506\n",
       "over_time                  0\n",
       "incentive                  0\n",
       "idle_time                  0\n",
       "idle_men                   0\n",
       "no_of_style_change         0\n",
       "no_of_workers              0\n",
       "actual_productivity        0\n",
       "dtype: int64"
      ]
     },
     "execution_count": 14,
     "metadata": {},
     "output_type": "execute_result"
    }
   ],
   "source": [
    "df.isna().sum()"
   ]
  },
  {
   "cell_type": "code",
   "execution_count": 63,
   "id": "64f0d27e",
   "metadata": {},
   "outputs": [
    {
     "data": {
      "text/html": [
       "<div>\n",
       "<style scoped>\n",
       "    .dataframe tbody tr th:only-of-type {\n",
       "        vertical-align: middle;\n",
       "    }\n",
       "\n",
       "    .dataframe tbody tr th {\n",
       "        vertical-align: top;\n",
       "    }\n",
       "\n",
       "    .dataframe thead th {\n",
       "        text-align: right;\n",
       "    }\n",
       "</style>\n",
       "<table border=\"1\" class=\"dataframe\">\n",
       "  <thead>\n",
       "    <tr style=\"text-align: right;\">\n",
       "      <th></th>\n",
       "      <th>Total</th>\n",
       "      <th>Percent</th>\n",
       "    </tr>\n",
       "  </thead>\n",
       "  <tbody>\n",
       "    <tr>\n",
       "      <th>wip</th>\n",
       "      <td>506</td>\n",
       "      <td>0.422723</td>\n",
       "    </tr>\n",
       "    <tr>\n",
       "      <th>date</th>\n",
       "      <td>0</td>\n",
       "      <td>0.000000</td>\n",
       "    </tr>\n",
       "    <tr>\n",
       "      <th>incentive</th>\n",
       "      <td>0</td>\n",
       "      <td>0.000000</td>\n",
       "    </tr>\n",
       "    <tr>\n",
       "      <th>month_name</th>\n",
       "      <td>0</td>\n",
       "      <td>0.000000</td>\n",
       "    </tr>\n",
       "    <tr>\n",
       "      <th>actual_productivity</th>\n",
       "      <td>0</td>\n",
       "      <td>0.000000</td>\n",
       "    </tr>\n",
       "  </tbody>\n",
       "</table>\n",
       "</div>"
      ],
      "text/plain": [
       "                     Total   Percent\n",
       "wip                    506  0.422723\n",
       "date                     0  0.000000\n",
       "incentive                0  0.000000\n",
       "month_name               0  0.000000\n",
       "actual_productivity      0  0.000000"
      ]
     },
     "execution_count": 63,
     "metadata": {},
     "output_type": "execute_result"
    },
    {
     "data": {
      "image/png": "[encoded data removed]",
      "text/plain": [
       "<Figure size 1080x432 with 1 Axes>"
      ]
     },
     "metadata": {
      "needs_background": "light"
     },
     "output_type": "display_data"
    }
   ],
   "source": [
    "# Total 17 parameters.\n",
    "# One parameter (wip) has the missing rate up to 40%.\n",
    "\n",
    "\n",
    "total = df.isnull().sum().sort_values(ascending=False)\n",
    "percent = (df.isnull().sum()/df.isnull().count()).sort_values(ascending=False)\n",
    "missing_data = pd.concat([total, percent], axis=1, keys=['Total', 'Percent'])\n",
    "\n",
    "f, ax = plt.subplots(figsize=(15, 6))\n",
    "plt.xticks(rotation='90')\n",
    "sns.barplot(x=missing_data.index, y=missing_data['Percent'])\n",
    "\n",
    "plt.xlabel('Features', fontsize=15)\n",
    "plt.ylabel('Percent of missing values', fontsize=15)\n",
    "plt.title('Percent missing data by feature', fontsize=15)\n",
    "\n",
    "missing_data.head()\n",
    "\n",
    "\n"
   ]
  },
  {
   "cell_type": "code",
   "execution_count": 15,
   "id": "a841a7e7",
   "metadata": {},
   "outputs": [],
   "source": [
    "df['date'] = pd.to_datetime(df['date'])\n",
    "df['month_name'] = df['date'].dt.month_name()\n",
    "\n"
   ]
  },
  {
   "cell_type": "code",
   "execution_count": 17,
   "id": "b2d5877e",
   "metadata": {},
   "outputs": [],
   "source": [
    "#create a new feature which has overtime measured in hours\n",
    "df['overtime_in_hours'] = df['over_time'].apply(lambda x: x/60) "
   ]
  },
  {
   "cell_type": "code",
   "execution_count": 18,
   "id": "bdc44bbb",
   "metadata": {},
   "outputs": [
    {
     "data": {
      "text/plain": [
       "Quarter1    360\n",
       "Quarter2    335\n",
       "Quarter4    248\n",
       "Quarter3    210\n",
       "Quarter5     44\n",
       "Name: quarter, dtype: int64"
      ]
     },
     "execution_count": 18,
     "metadata": {},
     "output_type": "execute_result"
    }
   ],
   "source": [
    "df['quarter'].value_counts()"
   ]
  },
  {
   "cell_type": "code",
   "execution_count": 19,
   "id": "001dadb2",
   "metadata": {},
   "outputs": [
    {
     "data": {
      "text/plain": [
       "['sweing', 'finishing ', 'finishing']"
      ]
     },
     "execution_count": 19,
     "metadata": {},
     "output_type": "execute_result"
    }
   ],
   "source": [
    "df['department'].value_counts().index.to_list()"
   ]
  },
  {
   "cell_type": "code",
   "execution_count": 23,
   "id": "d346d8cd",
   "metadata": {},
   "outputs": [
    {
     "data": {
      "text/plain": [
       "['sewing', 'finishing']"
      ]
     },
     "execution_count": 23,
     "metadata": {},
     "output_type": "execute_result"
    }
   ],
   "source": [
    "#2x finishing => combine into 1\n",
    "df['department'].value_counts().index.to_list()"
   ]
  },
  {
   "cell_type": "code",
   "execution_count": 20,
   "id": "8492108d",
   "metadata": {},
   "outputs": [],
   "source": [
    "df['department'] = df['department'].apply(lambda x: 'finishing' if x == ('finishing ' or 'finishing' ) else 'sewing' )"
   ]
  },
  {
   "cell_type": "code",
   "execution_count": 24,
   "id": "d7150e39",
   "metadata": {},
   "outputs": [
    {
     "data": {
      "text/plain": [
       "Wednesday    208\n",
       "Sunday       203\n",
       "Tuesday      201\n",
       "Thursday     199\n",
       "Monday       199\n",
       "Saturday     187\n",
       "Name: day, dtype: int64"
      ]
     },
     "execution_count": 24,
     "metadata": {},
     "output_type": "execute_result"
    }
   ],
   "source": [
    "df['day'].value_counts()"
   ]
  },
  {
   "cell_type": "code",
   "execution_count": 25,
   "id": "2d03d7dc",
   "metadata": {},
   "outputs": [
    {
     "data": {
      "text/html": [
       "<div>\n",
       "<style scoped>\n",
       "    .dataframe tbody tr th:only-of-type {\n",
       "        vertical-align: middle;\n",
       "    }\n",
       "\n",
       "    .dataframe tbody tr th {\n",
       "        vertical-align: top;\n",
       "    }\n",
       "\n",
       "    .dataframe thead th {\n",
       "        text-align: right;\n",
       "    }\n",
       "</style>\n",
       "<table border=\"1\" class=\"dataframe\">\n",
       "  <thead>\n",
       "    <tr style=\"text-align: right;\">\n",
       "      <th></th>\n",
       "      <th>department</th>\n",
       "      <th>total_num</th>\n",
       "    </tr>\n",
       "  </thead>\n",
       "  <tbody>\n",
       "    <tr>\n",
       "      <th>0</th>\n",
       "      <td>sewing</td>\n",
       "      <td>940</td>\n",
       "    </tr>\n",
       "    <tr>\n",
       "      <th>1</th>\n",
       "      <td>finishing</td>\n",
       "      <td>257</td>\n",
       "    </tr>\n",
       "  </tbody>\n",
       "</table>\n",
       "</div>"
      ],
      "text/plain": [
       "  department  total_num\n",
       "0     sewing        940\n",
       "1  finishing        257"
      ]
     },
     "execution_count": 25,
     "metadata": {},
     "output_type": "execute_result"
    }
   ],
   "source": [
    "dept = df.department.value_counts().reset_index()\n",
    "dept.rename(columns = {'index':'department', 'department':'total_num'},inplace=True)\n",
    "dept"
   ]
  },
  {
   "cell_type": "code",
   "execution_count": 66,
   "id": "07ae2c20",
   "metadata": {},
   "outputs": [
    {
     "data": {
      "application/vnd.plotly.v1+json": {
       "config": {
        "plotlyServerURL": "https://plot.ly"
       },
       "data": [
        {
         "hoverinfo": "label+percent",
         "labels": [
          "sewing",
          "finishing"
         ],
         "marker": {
          "colors": [
           "#ADEFD1FF",
           "#00203FFF"
          ],
          "line": {
           "color": "#000000",
           "width": 2
          }
         },
         "textfont": {
          "size": 20
         },
         "textinfo": "value",
         "type": "pie",
         "values": [
          940,
          257
         ]
        }
       ],
       "layout": {
        "template": {
         "data": {
          "bar": [
           {
            "error_x": {
             "color": "#2a3f5f"
            },
            "error_y": {
             "color": "#2a3f5f"
            },
            "marker": {
             "line": {
              "color": "#E5ECF6",
              "width": 0.5
             }
            },
            "type": "bar"
           }
          ],
          "barpolar": [
           {
            "marker": {
             "line": {
              "color": "#E5ECF6",
              "width": 0.5
             }
            },
            "type": "barpolar"
           }
          ],
          "carpet": [
           {
            "aaxis": {
             "endlinecolor": "#2a3f5f",
             "gridcolor": "white",
             "linecolor": "white",
             "minorgridcolor": "white",
             "startlinecolor": "#2a3f5f"
            },
            "baxis": {
             "endlinecolor": "#2a3f5f",
             "gridcolor": "white",
             "linecolor": "white",
             "minorgridcolor": "white",
             "startlinecolor": "#2a3f5f"
            },
            "type": "carpet"
           }
          ],
          "choropleth": [
           {
            "colorbar": {
             "outlinewidth": 0,
             "ticks": ""
            },
            "type": "choropleth"
           }
          ],
          "contour": [
           {
            "colorbar": {
             "outlinewidth": 0,
             "ticks": ""
            },
            "colorscale": [
             [
              0,
              "#0d0887"
             ],
             [
              0.1111111111111111,
              "#46039f"
             ],
             [
              0.2222222222222222,
              "#7201a8"
             ],
             [
              0.3333333333333333,
              "#9c179e"
             ],
             [
              0.4444444444444444,
              "#bd3786"
             ],
             [
              0.5555555555555556,
              "#d8576b"
             ],
             [
              0.6666666666666666,
              "#ed7953"
             ],
             [
              0.7777777777777778,
              "#fb9f3a"
             ],
             [
              0.8888888888888888,
              "#fdca26"
             ],
             [
              1,
              "#f0f921"
             ]
            ],
            "type": "contour"
           }
          ],
          "contourcarpet": [
           {
            "colorbar": {
             "outlinewidth": 0,
             "ticks": ""
            },
            "type": "contourcarpet"
           }
          ],
          "heatmap": [
           {
            "colorbar": {
             "outlinewidth": 0,
             "ticks": ""
            },
            "colorscale": [
             [
              0,
              "#0d0887"
             ],
             [
              0.1111111111111111,
              "#46039f"
             ],
             [
              0.2222222222222222,
              "#7201a8"
             ],
             [
              0.3333333333333333,
              "#9c179e"
             ],
             [
              0.4444444444444444,
              "#bd3786"
             ],
             [
              0.5555555555555556,
              "#d8576b"
             ],
             [
              0.6666666666666666,
              "#ed7953"
             ],
             [
              0.7777777777777778,
              "#fb9f3a"
             ],
             [
              0.8888888888888888,
              "#fdca26"
             ],
             [
              1,
              "#f0f921"
             ]
            ],
            "type": "heatmap"
           }
          ],
          "heatmapgl": [
           {
            "colorbar": {
             "outlinewidth": 0,
             "ticks": ""
            },
            "colorscale": [
             [
              0,
              "#0d0887"
             ],
             [
              0.1111111111111111,
              "#46039f"
             ],
             [
              0.2222222222222222,
              "#7201a8"
             ],
             [
              0.3333333333333333,
              "#9c179e"
             ],
             [
              0.4444444444444444,
              "#bd3786"
             ],
             [
              0.5555555555555556,
              "#d8576b"
             ],
             [
              0.6666666666666666,
              "#ed7953"
             ],
             [
              0.7777777777777778,
              "#fb9f3a"
             ],
             [
              0.8888888888888888,
              "#fdca26"
             ],
             [
              1,
              "#f0f921"
             ]
            ],
            "type": "heatmapgl"
           }
          ],
          "histogram": [
           {
            "marker": {
             "colorbar": {
              "outlinewidth": 0,
              "ticks": ""
             }
            },
            "type": "histogram"
           }
          ],
          "histogram2d": [
           {
            "colorbar": {
             "outlinewidth": 0,
             "ticks": ""
            },
            "colorscale": [
             [
              0,
              "#0d0887"
             ],
             [
              0.1111111111111111,
              "#46039f"
             ],
             [
              0.2222222222222222,
              "#7201a8"
             ],
             [
              0.3333333333333333,
              "#9c179e"
             ],
             [
              0.4444444444444444,
              "#bd3786"
             ],
             [
              0.5555555555555556,
              "#d8576b"
             ],
             [
              0.6666666666666666,
              "#ed7953"
             ],
             [
              0.7777777777777778,
              "#fb9f3a"
             ],
             [
              0.8888888888888888,
              "#fdca26"
             ],
             [
              1,
              "#f0f921"
             ]
            ],
            "type": "histogram2d"
           }
          ],
          "histogram2dcontour": [
           {
            "colorbar": {
             "outlinewidth": 0,
             "ticks": ""
            },
            "colorscale": [
             [
              0,
              "#0d0887"
             ],
             [
              0.1111111111111111,
              "#46039f"
             ],
             [
              0.2222222222222222,
              "#7201a8"
             ],
             [
              0.3333333333333333,
              "#9c179e"
             ],
             [
              0.4444444444444444,
              "#bd3786"
             ],
             [
              0.5555555555555556,
              "#d8576b"
             ],
             [
              0.6666666666666666,
              "#ed7953"
             ],
             [
              0.7777777777777778,
              "#fb9f3a"
             ],
             [
              0.8888888888888888,
              "#fdca26"
             ],
             [
              1,
              "#f0f921"
             ]
            ],
            "type": "histogram2dcontour"
           }
          ],
          "mesh3d": [
           {
            "colorbar": {
             "outlinewidth": 0,
             "ticks": ""
            },
            "type": "mesh3d"
           }
          ],
          "parcoords": [
           {
            "line": {
             "colorbar": {
              "outlinewidth": 0,
              "ticks": ""
             }
            },
            "type": "parcoords"
           }
          ],
          "pie": [
           {
            "automargin": true,
            "type": "pie"
           }
          ],
          "scatter": [
           {
            "marker": {
             "colorbar": {
              "outlinewidth": 0,
              "ticks": ""
             }
            },
            "type": "scatter"
           }
          ],
          "scatter3d": [
           {
            "line": {
             "colorbar": {
              "outlinewidth": 0,
              "ticks": ""
             }
            },
            "marker": {
             "colorbar": {
              "outlinewidth": 0,
              "ticks": ""
             }
            },
            "type": "scatter3d"
           }
          ],
          "scattercarpet": [
           {
            "marker": {
             "colorbar": {
              "outlinewidth": 0,
              "ticks": ""
             }
            },
            "type": "scattercarpet"
           }
          ],
          "scattergeo": [
           {
            "marker": {
             "colorbar": {
              "outlinewidth": 0,
              "ticks": ""
             }
            },
            "type": "scattergeo"
           }
          ],
          "scattergl": [
           {
            "marker": {
             "colorbar": {
              "outlinewidth": 0,
              "ticks": ""
             }
            },
            "type": "scattergl"
           }
          ],
          "scattermapbox": [
           {
            "marker": {
             "colorbar": {
              "outlinewidth": 0,
              "ticks": ""
             }
            },
            "type": "scattermapbox"
           }
          ],
          "scatterpolar": [
           {
            "marker": {
             "colorbar": {
              "outlinewidth": 0,
              "ticks": ""
             }
            },
            "type": "scatterpolar"
           }
          ],
          "scatterpolargl": [
           {
            "marker": {
             "colorbar": {
              "outlinewidth": 0,
              "ticks": ""
             }
            },
            "type": "scatterpolargl"
           }
          ],
          "scatterternary": [
           {
            "marker": {
             "colorbar": {
              "outlinewidth": 0,
              "ticks": ""
             }
            },
            "type": "scatterternary"
           }
          ],
          "surface": [
           {
            "colorbar": {
             "outlinewidth": 0,
             "ticks": ""
            },
            "colorscale": [
             [
              0,
              "#0d0887"
             ],
             [
              0.1111111111111111,
              "#46039f"
             ],
             [
              0.2222222222222222,
              "#7201a8"
             ],
             [
              0.3333333333333333,
              "#9c179e"
             ],
             [
              0.4444444444444444,
              "#bd3786"
             ],
             [
              0.5555555555555556,
              "#d8576b"
             ],
             [
              0.6666666666666666,
              "#ed7953"
             ],
             [
              0.7777777777777778,
              "#fb9f3a"
             ],
             [
              0.8888888888888888,
              "#fdca26"
             ],
             [
              1,
              "#f0f921"
             ]
            ],
            "type": "surface"
           }
          ],
          "table": [
           {
            "cells": {
             "fill": {
              "color": "#EBF0F8"
             },
             "line": {
              "color": "white"
             }
            },
            "header": {
             "fill": {
              "color": "#C8D4E3"
             },
             "line": {
              "color": "white"
             }
            },
            "type": "table"
           }
          ]
         },
         "layout": {
          "annotationdefaults": {
           "arrowcolor": "#2a3f5f",
           "arrowhead": 0,
           "arrowwidth": 1
          },
          "autotypenumbers": "strict",
          "coloraxis": {
           "colorbar": {
            "outlinewidth": 0,
            "ticks": ""
           }
          },
          "colorscale": {
           "diverging": [
            [
             0,
             "#8e0152"
            ],
            [
             0.1,
             "#c51b7d"
            ],
            [
             0.2,
             "#de77ae"
            ],
            [
             0.3,
             "#f1b6da"
            ],
            [
             0.4,
             "#fde0ef"
            ],
            [
             0.5,
             "#f7f7f7"
            ],
            [
             0.6,
             "#e6f5d0"
            ],
            [
             0.7,
             "#b8e186"
            ],
            [
             0.8,
             "#7fbc41"
            ],
            [
             0.9,
             "#4d9221"
            ],
            [
             1,
             "#276419"
            ]
           ],
           "sequential": [
            [
             0,
             "#0d0887"
            ],
            [
             0.1111111111111111,
             "#46039f"
            ],
            [
             0.2222222222222222,
             "#7201a8"
            ],
            [
             0.3333333333333333,
             "#9c179e"
            ],
            [
             0.4444444444444444,
             "#bd3786"
            ],
            [
             0.5555555555555556,
             "#d8576b"
            ],
            [
             0.6666666666666666,
             "#ed7953"
            ],
            [
             0.7777777777777778,
             "#fb9f3a"
            ],
            [
             0.8888888888888888,
             "#fdca26"
            ],
            [
             1,
             "#f0f921"
            ]
           ],
           "sequentialminus": [
            [
             0,
             "#0d0887"
            ],
            [
             0.1111111111111111,
             "#46039f"
            ],
            [
             0.2222222222222222,
             "#7201a8"
            ],
            [
             0.3333333333333333,
             "#9c179e"
            ],
            [
             0.4444444444444444,
             "#bd3786"
            ],
            [
             0.5555555555555556,
             "#d8576b"
            ],
            [
             0.6666666666666666,
             "#ed7953"
            ],
            [
             0.7777777777777778,
             "#fb9f3a"
            ],
            [
             0.8888888888888888,
             "#fdca26"
            ],
            [
             1,
             "#f0f921"
            ]
           ]
          },
          "colorway": [
           "#636efa",
           "#EF553B",
           "#00cc96",
           "#ab63fa",
           "#FFA15A",
           "#19d3f3",
           "#FF6692",
           "#B6E880",
           "#FF97FF",
           "#FECB52"
          ],
          "font": {
           "color": "#2a3f5f"
          },
          "geo": {
           "bgcolor": "white",
           "lakecolor": "white",
           "landcolor": "#E5ECF6",
           "showlakes": true,
           "showland": true,
           "subunitcolor": "white"
          },
          "hoverlabel": {
           "align": "left"
          },
          "hovermode": "closest",
          "mapbox": {
           "style": "light"
          },
          "paper_bgcolor": "white",
          "plot_bgcolor": "#E5ECF6",
          "polar": {
           "angularaxis": {
            "gridcolor": "white",
            "linecolor": "white",
            "ticks": ""
           },
           "bgcolor": "#E5ECF6",
           "radialaxis": {
            "gridcolor": "white",
            "linecolor": "white",
            "ticks": ""
           }
          },
          "scene": {
           "xaxis": {
            "backgroundcolor": "#E5ECF6",
            "gridcolor": "white",
            "gridwidth": 2,
            "linecolor": "white",
            "showbackground": true,
            "ticks": "",
            "zerolinecolor": "white"
           },
           "yaxis": {
            "backgroundcolor": "#E5ECF6",
            "gridcolor": "white",
            "gridwidth": 2,
            "linecolor": "white",
            "showbackground": true,
            "ticks": "",
            "zerolinecolor": "white"
           },
           "zaxis": {
            "backgroundcolor": "#E5ECF6",
            "gridcolor": "white",
            "gridwidth": 2,
            "linecolor": "white",
            "showbackground": true,
            "ticks": "",
            "zerolinecolor": "white"
           }
          },
          "shapedefaults": {
           "line": {
            "color": "#2a3f5f"
           }
          },
          "ternary": {
           "aaxis": {
            "gridcolor": "white",
            "linecolor": "white",
            "ticks": ""
           },
           "baxis": {
            "gridcolor": "white",
            "linecolor": "white",
            "ticks": ""
           },
           "bgcolor": "#E5ECF6",
           "caxis": {
            "gridcolor": "white",
            "linecolor": "white",
            "ticks": ""
           }
          },
          "title": {
           "x": 0.05
          },
          "xaxis": {
           "automargin": true,
           "gridcolor": "white",
           "linecolor": "white",
           "ticks": "",
           "title": {
            "standoff": 15
           },
           "zerolinecolor": "white",
           "zerolinewidth": 2
          },
          "yaxis": {
           "automargin": true,
           "gridcolor": "white",
           "linecolor": "white",
           "ticks": "",
           "title": {
            "standoff": 15
           },
           "zerolinecolor": "white",
           "zerolinewidth": 2
          }
         }
        }
       }
      },
      "text/html": [
       "<div>                            <div id=\"dc745f3f-2b2b-40fc-97f9-22d4cf670436\" class=\"plotly-graph-div\" style=\"height:525px; width:100%;\"></div>            <script type=\"text/javascript\">                require([\"plotly\"], function(Plotly) {                    window.PLOTLYENV=window.PLOTLYENV || {};                                    if (document.getElementById(\"dc745f3f-2b2b-40fc-97f9-22d4cf670436\")) {                    Plotly.newPlot(                        \"dc745f3f-2b2b-40fc-97f9-22d4cf670436\",                        [{\"hoverinfo\": \"label+percent\", \"labels\": [\"sewing\", \"finishing\"], \"marker\": {\"colors\": [\"#ADEFD1FF\", \"#00203FFF\"], \"line\": {\"color\": \"#000000\", \"width\": 2}}, \"textfont\": {\"size\": 20}, \"textinfo\": \"value\", \"type\": \"pie\", \"values\": [940, 257]}],                        {\"template\": {\"data\": {\"bar\": [{\"error_x\": {\"color\": \"#2a3f5f\"}, \"error_y\": {\"color\": \"#2a3f5f\"}, \"marker\": {\"line\": {\"color\": \"#E5ECF6\", \"width\": 0.5}}, \"type\": \"bar\"}], \"barpolar\": [{\"marker\": {\"line\": {\"color\": \"#E5ECF6\", \"width\": 0.5}}, \"type\": \"barpolar\"}], \"carpet\": [{\"aaxis\": {\"endlinecolor\": \"#2a3f5f\", \"gridcolor\": \"white\", \"linecolor\": \"white\", \"minorgridcolor\": \"white\", \"startlinecolor\": \"#2a3f5f\"}, \"baxis\": {\"endlinecolor\": \"#2a3f5f\", \"gridcolor\": \"white\", \"linecolor\": \"white\", \"minorgridcolor\": \"white\", \"startlinecolor\": \"#2a3f5f\"}, \"type\": \"carpet\"}], \"choropleth\": [{\"colorbar\": {\"outlinewidth\": 0, \"ticks\": \"\"}, \"type\": \"choropleth\"}], \"contour\": [{\"colorbar\": {\"outlinewidth\": 0, \"ticks\": \"\"}, \"colorscale\": [[0.0, \"#0d0887\"], [0.1111111111111111, \"#46039f\"], [0.2222222222222222, \"#7201a8\"], [0.3333333333333333, \"#9c179e\"], [0.4444444444444444, \"#bd3786\"], [0.5555555555555556, \"#d8576b\"], [0.6666666666666666, \"#ed7953\"], [0.7777777777777778, \"#fb9f3a\"], [0.8888888888888888, \"#fdca26\"], [1.0, \"#f0f921\"]], \"type\": \"contour\"}], \"contourcarpet\": [{\"colorbar\": {\"outlinewidth\": 0, \"ticks\": \"\"}, \"type\": \"contourcarpet\"}], \"heatmap\": [{\"colorbar\": {\"outlinewidth\": 0, \"ticks\": \"\"}, \"colorscale\": [[0.0, \"#0d0887\"], [0.1111111111111111, \"#46039f\"], [0.2222222222222222, \"#7201a8\"], [0.3333333333333333, \"#9c179e\"], [0.4444444444444444, \"#bd3786\"], [0.5555555555555556, \"#d8576b\"], [0.6666666666666666, \"#ed7953\"], [0.7777777777777778, \"#fb9f3a\"], [0.8888888888888888, \"#fdca26\"], [1.0, \"#f0f921\"]], \"type\": \"heatmap\"}], \"heatmapgl\": [{\"colorbar\": {\"outlinewidth\": 0, \"ticks\": \"\"}, \"colorscale\": [[0.0, \"#0d0887\"], [0.1111111111111111, \"#46039f\"], [0.2222222222222222, \"#7201a8\"], [0.3333333333333333, \"#9c179e\"], [0.4444444444444444, \"#bd3786\"], [0.5555555555555556, \"#d8576b\"], [0.6666666666666666, \"#ed7953\"], [0.7777777777777778, \"#fb9f3a\"], [0.8888888888888888, \"#fdca26\"], [1.0, \"#f0f921\"]], \"type\": \"heatmapgl\"}], \"histogram\": [{\"marker\": {\"colorbar\": {\"outlinewidth\": 0, \"ticks\": \"\"}}, \"type\": \"histogram\"}], \"histogram2d\": [{\"colorbar\": {\"outlinewidth\": 0, \"ticks\": \"\"}, \"colorscale\": [[0.0, \"#0d0887\"], [0.1111111111111111, \"#46039f\"], [0.2222222222222222, \"#7201a8\"], [0.3333333333333333, \"#9c179e\"], [0.4444444444444444, \"#bd3786\"], [0.5555555555555556, \"#d8576b\"], [0.6666666666666666, \"#ed7953\"], [0.7777777777777778, \"#fb9f3a\"], [0.8888888888888888, \"#fdca26\"], [1.0, \"#f0f921\"]], \"type\": \"histogram2d\"}], \"histogram2dcontour\": [{\"colorbar\": {\"outlinewidth\": 0, \"ticks\": \"\"}, \"colorscale\": [[0.0, \"#0d0887\"], [0.1111111111111111, \"#46039f\"], [0.2222222222222222, \"#7201a8\"], [0.3333333333333333, \"#9c179e\"], [0.4444444444444444, \"#bd3786\"], [0.5555555555555556, \"#d8576b\"], [0.6666666666666666, \"#ed7953\"], [0.7777777777777778, \"#fb9f3a\"], [0.8888888888888888, \"#fdca26\"], [1.0, \"#f0f921\"]], \"type\": \"histogram2dcontour\"}], \"mesh3d\": [{\"colorbar\": {\"outlinewidth\": 0, \"ticks\": \"\"}, \"type\": \"mesh3d\"}], \"parcoords\": [{\"line\": {\"colorbar\": {\"outlinewidth\": 0, \"ticks\": \"\"}}, \"type\": \"parcoords\"}], \"pie\": [{\"automargin\": true, \"type\": \"pie\"}], \"scatter\": [{\"marker\": {\"colorbar\": {\"outlinewidth\": 0, \"ticks\": \"\"}}, \"type\": \"scatter\"}], \"scatter3d\": [{\"line\": {\"colorbar\": {\"outlinewidth\": 0, \"ticks\": \"\"}}, \"marker\": {\"colorbar\": {\"outlinewidth\": 0, \"ticks\": \"\"}}, \"type\": \"scatter3d\"}], \"scattercarpet\": [{\"marker\": {\"colorbar\": {\"outlinewidth\": 0, \"ticks\": \"\"}}, \"type\": \"scattercarpet\"}], \"scattergeo\": [{\"marker\": {\"colorbar\": {\"outlinewidth\": 0, \"ticks\": \"\"}}, \"type\": \"scattergeo\"}], \"scattergl\": [{\"marker\": {\"colorbar\": {\"outlinewidth\": 0, \"ticks\": \"\"}}, \"type\": \"scattergl\"}], \"scattermapbox\": [{\"marker\": {\"colorbar\": {\"outlinewidth\": 0, \"ticks\": \"\"}}, \"type\": \"scattermapbox\"}], \"scatterpolar\": [{\"marker\": {\"colorbar\": {\"outlinewidth\": 0, \"ticks\": \"\"}}, \"type\": \"scatterpolar\"}], \"scatterpolargl\": [{\"marker\": {\"colorbar\": {\"outlinewidth\": 0, \"ticks\": \"\"}}, \"type\": \"scatterpolargl\"}], \"scatterternary\": [{\"marker\": {\"colorbar\": {\"outlinewidth\": 0, \"ticks\": \"\"}}, \"type\": \"scatterternary\"}], \"surface\": [{\"colorbar\": {\"outlinewidth\": 0, \"ticks\": \"\"}, \"colorscale\": [[0.0, \"#0d0887\"], [0.1111111111111111, \"#46039f\"], [0.2222222222222222, \"#7201a8\"], [0.3333333333333333, \"#9c179e\"], [0.4444444444444444, \"#bd3786\"], [0.5555555555555556, \"#d8576b\"], [0.6666666666666666, \"#ed7953\"], [0.7777777777777778, \"#fb9f3a\"], [0.8888888888888888, \"#fdca26\"], [1.0, \"#f0f921\"]], \"type\": \"surface\"}], \"table\": [{\"cells\": {\"fill\": {\"color\": \"#EBF0F8\"}, \"line\": {\"color\": \"white\"}}, \"header\": {\"fill\": {\"color\": \"#C8D4E3\"}, \"line\": {\"color\": \"white\"}}, \"type\": \"table\"}]}, \"layout\": {\"annotationdefaults\": {\"arrowcolor\": \"#2a3f5f\", \"arrowhead\": 0, \"arrowwidth\": 1}, \"autotypenumbers\": \"strict\", \"coloraxis\": {\"colorbar\": {\"outlinewidth\": 0, \"ticks\": \"\"}}, \"colorscale\": {\"diverging\": [[0, \"#8e0152\"], [0.1, \"#c51b7d\"], [0.2, \"#de77ae\"], [0.3, \"#f1b6da\"], [0.4, \"#fde0ef\"], [0.5, \"#f7f7f7\"], [0.6, \"#e6f5d0\"], [0.7, \"#b8e186\"], [0.8, \"#7fbc41\"], [0.9, \"#4d9221\"], [1, \"#276419\"]], \"sequential\": [[0.0, \"#0d0887\"], [0.1111111111111111, \"#46039f\"], [0.2222222222222222, \"#7201a8\"], [0.3333333333333333, \"#9c179e\"], [0.4444444444444444, \"#bd3786\"], [0.5555555555555556, \"#d8576b\"], [0.6666666666666666, \"#ed7953\"], [0.7777777777777778, \"#fb9f3a\"], [0.8888888888888888, \"#fdca26\"], [1.0, \"#f0f921\"]], \"sequentialminus\": [[0.0, \"#0d0887\"], [0.1111111111111111, \"#46039f\"], [0.2222222222222222, \"#7201a8\"], [0.3333333333333333, \"#9c179e\"], [0.4444444444444444, \"#bd3786\"], [0.5555555555555556, \"#d8576b\"], [0.6666666666666666, \"#ed7953\"], [0.7777777777777778, \"#fb9f3a\"], [0.8888888888888888, \"#fdca26\"], [1.0, \"#f0f921\"]]}, \"colorway\": [\"#636efa\", \"#EF553B\", \"#00cc96\", \"#ab63fa\", \"#FFA15A\", \"#19d3f3\", \"#FF6692\", \"#B6E880\", \"#FF97FF\", \"#FECB52\"], \"font\": {\"color\": \"#2a3f5f\"}, \"geo\": {\"bgcolor\": \"white\", \"lakecolor\": \"white\", \"landcolor\": \"#E5ECF6\", \"showlakes\": true, \"showland\": true, \"subunitcolor\": \"white\"}, \"hoverlabel\": {\"align\": \"left\"}, \"hovermode\": \"closest\", \"mapbox\": {\"style\": \"light\"}, \"paper_bgcolor\": \"white\", \"plot_bgcolor\": \"#E5ECF6\", \"polar\": {\"angularaxis\": {\"gridcolor\": \"white\", \"linecolor\": \"white\", \"ticks\": \"\"}, \"bgcolor\": \"#E5ECF6\", \"radialaxis\": {\"gridcolor\": \"white\", \"linecolor\": \"white\", \"ticks\": \"\"}}, \"scene\": {\"xaxis\": {\"backgroundcolor\": \"#E5ECF6\", \"gridcolor\": \"white\", \"gridwidth\": 2, \"linecolor\": \"white\", \"showbackground\": true, \"ticks\": \"\", \"zerolinecolor\": \"white\"}, \"yaxis\": {\"backgroundcolor\": \"#E5ECF6\", \"gridcolor\": \"white\", \"gridwidth\": 2, \"linecolor\": \"white\", \"showbackground\": true, \"ticks\": \"\", \"zerolinecolor\": \"white\"}, \"zaxis\": {\"backgroundcolor\": \"#E5ECF6\", \"gridcolor\": \"white\", \"gridwidth\": 2, \"linecolor\": \"white\", \"showbackground\": true, \"ticks\": \"\", \"zerolinecolor\": \"white\"}}, \"shapedefaults\": {\"line\": {\"color\": \"#2a3f5f\"}}, \"ternary\": {\"aaxis\": {\"gridcolor\": \"white\", \"linecolor\": \"white\", \"ticks\": \"\"}, \"baxis\": {\"gridcolor\": \"white\", \"linecolor\": \"white\", \"ticks\": \"\"}, \"bgcolor\": \"#E5ECF6\", \"caxis\": {\"gridcolor\": \"white\", \"linecolor\": \"white\", \"ticks\": \"\"}}, \"title\": {\"x\": 0.05}, \"xaxis\": {\"automargin\": true, \"gridcolor\": \"white\", \"linecolor\": \"white\", \"ticks\": \"\", \"title\": {\"standoff\": 15}, \"zerolinecolor\": \"white\", \"zerolinewidth\": 2}, \"yaxis\": {\"automargin\": true, \"gridcolor\": \"white\", \"linecolor\": \"white\", \"ticks\": \"\", \"title\": {\"standoff\": 15}, \"zerolinecolor\": \"white\", \"zerolinewidth\": 2}}}},                        {\"responsive\": true}                    ).then(function(){\n",
       "                            \n",
       "var gd = document.getElementById('dc745f3f-2b2b-40fc-97f9-22d4cf670436');\n",
       "var x = new MutationObserver(function (mutations, observer) {{\n",
       "        var display = window.getComputedStyle(gd).display;\n",
       "        if (!display || display === 'none') {{\n",
       "            console.log([gd, 'removed!']);\n",
       "            Plotly.purge(gd);\n",
       "            observer.disconnect();\n",
       "        }}\n",
       "}});\n",
       "\n",
       "// Listen for the removal of the full notebook cells\n",
       "var notebookContainer = gd.closest('#notebook-container');\n",
       "if (notebookContainer) {{\n",
       "    x.observe(notebookContainer, {childList: true});\n",
       "}}\n",
       "\n",
       "// Listen for the clearing of the current output cell\n",
       "var outputEl = gd.closest('.output');\n",
       "if (outputEl) {{\n",
       "    x.observe(outputEl, {childList: true});\n",
       "}}\n",
       "\n",
       "                        })                };                });            </script>        </div>"
      ]
     },
     "metadata": {},
     "output_type": "display_data"
    }
   ],
   "source": [
    "#Data analysis\n",
    "\n",
    "fig = go.Figure(data=[go.Pie(labels=dept.department.to_list(),\n",
    "                             values=dept.total_num.to_list())])\n",
    "fig.update_traces(hoverinfo='label+percent', textinfo='value', textfont_size=20,\n",
    "                  marker=dict(colors=['#ADEFD1FF', '#00203FFF'], line=dict(color='#000000', width=2)))\n",
    "fig.show()"
   ]
  },
  {
   "cell_type": "code",
   "execution_count": 30,
   "id": "d9e84210",
   "metadata": {},
   "outputs": [
    {
     "data": {
      "application/vnd.plotly.v1+json": {
       "config": {
        "plotlyServerURL": "https://plot.ly"
       },
       "data": [
        {
         "hole": 0.3,
         "labels": [
          "Quarter1",
          "Quarter2",
          "Quarter4",
          "Quarter3",
          "Quarter5"
         ],
         "pull": [
          0,
          0,
          0,
          0,
          0.4
         ],
         "type": "pie",
         "values": [
          360,
          335,
          248,
          210,
          44
         ]
        }
       ],
       "layout": {
        "template": {
         "data": {
          "bar": [
           {
            "error_x": {
             "color": "#2a3f5f"
            },
            "error_y": {
             "color": "#2a3f5f"
            },
            "marker": {
             "line": {
              "color": "#E5ECF6",
              "width": 0.5
             }
            },
            "type": "bar"
           }
          ],
          "barpolar": [
           {
            "marker": {
             "line": {
              "color": "#E5ECF6",
              "width": 0.5
             }
            },
            "type": "barpolar"
           }
          ],
          "carpet": [
           {
            "aaxis": {
             "endlinecolor": "#2a3f5f",
             "gridcolor": "white",
             "linecolor": "white",
             "minorgridcolor": "white",
             "startlinecolor": "#2a3f5f"
            },
            "baxis": {
             "endlinecolor": "#2a3f5f",
             "gridcolor": "white",
             "linecolor": "white",
             "minorgridcolor": "white",
             "startlinecolor": "#2a3f5f"
            },
            "type": "carpet"
           }
          ],
          "choropleth": [
           {
            "colorbar": {
             "outlinewidth": 0,
             "ticks": ""
            },
            "type": "choropleth"
           }
          ],
          "contour": [
           {
            "colorbar": {
             "outlinewidth": 0,
             "ticks": ""
            },
            "colorscale": [
             [
              0,
              "#0d0887"
             ],
             [
              0.1111111111111111,
              "#46039f"
             ],
             [
              0.2222222222222222,
              "#7201a8"
             ],
             [
              0.3333333333333333,
              "#9c179e"
             ],
             [
              0.4444444444444444,
              "#bd3786"
             ],
             [
              0.5555555555555556,
              "#d8576b"
             ],
             [
              0.6666666666666666,
              "#ed7953"
             ],
             [
              0.7777777777777778,
              "#fb9f3a"
             ],
             [
              0.8888888888888888,
              "#fdca26"
             ],
             [
              1,
              "#f0f921"
             ]
            ],
            "type": "contour"
           }
          ],
          "contourcarpet": [
           {
            "colorbar": {
             "outlinewidth": 0,
             "ticks": ""
            },
            "type": "contourcarpet"
           }
          ],
          "heatmap": [
           {
            "colorbar": {
             "outlinewidth": 0,
             "ticks": ""
            },
            "colorscale": [
             [
              0,
              "#0d0887"
             ],
             [
              0.1111111111111111,
              "#46039f"
             ],
             [
              0.2222222222222222,
              "#7201a8"
             ],
             [
              0.3333333333333333,
              "#9c179e"
             ],
             [
              0.4444444444444444,
              "#bd3786"
             ],
             [
              0.5555555555555556,
              "#d8576b"
             ],
             [
              0.6666666666666666,
              "#ed7953"
             ],
             [
              0.7777777777777778,
              "#fb9f3a"
             ],
             [
              0.8888888888888888,
              "#fdca26"
             ],
             [
              1,
              "#f0f921"
             ]
            ],
            "type": "heatmap"
           }
          ],
          "heatmapgl": [
           {
            "colorbar": {
             "outlinewidth": 0,
             "ticks": ""
            },
            "colorscale": [
             [
              0,
              "#0d0887"
             ],
             [
              0.1111111111111111,
              "#46039f"
             ],
             [
              0.2222222222222222,
              "#7201a8"
             ],
             [
              0.3333333333333333,
              "#9c179e"
             ],
             [
              0.4444444444444444,
              "#bd3786"
             ],
             [
              0.5555555555555556,
              "#d8576b"
             ],
             [
              0.6666666666666666,
              "#ed7953"
             ],
             [
              0.7777777777777778,
              "#fb9f3a"
             ],
             [
              0.8888888888888888,
              "#fdca26"
             ],
             [
              1,
              "#f0f921"
             ]
            ],
            "type": "heatmapgl"
           }
          ],
          "histogram": [
           {
            "marker": {
             "colorbar": {
              "outlinewidth": 0,
              "ticks": ""
             }
            },
            "type": "histogram"
           }
          ],
          "histogram2d": [
           {
            "colorbar": {
             "outlinewidth": 0,
             "ticks": ""
            },
            "colorscale": [
             [
              0,
              "#0d0887"
             ],
             [
              0.1111111111111111,
              "#46039f"
             ],
             [
              0.2222222222222222,
              "#7201a8"
             ],
             [
              0.3333333333333333,
              "#9c179e"
             ],
             [
              0.4444444444444444,
              "#bd3786"
             ],
             [
              0.5555555555555556,
              "#d8576b"
             ],
             [
              0.6666666666666666,
              "#ed7953"
             ],
             [
              0.7777777777777778,
              "#fb9f3a"
             ],
             [
              0.8888888888888888,
              "#fdca26"
             ],
             [
              1,
              "#f0f921"
             ]
            ],
            "type": "histogram2d"
           }
          ],
          "histogram2dcontour": [
           {
            "colorbar": {
             "outlinewidth": 0,
             "ticks": ""
            },
            "colorscale": [
             [
              0,
              "#0d0887"
             ],
             [
              0.1111111111111111,
              "#46039f"
             ],
             [
              0.2222222222222222,
              "#7201a8"
             ],
             [
              0.3333333333333333,
              "#9c179e"
             ],
             [
              0.4444444444444444,
              "#bd3786"
             ],
             [
              0.5555555555555556,
              "#d8576b"
             ],
             [
              0.6666666666666666,
              "#ed7953"
             ],
             [
              0.7777777777777778,
              "#fb9f3a"
             ],
             [
              0.8888888888888888,
              "#fdca26"
             ],
             [
              1,
              "#f0f921"
             ]
            ],
            "type": "histogram2dcontour"
           }
          ],
          "mesh3d": [
           {
            "colorbar": {
             "outlinewidth": 0,
             "ticks": ""
            },
            "type": "mesh3d"
           }
          ],
          "parcoords": [
           {
            "line": {
             "colorbar": {
              "outlinewidth": 0,
              "ticks": ""
             }
            },
            "type": "parcoords"
           }
          ],
          "pie": [
           {
            "automargin": true,
            "type": "pie"
           }
          ],
          "scatter": [
           {
            "marker": {
             "colorbar": {
              "outlinewidth": 0,
              "ticks": ""
             }
            },
            "type": "scatter"
           }
          ],
          "scatter3d": [
           {
            "line": {
             "colorbar": {
              "outlinewidth": 0,
              "ticks": ""
             }
            },
            "marker": {
             "colorbar": {
              "outlinewidth": 0,
              "ticks": ""
             }
            },
            "type": "scatter3d"
           }
          ],
          "scattercarpet": [
           {
            "marker": {
             "colorbar": {
              "outlinewidth": 0,
              "ticks": ""
             }
            },
            "type": "scattercarpet"
           }
          ],
          "scattergeo": [
           {
            "marker": {
             "colorbar": {
              "outlinewidth": 0,
              "ticks": ""
             }
            },
            "type": "scattergeo"
           }
          ],
          "scattergl": [
           {
            "marker": {
             "colorbar": {
              "outlinewidth": 0,
              "ticks": ""
             }
            },
            "type": "scattergl"
           }
          ],
          "scattermapbox": [
           {
            "marker": {
             "colorbar": {
              "outlinewidth": 0,
              "ticks": ""
             }
            },
            "type": "scattermapbox"
           }
          ],
          "scatterpolar": [
           {
            "marker": {
             "colorbar": {
              "outlinewidth": 0,
              "ticks": ""
             }
            },
            "type": "scatterpolar"
           }
          ],
          "scatterpolargl": [
           {
            "marker": {
             "colorbar": {
              "outlinewidth": 0,
              "ticks": ""
             }
            },
            "type": "scatterpolargl"
           }
          ],
          "scatterternary": [
           {
            "marker": {
             "colorbar": {
              "outlinewidth": 0,
              "ticks": ""
             }
            },
            "type": "scatterternary"
           }
          ],
          "surface": [
           {
            "colorbar": {
             "outlinewidth": 0,
             "ticks": ""
            },
            "colorscale": [
             [
              0,
              "#0d0887"
             ],
             [
              0.1111111111111111,
              "#46039f"
             ],
             [
              0.2222222222222222,
              "#7201a8"
             ],
             [
              0.3333333333333333,
              "#9c179e"
             ],
             [
              0.4444444444444444,
              "#bd3786"
             ],
             [
              0.5555555555555556,
              "#d8576b"
             ],
             [
              0.6666666666666666,
              "#ed7953"
             ],
             [
              0.7777777777777778,
              "#fb9f3a"
             ],
             [
              0.8888888888888888,
              "#fdca26"
             ],
             [
              1,
              "#f0f921"
             ]
            ],
            "type": "surface"
           }
          ],
          "table": [
           {
            "cells": {
             "fill": {
              "color": "#EBF0F8"
             },
             "line": {
              "color": "white"
             }
            },
            "header": {
             "fill": {
              "color": "#C8D4E3"
             },
             "line": {
              "color": "white"
             }
            },
            "type": "table"
           }
          ]
         },
         "layout": {
          "annotationdefaults": {
           "arrowcolor": "#2a3f5f",
           "arrowhead": 0,
           "arrowwidth": 1
          },
          "autotypenumbers": "strict",
          "coloraxis": {
           "colorbar": {
            "outlinewidth": 0,
            "ticks": ""
           }
          },
          "colorscale": {
           "diverging": [
            [
             0,
             "#8e0152"
            ],
            [
             0.1,
             "#c51b7d"
            ],
            [
             0.2,
             "#de77ae"
            ],
            [
             0.3,
             "#f1b6da"
            ],
            [
             0.4,
             "#fde0ef"
            ],
            [
             0.5,
             "#f7f7f7"
            ],
            [
             0.6,
             "#e6f5d0"
            ],
            [
             0.7,
             "#b8e186"
            ],
            [
             0.8,
             "#7fbc41"
            ],
            [
             0.9,
             "#4d9221"
            ],
            [
             1,
             "#276419"
            ]
           ],
           "sequential": [
            [
             0,
             "#0d0887"
            ],
            [
             0.1111111111111111,
             "#46039f"
            ],
            [
             0.2222222222222222,
             "#7201a8"
            ],
            [
             0.3333333333333333,
             "#9c179e"
            ],
            [
             0.4444444444444444,
             "#bd3786"
            ],
            [
             0.5555555555555556,
             "#d8576b"
            ],
            [
             0.6666666666666666,
             "#ed7953"
            ],
            [
             0.7777777777777778,
             "#fb9f3a"
            ],
            [
             0.8888888888888888,
             "#fdca26"
            ],
            [
             1,
             "#f0f921"
            ]
           ],
           "sequentialminus": [
            [
             0,
             "#0d0887"
            ],
            [
             0.1111111111111111,
             "#46039f"
            ],
            [
             0.2222222222222222,
             "#7201a8"
            ],
            [
             0.3333333333333333,
             "#9c179e"
            ],
            [
             0.4444444444444444,
             "#bd3786"
            ],
            [
             0.5555555555555556,
             "#d8576b"
            ],
            [
             0.6666666666666666,
             "#ed7953"
            ],
            [
             0.7777777777777778,
             "#fb9f3a"
            ],
            [
             0.8888888888888888,
             "#fdca26"
            ],
            [
             1,
             "#f0f921"
            ]
           ]
          },
          "colorway": [
           "#636efa",
           "#EF553B",
           "#00cc96",
           "#ab63fa",
           "#FFA15A",
           "#19d3f3",
           "#FF6692",
           "#B6E880",
           "#FF97FF",
           "#FECB52"
          ],
          "font": {
           "color": "#2a3f5f"
          },
          "geo": {
           "bgcolor": "white",
           "lakecolor": "white",
           "landcolor": "#E5ECF6",
           "showlakes": true,
           "showland": true,
           "subunitcolor": "white"
          },
          "hoverlabel": {
           "align": "left"
          },
          "hovermode": "closest",
          "mapbox": {
           "style": "light"
          },
          "paper_bgcolor": "white",
          "plot_bgcolor": "#E5ECF6",
          "polar": {
           "angularaxis": {
            "gridcolor": "white",
            "linecolor": "white",
            "ticks": ""
           },
           "bgcolor": "#E5ECF6",
           "radialaxis": {
            "gridcolor": "white",
            "linecolor": "white",
            "ticks": ""
           }
          },
          "scene": {
           "xaxis": {
            "backgroundcolor": "#E5ECF6",
            "gridcolor": "white",
            "gridwidth": 2,
            "linecolor": "white",
            "showbackground": true,
            "ticks": "",
            "zerolinecolor": "white"
           },
           "yaxis": {
            "backgroundcolor": "#E5ECF6",
            "gridcolor": "white",
            "gridwidth": 2,
            "linecolor": "white",
            "showbackground": true,
            "ticks": "",
            "zerolinecolor": "white"
           },
           "zaxis": {
            "backgroundcolor": "#E5ECF6",
            "gridcolor": "white",
            "gridwidth": 2,
            "linecolor": "white",
            "showbackground": true,
            "ticks": "",
            "zerolinecolor": "white"
           }
          },
          "shapedefaults": {
           "line": {
            "color": "#2a3f5f"
           }
          },
          "ternary": {
           "aaxis": {
            "gridcolor": "white",
            "linecolor": "white",
            "ticks": ""
           },
           "baxis": {
            "gridcolor": "white",
            "linecolor": "white",
            "ticks": ""
           },
           "bgcolor": "#E5ECF6",
           "caxis": {
            "gridcolor": "white",
            "linecolor": "white",
            "ticks": ""
           }
          },
          "title": {
           "x": 0.05
          },
          "xaxis": {
           "automargin": true,
           "gridcolor": "white",
           "linecolor": "white",
           "ticks": "",
           "title": {
            "standoff": 15
           },
           "zerolinecolor": "white",
           "zerolinewidth": 2
          },
          "yaxis": {
           "automargin": true,
           "gridcolor": "white",
           "linecolor": "white",
           "ticks": "",
           "title": {
            "standoff": 15
           },
           "zerolinecolor": "white",
           "zerolinewidth": 2
          }
         }
        }
       }
      },
      "text/html": [
       "<div>                            <div id=\"2d8f5f9f-a9b1-4e90-89d8-129384de09b7\" class=\"plotly-graph-div\" style=\"height:525px; width:100%;\"></div>            <script type=\"text/javascript\">                require([\"plotly\"], function(Plotly) {                    window.PLOTLYENV=window.PLOTLYENV || {};                                    if (document.getElementById(\"2d8f5f9f-a9b1-4e90-89d8-129384de09b7\")) {                    Plotly.newPlot(                        \"2d8f5f9f-a9b1-4e90-89d8-129384de09b7\",                        [{\"hole\": 0.3, \"labels\": [\"Quarter1\", \"Quarter2\", \"Quarter4\", \"Quarter3\", \"Quarter5\"], \"pull\": [0, 0, 0, 0, 0.4], \"type\": \"pie\", \"values\": [360, 335, 248, 210, 44]}],                        {\"template\": {\"data\": {\"bar\": [{\"error_x\": {\"color\": \"#2a3f5f\"}, \"error_y\": {\"color\": \"#2a3f5f\"}, \"marker\": {\"line\": {\"color\": \"#E5ECF6\", \"width\": 0.5}}, \"type\": \"bar\"}], \"barpolar\": [{\"marker\": {\"line\": {\"color\": \"#E5ECF6\", \"width\": 0.5}}, \"type\": \"barpolar\"}], \"carpet\": [{\"aaxis\": {\"endlinecolor\": \"#2a3f5f\", \"gridcolor\": \"white\", \"linecolor\": \"white\", \"minorgridcolor\": \"white\", \"startlinecolor\": \"#2a3f5f\"}, \"baxis\": {\"endlinecolor\": \"#2a3f5f\", \"gridcolor\": \"white\", \"linecolor\": \"white\", \"minorgridcolor\": \"white\", \"startlinecolor\": \"#2a3f5f\"}, \"type\": \"carpet\"}], \"choropleth\": [{\"colorbar\": {\"outlinewidth\": 0, \"ticks\": \"\"}, \"type\": \"choropleth\"}], \"contour\": [{\"colorbar\": {\"outlinewidth\": 0, \"ticks\": \"\"}, \"colorscale\": [[0.0, \"#0d0887\"], [0.1111111111111111, \"#46039f\"], [0.2222222222222222, \"#7201a8\"], [0.3333333333333333, \"#9c179e\"], [0.4444444444444444, \"#bd3786\"], [0.5555555555555556, \"#d8576b\"], [0.6666666666666666, \"#ed7953\"], [0.7777777777777778, \"#fb9f3a\"], [0.8888888888888888, \"#fdca26\"], [1.0, \"#f0f921\"]], \"type\": \"contour\"}], \"contourcarpet\": [{\"colorbar\": {\"outlinewidth\": 0, \"ticks\": \"\"}, \"type\": \"contourcarpet\"}], \"heatmap\": [{\"colorbar\": {\"outlinewidth\": 0, \"ticks\": \"\"}, \"colorscale\": [[0.0, \"#0d0887\"], [0.1111111111111111, \"#46039f\"], [0.2222222222222222, \"#7201a8\"], [0.3333333333333333, \"#9c179e\"], [0.4444444444444444, \"#bd3786\"], [0.5555555555555556, \"#d8576b\"], [0.6666666666666666, \"#ed7953\"], [0.7777777777777778, \"#fb9f3a\"], [0.8888888888888888, \"#fdca26\"], [1.0, \"#f0f921\"]], \"type\": \"heatmap\"}], \"heatmapgl\": [{\"colorbar\": {\"outlinewidth\": 0, \"ticks\": \"\"}, \"colorscale\": [[0.0, \"#0d0887\"], [0.1111111111111111, \"#46039f\"], [0.2222222222222222, \"#7201a8\"], [0.3333333333333333, \"#9c179e\"], [0.4444444444444444, \"#bd3786\"], [0.5555555555555556, \"#d8576b\"], [0.6666666666666666, \"#ed7953\"], [0.7777777777777778, \"#fb9f3a\"], [0.8888888888888888, \"#fdca26\"], [1.0, \"#f0f921\"]], \"type\": \"heatmapgl\"}], \"histogram\": [{\"marker\": {\"colorbar\": {\"outlinewidth\": 0, \"ticks\": \"\"}}, \"type\": \"histogram\"}], \"histogram2d\": [{\"colorbar\": {\"outlinewidth\": 0, \"ticks\": \"\"}, \"colorscale\": [[0.0, \"#0d0887\"], [0.1111111111111111, \"#46039f\"], [0.2222222222222222, \"#7201a8\"], [0.3333333333333333, \"#9c179e\"], [0.4444444444444444, \"#bd3786\"], [0.5555555555555556, \"#d8576b\"], [0.6666666666666666, \"#ed7953\"], [0.7777777777777778, \"#fb9f3a\"], [0.8888888888888888, \"#fdca26\"], [1.0, \"#f0f921\"]], \"type\": \"histogram2d\"}], \"histogram2dcontour\": [{\"colorbar\": {\"outlinewidth\": 0, \"ticks\": \"\"}, \"colorscale\": [[0.0, \"#0d0887\"], [0.1111111111111111, \"#46039f\"], [0.2222222222222222, \"#7201a8\"], [0.3333333333333333, \"#9c179e\"], [0.4444444444444444, \"#bd3786\"], [0.5555555555555556, \"#d8576b\"], [0.6666666666666666, \"#ed7953\"], [0.7777777777777778, \"#fb9f3a\"], [0.8888888888888888, \"#fdca26\"], [1.0, \"#f0f921\"]], \"type\": \"histogram2dcontour\"}], \"mesh3d\": [{\"colorbar\": {\"outlinewidth\": 0, \"ticks\": \"\"}, \"type\": \"mesh3d\"}], \"parcoords\": [{\"line\": {\"colorbar\": {\"outlinewidth\": 0, \"ticks\": \"\"}}, \"type\": \"parcoords\"}], \"pie\": [{\"automargin\": true, \"type\": \"pie\"}], \"scatter\": [{\"marker\": {\"colorbar\": {\"outlinewidth\": 0, \"ticks\": \"\"}}, \"type\": \"scatter\"}], \"scatter3d\": [{\"line\": {\"colorbar\": {\"outlinewidth\": 0, \"ticks\": \"\"}}, \"marker\": {\"colorbar\": {\"outlinewidth\": 0, \"ticks\": \"\"}}, \"type\": \"scatter3d\"}], \"scattercarpet\": [{\"marker\": {\"colorbar\": {\"outlinewidth\": 0, \"ticks\": \"\"}}, \"type\": \"scattercarpet\"}], \"scattergeo\": [{\"marker\": {\"colorbar\": {\"outlinewidth\": 0, \"ticks\": \"\"}}, \"type\": \"scattergeo\"}], \"scattergl\": [{\"marker\": {\"colorbar\": {\"outlinewidth\": 0, \"ticks\": \"\"}}, \"type\": \"scattergl\"}], \"scattermapbox\": [{\"marker\": {\"colorbar\": {\"outlinewidth\": 0, \"ticks\": \"\"}}, \"type\": \"scattermapbox\"}], \"scatterpolar\": [{\"marker\": {\"colorbar\": {\"outlinewidth\": 0, \"ticks\": \"\"}}, \"type\": \"scatterpolar\"}], \"scatterpolargl\": [{\"marker\": {\"colorbar\": {\"outlinewidth\": 0, \"ticks\": \"\"}}, \"type\": \"scatterpolargl\"}], \"scatterternary\": [{\"marker\": {\"colorbar\": {\"outlinewidth\": 0, \"ticks\": \"\"}}, \"type\": \"scatterternary\"}], \"surface\": [{\"colorbar\": {\"outlinewidth\": 0, \"ticks\": \"\"}, \"colorscale\": [[0.0, \"#0d0887\"], [0.1111111111111111, \"#46039f\"], [0.2222222222222222, \"#7201a8\"], [0.3333333333333333, \"#9c179e\"], [0.4444444444444444, \"#bd3786\"], [0.5555555555555556, \"#d8576b\"], [0.6666666666666666, \"#ed7953\"], [0.7777777777777778, \"#fb9f3a\"], [0.8888888888888888, \"#fdca26\"], [1.0, \"#f0f921\"]], \"type\": \"surface\"}], \"table\": [{\"cells\": {\"fill\": {\"color\": \"#EBF0F8\"}, \"line\": {\"color\": \"white\"}}, \"header\": {\"fill\": {\"color\": \"#C8D4E3\"}, \"line\": {\"color\": \"white\"}}, \"type\": \"table\"}]}, \"layout\": {\"annotationdefaults\": {\"arrowcolor\": \"#2a3f5f\", \"arrowhead\": 0, \"arrowwidth\": 1}, \"autotypenumbers\": \"strict\", \"coloraxis\": {\"colorbar\": {\"outlinewidth\": 0, \"ticks\": \"\"}}, \"colorscale\": {\"diverging\": [[0, \"#8e0152\"], [0.1, \"#c51b7d\"], [0.2, \"#de77ae\"], [0.3, \"#f1b6da\"], [0.4, \"#fde0ef\"], [0.5, \"#f7f7f7\"], [0.6, \"#e6f5d0\"], [0.7, \"#b8e186\"], [0.8, \"#7fbc41\"], [0.9, \"#4d9221\"], [1, \"#276419\"]], \"sequential\": [[0.0, \"#0d0887\"], [0.1111111111111111, \"#46039f\"], [0.2222222222222222, \"#7201a8\"], [0.3333333333333333, \"#9c179e\"], [0.4444444444444444, \"#bd3786\"], [0.5555555555555556, \"#d8576b\"], [0.6666666666666666, \"#ed7953\"], [0.7777777777777778, \"#fb9f3a\"], [0.8888888888888888, \"#fdca26\"], [1.0, \"#f0f921\"]], \"sequentialminus\": [[0.0, \"#0d0887\"], [0.1111111111111111, \"#46039f\"], [0.2222222222222222, \"#7201a8\"], [0.3333333333333333, \"#9c179e\"], [0.4444444444444444, \"#bd3786\"], [0.5555555555555556, \"#d8576b\"], [0.6666666666666666, \"#ed7953\"], [0.7777777777777778, \"#fb9f3a\"], [0.8888888888888888, \"#fdca26\"], [1.0, \"#f0f921\"]]}, \"colorway\": [\"#636efa\", \"#EF553B\", \"#00cc96\", \"#ab63fa\", \"#FFA15A\", \"#19d3f3\", \"#FF6692\", \"#B6E880\", \"#FF97FF\", \"#FECB52\"], \"font\": {\"color\": \"#2a3f5f\"}, \"geo\": {\"bgcolor\": \"white\", \"lakecolor\": \"white\", \"landcolor\": \"#E5ECF6\", \"showlakes\": true, \"showland\": true, \"subunitcolor\": \"white\"}, \"hoverlabel\": {\"align\": \"left\"}, \"hovermode\": \"closest\", \"mapbox\": {\"style\": \"light\"}, \"paper_bgcolor\": \"white\", \"plot_bgcolor\": \"#E5ECF6\", \"polar\": {\"angularaxis\": {\"gridcolor\": \"white\", \"linecolor\": \"white\", \"ticks\": \"\"}, \"bgcolor\": \"#E5ECF6\", \"radialaxis\": {\"gridcolor\": \"white\", \"linecolor\": \"white\", \"ticks\": \"\"}}, \"scene\": {\"xaxis\": {\"backgroundcolor\": \"#E5ECF6\", \"gridcolor\": \"white\", \"gridwidth\": 2, \"linecolor\": \"white\", \"showbackground\": true, \"ticks\": \"\", \"zerolinecolor\": \"white\"}, \"yaxis\": {\"backgroundcolor\": \"#E5ECF6\", \"gridcolor\": \"white\", \"gridwidth\": 2, \"linecolor\": \"white\", \"showbackground\": true, \"ticks\": \"\", \"zerolinecolor\": \"white\"}, \"zaxis\": {\"backgroundcolor\": \"#E5ECF6\", \"gridcolor\": \"white\", \"gridwidth\": 2, \"linecolor\": \"white\", \"showbackground\": true, \"ticks\": \"\", \"zerolinecolor\": \"white\"}}, \"shapedefaults\": {\"line\": {\"color\": \"#2a3f5f\"}}, \"ternary\": {\"aaxis\": {\"gridcolor\": \"white\", \"linecolor\": \"white\", \"ticks\": \"\"}, \"baxis\": {\"gridcolor\": \"white\", \"linecolor\": \"white\", \"ticks\": \"\"}, \"bgcolor\": \"#E5ECF6\", \"caxis\": {\"gridcolor\": \"white\", \"linecolor\": \"white\", \"ticks\": \"\"}}, \"title\": {\"x\": 0.05}, \"xaxis\": {\"automargin\": true, \"gridcolor\": \"white\", \"linecolor\": \"white\", \"ticks\": \"\", \"title\": {\"standoff\": 15}, \"zerolinecolor\": \"white\", \"zerolinewidth\": 2}, \"yaxis\": {\"automargin\": true, \"gridcolor\": \"white\", \"linecolor\": \"white\", \"ticks\": \"\", \"title\": {\"standoff\": 15}, \"zerolinecolor\": \"white\", \"zerolinewidth\": 2}}}},                        {\"responsive\": true}                    ).then(function(){\n",
       "                            \n",
       "var gd = document.getElementById('2d8f5f9f-a9b1-4e90-89d8-129384de09b7');\n",
       "var x = new MutationObserver(function (mutations, observer) {{\n",
       "        var display = window.getComputedStyle(gd).display;\n",
       "        if (!display || display === 'none') {{\n",
       "            console.log([gd, 'removed!']);\n",
       "            Plotly.purge(gd);\n",
       "            observer.disconnect();\n",
       "        }}\n",
       "}});\n",
       "\n",
       "// Listen for the removal of the full notebook cells\n",
       "var notebookContainer = gd.closest('#notebook-container');\n",
       "if (notebookContainer) {{\n",
       "    x.observe(notebookContainer, {childList: true});\n",
       "}}\n",
       "\n",
       "// Listen for the clearing of the current output cell\n",
       "var outputEl = gd.closest('.output');\n",
       "if (outputEl) {{\n",
       "    x.observe(outputEl, {childList: true});\n",
       "}}\n",
       "\n",
       "                        })                };                });            </script>        </div>"
      ]
     },
     "metadata": {},
     "output_type": "display_data"
    }
   ],
   "source": [
    "#no need this one, for testing purpose\n",
    "qdf = df['quarter'].value_counts().reset_index()\n",
    "qdf.rename(columns={'index': 'quarters', 'quarter': 'days_in_each_quarter'}, inplace=True)\n",
    "fig = go.Figure(data=[go.Pie(labels=qdf.quarters.to_list(), values=qdf.days_in_each_quarter.to_list(), pull=[0, 0, 0, 0, 0.4], hole=.3)])\n",
    "fig.show()"
   ]
  },
  {
   "cell_type": "code",
   "execution_count": 55,
   "id": "6488a2ec",
   "metadata": {},
   "outputs": [
    {
     "data": {
      "application/vnd.plotly.v1+json": {
       "config": {
        "plotlyServerURL": "https://plot.ly"
       },
       "data": [
        {
         "alignmentgroup": "True",
         "bingroup": "x",
         "hovertemplate": "targeted_productivity=%{x}<br>count=%{y}<extra></extra>",
         "legendgroup": "",
         "marker": {
          "color": "rgb(55, 83, 109)"
         },
         "name": "",
         "nbinsx": 20,
         "offsetgroup": "",
         "orientation": "v",
         "showlegend": false,
         "type": "histogram",
         "x": [
          0.8,
          0.75,
          0.8,
          0.8,
          0.8,
          0.8,
          0.75,
          0.75,
          0.75,
          0.75,
          0.7,
          0.75,
          0.8,
          0.65,
          0.75,
          0.75,
          0.8,
          0.65,
          0.7,
          0.8,
          0.75,
          0.8,
          0.75,
          0.8,
          0.8,
          0.8,
          0.8,
          0.8,
          0.8,
          0.8,
          0.8,
          0.8,
          0.75,
          0.8,
          0.75,
          0.7,
          0.7,
          0.7,
          0.8,
          0.8,
          0.75,
          0.8,
          0.8,
          0.8,
          0.8,
          0.8,
          0.8,
          0.8,
          0.8,
          0.8,
          0.8,
          0.8,
          0.8,
          0.7,
          0.75,
          0.75,
          0.7,
          0.8,
          0.8,
          0.7,
          0.75,
          0.8,
          0.8,
          0.8,
          0.75,
          0.8,
          0.8,
          0.8,
          0.8,
          0.8,
          0.8,
          0.8,
          0.8,
          0.8,
          0.8,
          0.8,
          0.75,
          0.6,
          0.75,
          0.75,
          0.8,
          0.8,
          0.6,
          0.8,
          0.8,
          0.75,
          0.8,
          0.8,
          0.8,
          0.8,
          0.75,
          0.8,
          0.8,
          0.8,
          0.8,
          0.8,
          0.8,
          0.8,
          0.8,
          0.75,
          0.75,
          0.8,
          0.65,
          0.8,
          0.8,
          0.8,
          0.8,
          0.8,
          0.8,
          0.75,
          0.8,
          0.8,
          0.75,
          0.8,
          0.8,
          0.8,
          0.8,
          0.8,
          0.8,
          0.8,
          0.75,
          0.7,
          0.8,
          0.8,
          0.8,
          0.7,
          0.8,
          0.8,
          0.8,
          0.8,
          0.8,
          0.8,
          0.8,
          0.8,
          0.8,
          0.7,
          0.8,
          0.8,
          0.8,
          0.8,
          0.75,
          0.75,
          0.8,
          0.75,
          0.8,
          0.8,
          0.35,
          0.7,
          0.8,
          0.75,
          0.8,
          0.8,
          0.8,
          0.8,
          0.8,
          0.8,
          0.8,
          0.8,
          0.8,
          0.8,
          0.8,
          0.8,
          0.8,
          0.8,
          0.75,
          0.5,
          0.8,
          0.8,
          0.5,
          0.5,
          0.75,
          0.8,
          0.8,
          0.8,
          0.8,
          0.8,
          0.8,
          0.8,
          0.8,
          0.8,
          0.8,
          0.8,
          0.8,
          0.8,
          0.8,
          0.8,
          0.8,
          0.5,
          0.6,
          0.8,
          0.8,
          0.8,
          0.6,
          0.8,
          0.35,
          0.8,
          0.8,
          0.8,
          0.8,
          0.8,
          0.8,
          0.8,
          0.8,
          0.65,
          0.8,
          0.8,
          0.8,
          0.8,
          0.8,
          0.8,
          0.65,
          0.65,
          0.8,
          0.8,
          0.35,
          0.8,
          0.35,
          0.8,
          0.8,
          0.8,
          0.8,
          0.8,
          0.8,
          0.8,
          0.8,
          0.65,
          0.8,
          0.8,
          0.8,
          0.8,
          0.8,
          0.8,
          0.8,
          0.8,
          0.7,
          0.7,
          0.5,
          0.35,
          0.8,
          0.35,
          0.8,
          0.8,
          0.65,
          0.8,
          0.8,
          0.8,
          0.8,
          0.8,
          0.8,
          0.8,
          0.8,
          0.7,
          0.8,
          0.6,
          0.5,
          0.35,
          0.8,
          0.8,
          0.8,
          0.35,
          0.8,
          0.8,
          0.65,
          0.8,
          0.8,
          0.8,
          0.8,
          0.8,
          0.8,
          0.8,
          0.7,
          0.8,
          0.5,
          0.65,
          0.8,
          0.6,
          0.5,
          0.5,
          0.65,
          0.8,
          0.8,
          0.8,
          0.8,
          0.8,
          0.8,
          0.8,
          0.8,
          0.8,
          0.8,
          0.6,
          0.7,
          0.8,
          0.8,
          0.65,
          0.6,
          0.6,
          0.8,
          0.7,
          0.8,
          0.6,
          0.65,
          0.8,
          0.8,
          0.8,
          0.8,
          0.8,
          0.7,
          0.7,
          0.8,
          0.8,
          0.65,
          0.65,
          0.65,
          0.8,
          0.6,
          0.8,
          0.8,
          0.7,
          0.7,
          0.8,
          0.65,
          0.8,
          0.8,
          0.8,
          0.8,
          0.7,
          0.7,
          0.7,
          0.7,
          0.7,
          0.8,
          0.65,
          0.8,
          0.5,
          0.7,
          0.7,
          0.35,
          0.7,
          0.8,
          0.8,
          0.8,
          0.7,
          0.7,
          0.7,
          0.7,
          0.8,
          0.7,
          0.7,
          0.8,
          0.5,
          0.35,
          0.7,
          0.75,
          0.7,
          0.75,
          0.8,
          0.8,
          0.8,
          0.7,
          0.7,
          0.7,
          0.7,
          0.7,
          0.7,
          0.65,
          0.6,
          0.8,
          0.8,
          0.65,
          0.5,
          0.7,
          0.6,
          0.75,
          0.75,
          0.7,
          0.8,
          0.75,
          0.7,
          0.7,
          0.7,
          0.7,
          0.7,
          0.75,
          0.7,
          0.7,
          0.8,
          0.6,
          0.6,
          0.8,
          0.5,
          0.7,
          0.8,
          0.6,
          0.7,
          0.75,
          0.8,
          0.75,
          0.75,
          0.75,
          0.75,
          0.65,
          0.7,
          0.7,
          0.75,
          0.8,
          0.75,
          0.75,
          0.75,
          0.7,
          0.75,
          0.65,
          0.6,
          0.75,
          0.7,
          0.35,
          0.6,
          0.7,
          0.75,
          0.7,
          0.75,
          0.75,
          0.75,
          0.75,
          0.75,
          0.7,
          0.75,
          0.8,
          0.75,
          0.65,
          0.7,
          0.7,
          0.7,
          0.65,
          0.7,
          0.75,
          0.5,
          0.8,
          0.75,
          0.75,
          0.75,
          0.7,
          0.75,
          0.7,
          0.8,
          0.8,
          0.75,
          0.75,
          0.7,
          0.75,
          0.7,
          0.75,
          0.7,
          0.7,
          0.65,
          0.6,
          0.35,
          0.75,
          0.75,
          0.8,
          0.8,
          0.5,
          0.8,
          0.75,
          0.8,
          0.65,
          0.7,
          0.5,
          0.75,
          0.75,
          0.75,
          0.7,
          0.7,
          0.65,
          0.8,
          0.8,
          0.5,
          0.5,
          0.8,
          0.8,
          0.35,
          0.75,
          0.8,
          0.8,
          0.75,
          0.8,
          0.6,
          0.8,
          0.75,
          0.7,
          0.75,
          0.8,
          0.65,
          0.5,
          0.7,
          0.35,
          0.6,
          0.6,
          0.5,
          0.8,
          0.8,
          0.8,
          0.8,
          0.8,
          0.5,
          0.65,
          0.6,
          0.8,
          0.75,
          0.75,
          0.7,
          0.65,
          0.8,
          0.75,
          0.75,
          0.6,
          0.5,
          0.8,
          0.65,
          0.8,
          0.8,
          0.8,
          0.8,
          0.8,
          0.8,
          0.75,
          0.75,
          0.75,
          0.7,
          0.7,
          0.65,
          0.65,
          0.6,
          0.8,
          0.8,
          0.75,
          0.75,
          0.75,
          0.7,
          0.65,
          0.6,
          0.7,
          0.5,
          0.65,
          0.8,
          0.8,
          0.75,
          0.8,
          0.8,
          0.7,
          0.8,
          0.8,
          0.8,
          0.8,
          0.75,
          0.75,
          0.75,
          0.7,
          0.65,
          0.6,
          0.7,
          0.6,
          0.8,
          0.75,
          0.8,
          0.8,
          0.8,
          0.8,
          0.8,
          0.8,
          0.8,
          0.75,
          0.75,
          0.7,
          0.7,
          0.65,
          0.75,
          0.5,
          0.7,
          0.6,
          0.65,
          0.8,
          0.8,
          0.8,
          0.8,
          0.7,
          0.8,
          0.8,
          0.75,
          0.8,
          0.8,
          0.8,
          0.75,
          0.7,
          0.7,
          0.7,
          0.7,
          0.8,
          0.7,
          0.6,
          0.8,
          0.8,
          0.8,
          0.8,
          0.8,
          0.7,
          0.8,
          0.8,
          0.8,
          0.7,
          0.75,
          0.7,
          0.7,
          0.7,
          0.7,
          0.8,
          0.65,
          0.7,
          0.35,
          0.8,
          0.8,
          0.8,
          0.8,
          0.8,
          0.7,
          0.8,
          0.7,
          0.8,
          0.8,
          0.8,
          0.8,
          0.75,
          0.7,
          0.7,
          0.07,
          0.5,
          0.7,
          0.8,
          0.8,
          0.8,
          0.8,
          0.8,
          0.8,
          0.8,
          0.75,
          0.8,
          0.8,
          0.8,
          0.75,
          0.75,
          0.7,
          0.7,
          0.6,
          0.7,
          0.8,
          0.7,
          0.8,
          0.7,
          0.8,
          0.8,
          0.8,
          0.8,
          0.8,
          0.8,
          0.7,
          0.8,
          0.8,
          0.75,
          0.75,
          0.7,
          0.75,
          0.8,
          0.65,
          0.7,
          0.7,
          0.8,
          0.8,
          0.8,
          0.8,
          0.8,
          0.75,
          0.8,
          0.8,
          0.8,
          0.7,
          0.75,
          0.35,
          0.7,
          0.8,
          0.75,
          0.35,
          0.35,
          0.8,
          0.8,
          0.8,
          0.8,
          0.8,
          0.8,
          0.8,
          0.8,
          0.8,
          0.8,
          0.7,
          0.75,
          0.8,
          0.75,
          0.35,
          0.7,
          0.8,
          0.75,
          0.5,
          0.5,
          0.7,
          0.8,
          0.8,
          0.8,
          0.35,
          0.8,
          0.7,
          0.8,
          0.8,
          0.8,
          0.8,
          0.75,
          0.6,
          0.7,
          0.8,
          0.6,
          0.8,
          0.8,
          0.35,
          0.8,
          0.7,
          0.8,
          0.8,
          0.8,
          0.35,
          0.75,
          0.8,
          0.8,
          0.8,
          0.7,
          0.8,
          0.7,
          0.65,
          0.5,
          0.8,
          0.65,
          0.8,
          0.35,
          0.8,
          0.7,
          0.75,
          0.8,
          0.8,
          0.8,
          0.8,
          0.75,
          0.75,
          0.7,
          0.7,
          0.7,
          0.6,
          0.8,
          0.5,
          0.8,
          0.8,
          0.8,
          0.8,
          0.8,
          0.8,
          0.8,
          0.75,
          0.8,
          0.6,
          0.7,
          0.7,
          0.75,
          0.65,
          0.7,
          0.8,
          0.75,
          0.6,
          0.8,
          0.75,
          0.5,
          0.8,
          0.8,
          0.8,
          0.5,
          0.65,
          0.8,
          0.8,
          0.8,
          0.75,
          0.75,
          0.75,
          0.7,
          0.75,
          0.7,
          0.7,
          0.6,
          0.6,
          0.7,
          0.8,
          0.8,
          0.7,
          0.8,
          0.8,
          0.5,
          0.75,
          0.75,
          0.8,
          0.7,
          0.7,
          0.7,
          0.75,
          0.8,
          0.65,
          0.6,
          0.8,
          0.8,
          0.5,
          0.65,
          0.8,
          0.8,
          0.8,
          0.7,
          0.8,
          0.8,
          0.8,
          0.8,
          0.75,
          0.75,
          0.75,
          0.7,
          0.7,
          0.7,
          0.8,
          0.7,
          0.8,
          0.6,
          0.7,
          0.5,
          0.65,
          0.5,
          0.8,
          0.8,
          0.8,
          0.8,
          0.8,
          0.75,
          0.8,
          0.8,
          0.7,
          0.7,
          0.7,
          0.75,
          0.7,
          0.7,
          0.75,
          0.75,
          0.8,
          0.65,
          0.7,
          0.5,
          0.8,
          0.8,
          0.6,
          0.8,
          0.8,
          0.8,
          0.8,
          0.75,
          0.8,
          0.7,
          0.7,
          0.75,
          0.7,
          0.7,
          0.7,
          0.75,
          0.8,
          0.8,
          0.7,
          0.8,
          0.7,
          0.8,
          0.8,
          0.8,
          0.8,
          0.8,
          0.75,
          0.75,
          0.75,
          0.7,
          0.7,
          0.7,
          0.7,
          0.7,
          0.8,
          0.8,
          0.8,
          0.7,
          0.7,
          0.8,
          0.8,
          0.8,
          0.8,
          0.7,
          0.75,
          0.75,
          0.75,
          0.75,
          0.75,
          0.7,
          0.7,
          0.7,
          0.7,
          0.7,
          0.7,
          0.7,
          0.6,
          0.75,
          0.8,
          0.8,
          0.8,
          0.7,
          0.8,
          0.8,
          0.8,
          0.75,
          0.75,
          0.75,
          0.7,
          0.7,
          0.7,
          0.75,
          0.7,
          0.8,
          0.65,
          0.7,
          0.75,
          0.7,
          0.8,
          0.8,
          0.8,
          0.8,
          0.8,
          0.5,
          0.75,
          0.75,
          0.75,
          0.75,
          0.7,
          0.7,
          0.8,
          0.7,
          0.8,
          0.35,
          0.7,
          0.75,
          0.35,
          0.75,
          0.75,
          0.8,
          0.8,
          0.8,
          0.8,
          0.8,
          0.5,
          0.75,
          0.75,
          0.75,
          0.75,
          0.7,
          0.7,
          0.8,
          0.7,
          0.5,
          0.5,
          0.5,
          0.7,
          0.75,
          0.75,
          0.75,
          0.8,
          0.75,
          0.8,
          0.75,
          0.75,
          0.75,
          0.75,
          0.6,
          0.7,
          0.6,
          0.7,
          0.8,
          0.6,
          0.7,
          0.6,
          0.7,
          0.8,
          0.6,
          0.75,
          0.8,
          0.7,
          0.8,
          0.65,
          0.65,
          0.8,
          0.75,
          0.8,
          0.8,
          0.8,
          0.75,
          0.75,
          0.75,
          0.75,
          0.65,
          0.65,
          0.7,
          0.7,
          0.8,
          0.65,
          0.8,
          0.8,
          0.8,
          0.8,
          0.7,
          0.8,
          0.8,
          0.8,
          0.7,
          0.75,
          0.75,
          0.75,
          0.75,
          0.7,
          0.7,
          0.8,
          0.4,
          0.7,
          0.7,
          0.7,
          0.7,
          0.75,
          0.4,
          0.8,
          0.8,
          0.8,
          0.75,
          0.7,
          0.7,
          0.8,
          0.8,
          0.8,
          0.8,
          0.7,
          0.7,
          0.75,
          0.7,
          0.7,
          0.8,
          0.7,
          0.5,
          0.8,
          0.5,
          0.75,
          0.8,
          0.6,
          0.8,
          0.8,
          0.7,
          0.7,
          0.8,
          0.8,
          0.8,
          0.8,
          0.7,
          0.75,
          0.7,
          0.7,
          0.7,
          0.6,
          0.75,
          0.8,
          0.35,
          0.8,
          0.8,
          0.7,
          0.8,
          0.35,
          0.7,
          0.8,
          0.8,
          0.5,
          0.75,
          0.7,
          0.7,
          0.7,
          0.8,
          0.65,
          0.8,
          0.65,
          0.5,
          0.7,
          0.8,
          0.8,
          0.75,
          0.75,
          0.75,
          0.7,
          0.5,
          0.75,
          0.75,
          0.8,
          0.8,
          0.8,
          0.8,
          0.75,
          0.7,
          0.7,
          0.6,
          0.6,
          0.5,
          0.6,
          0.7,
          0.6,
          0.8,
          0.8,
          0.6,
          0.75,
          0.75,
          0.75,
          0.8,
          0.8,
          0.8,
          0.8,
          0.75,
          0.75,
          0.75,
          0.7,
          0.7,
          0.7,
          0.65,
          0.65,
          0.6,
          0.5,
          0.7,
          0.65,
          0.8,
          0.6,
          0.75,
          0.8,
          0.75,
          0.75,
          0.75,
          0.75,
          0.8,
          0.8,
          0.8,
          0.8,
          0.75,
          0.75,
          0.7,
          0.7,
          0.7,
          0.7,
          0.65,
          0.6,
          0.65,
          0.5,
          0.7,
          0.8,
          0.8,
          0.75,
          0.75,
          0.75,
          0.8,
          0.8,
          0.8,
          0.8,
          0.7,
          0.75,
          0.75,
          0.75,
          0.75,
          0.75,
          0.7,
          0.7,
          0.7,
          0.65,
          0.75,
          0.7,
          0.65,
          0.75,
          0.7
         ],
         "xaxis": "x",
         "yaxis": "y"
        }
       ],
       "layout": {
        "bargap": 0.15,
        "bargroupgap": 0.1,
        "barmode": "group",
        "legend": {
         "tracegroupgap": 0
        },
        "margin": {
         "t": 60
        },
        "template": {
         "data": {
          "bar": [
           {
            "error_x": {
             "color": "#2a3f5f"
            },
            "error_y": {
             "color": "#2a3f5f"
            },
            "marker": {
             "line": {
              "color": "#E5ECF6",
              "width": 0.5
             }
            },
            "type": "bar"
           }
          ],
          "barpolar": [
           {
            "marker": {
             "line": {
              "color": "#E5ECF6",
              "width": 0.5
             }
            },
            "type": "barpolar"
           }
          ],
          "carpet": [
           {
            "aaxis": {
             "endlinecolor": "#2a3f5f",
             "gridcolor": "white",
             "linecolor": "white",
             "minorgridcolor": "white",
             "startlinecolor": "#2a3f5f"
            },
            "baxis": {
             "endlinecolor": "#2a3f5f",
             "gridcolor": "white",
             "linecolor": "white",
             "minorgridcolor": "white",
             "startlinecolor": "#2a3f5f"
            },
            "type": "carpet"
           }
          ],
          "choropleth": [
           {
            "colorbar": {
             "outlinewidth": 0,
             "ticks": ""
            },
            "type": "choropleth"
           }
          ],
          "contour": [
           {
            "colorbar": {
             "outlinewidth": 0,
             "ticks": ""
            },
            "colorscale": [
             [
              0,
              "#0d0887"
             ],
             [
              0.1111111111111111,
              "#46039f"
             ],
             [
              0.2222222222222222,
              "#7201a8"
             ],
             [
              0.3333333333333333,
              "#9c179e"
             ],
             [
              0.4444444444444444,
              "#bd3786"
             ],
             [
              0.5555555555555556,
              "#d8576b"
             ],
             [
              0.6666666666666666,
              "#ed7953"
             ],
             [
              0.7777777777777778,
              "#fb9f3a"
             ],
             [
              0.8888888888888888,
              "#fdca26"
             ],
             [
              1,
              "#f0f921"
             ]
            ],
            "type": "contour"
           }
          ],
          "contourcarpet": [
           {
            "colorbar": {
             "outlinewidth": 0,
             "ticks": ""
            },
            "type": "contourcarpet"
           }
          ],
          "heatmap": [
           {
            "colorbar": {
             "outlinewidth": 0,
             "ticks": ""
            },
            "colorscale": [
             [
              0,
              "#0d0887"
             ],
             [
              0.1111111111111111,
              "#46039f"
             ],
             [
              0.2222222222222222,
              "#7201a8"
             ],
             [
              0.3333333333333333,
              "#9c179e"
             ],
             [
              0.4444444444444444,
              "#bd3786"
             ],
             [
              0.5555555555555556,
              "#d8576b"
             ],
             [
              0.6666666666666666,
              "#ed7953"
             ],
             [
              0.7777777777777778,
              "#fb9f3a"
             ],
             [
              0.8888888888888888,
              "#fdca26"
             ],
             [
              1,
              "#f0f921"
             ]
            ],
            "type": "heatmap"
           }
          ],
          "heatmapgl": [
           {
            "colorbar": {
             "outlinewidth": 0,
             "ticks": ""
            },
            "colorscale": [
             [
              0,
              "#0d0887"
             ],
             [
              0.1111111111111111,
              "#46039f"
             ],
             [
              0.2222222222222222,
              "#7201a8"
             ],
             [
              0.3333333333333333,
              "#9c179e"
             ],
             [
              0.4444444444444444,
              "#bd3786"
             ],
             [
              0.5555555555555556,
              "#d8576b"
             ],
             [
              0.6666666666666666,
              "#ed7953"
             ],
             [
              0.7777777777777778,
              "#fb9f3a"
             ],
             [
              0.8888888888888888,
              "#fdca26"
             ],
             [
              1,
              "#f0f921"
             ]
            ],
            "type": "heatmapgl"
           }
          ],
          "histogram": [
           {
            "marker": {
             "colorbar": {
              "outlinewidth": 0,
              "ticks": ""
             }
            },
            "type": "histogram"
           }
          ],
          "histogram2d": [
           {
            "colorbar": {
             "outlinewidth": 0,
             "ticks": ""
            },
            "colorscale": [
             [
              0,
              "#0d0887"
             ],
             [
              0.1111111111111111,
              "#46039f"
             ],
             [
              0.2222222222222222,
              "#7201a8"
             ],
             [
              0.3333333333333333,
              "#9c179e"
             ],
             [
              0.4444444444444444,
              "#bd3786"
             ],
             [
              0.5555555555555556,
              "#d8576b"
             ],
             [
              0.6666666666666666,
              "#ed7953"
             ],
             [
              0.7777777777777778,
              "#fb9f3a"
             ],
             [
              0.8888888888888888,
              "#fdca26"
             ],
             [
              1,
              "#f0f921"
             ]
            ],
            "type": "histogram2d"
           }
          ],
          "histogram2dcontour": [
           {
            "colorbar": {
             "outlinewidth": 0,
             "ticks": ""
            },
            "colorscale": [
             [
              0,
              "#0d0887"
             ],
             [
              0.1111111111111111,
              "#46039f"
             ],
             [
              0.2222222222222222,
              "#7201a8"
             ],
             [
              0.3333333333333333,
              "#9c179e"
             ],
             [
              0.4444444444444444,
              "#bd3786"
             ],
             [
              0.5555555555555556,
              "#d8576b"
             ],
             [
              0.6666666666666666,
              "#ed7953"
             ],
             [
              0.7777777777777778,
              "#fb9f3a"
             ],
             [
              0.8888888888888888,
              "#fdca26"
             ],
             [
              1,
              "#f0f921"
             ]
            ],
            "type": "histogram2dcontour"
           }
          ],
          "mesh3d": [
           {
            "colorbar": {
             "outlinewidth": 0,
             "ticks": ""
            },
            "type": "mesh3d"
           }
          ],
          "parcoords": [
           {
            "line": {
             "colorbar": {
              "outlinewidth": 0,
              "ticks": ""
             }
            },
            "type": "parcoords"
           }
          ],
          "pie": [
           {
            "automargin": true,
            "type": "pie"
           }
          ],
          "scatter": [
           {
            "marker": {
             "colorbar": {
              "outlinewidth": 0,
              "ticks": ""
             }
            },
            "type": "scatter"
           }
          ],
          "scatter3d": [
           {
            "line": {
             "colorbar": {
              "outlinewidth": 0,
              "ticks": ""
             }
            },
            "marker": {
             "colorbar": {
              "outlinewidth": 0,
              "ticks": ""
             }
            },
            "type": "scatter3d"
           }
          ],
          "scattercarpet": [
           {
            "marker": {
             "colorbar": {
              "outlinewidth": 0,
              "ticks": ""
             }
            },
            "type": "scattercarpet"
           }
          ],
          "scattergeo": [
           {
            "marker": {
             "colorbar": {
              "outlinewidth": 0,
              "ticks": ""
             }
            },
            "type": "scattergeo"
           }
          ],
          "scattergl": [
           {
            "marker": {
             "colorbar": {
              "outlinewidth": 0,
              "ticks": ""
             }
            },
            "type": "scattergl"
           }
          ],
          "scattermapbox": [
           {
            "marker": {
             "colorbar": {
              "outlinewidth": 0,
              "ticks": ""
             }
            },
            "type": "scattermapbox"
           }
          ],
          "scatterpolar": [
           {
            "marker": {
             "colorbar": {
              "outlinewidth": 0,
              "ticks": ""
             }
            },
            "type": "scatterpolar"
           }
          ],
          "scatterpolargl": [
           {
            "marker": {
             "colorbar": {
              "outlinewidth": 0,
              "ticks": ""
             }
            },
            "type": "scatterpolargl"
           }
          ],
          "scatterternary": [
           {
            "marker": {
             "colorbar": {
              "outlinewidth": 0,
              "ticks": ""
             }
            },
            "type": "scatterternary"
           }
          ],
          "surface": [
           {
            "colorbar": {
             "outlinewidth": 0,
             "ticks": ""
            },
            "colorscale": [
             [
              0,
              "#0d0887"
             ],
             [
              0.1111111111111111,
              "#46039f"
             ],
             [
              0.2222222222222222,
              "#7201a8"
             ],
             [
              0.3333333333333333,
              "#9c179e"
             ],
             [
              0.4444444444444444,
              "#bd3786"
             ],
             [
              0.5555555555555556,
              "#d8576b"
             ],
             [
              0.6666666666666666,
              "#ed7953"
             ],
             [
              0.7777777777777778,
              "#fb9f3a"
             ],
             [
              0.8888888888888888,
              "#fdca26"
             ],
             [
              1,
              "#f0f921"
             ]
            ],
            "type": "surface"
           }
          ],
          "table": [
           {
            "cells": {
             "fill": {
              "color": "#EBF0F8"
             },
             "line": {
              "color": "white"
             }
            },
            "header": {
             "fill": {
              "color": "#C8D4E3"
             },
             "line": {
              "color": "white"
             }
            },
            "type": "table"
           }
          ]
         },
         "layout": {
          "annotationdefaults": {
           "arrowcolor": "#2a3f5f",
           "arrowhead": 0,
           "arrowwidth": 1
          },
          "autotypenumbers": "strict",
          "coloraxis": {
           "colorbar": {
            "outlinewidth": 0,
            "ticks": ""
           }
          },
          "colorscale": {
           "diverging": [
            [
             0,
             "#8e0152"
            ],
            [
             0.1,
             "#c51b7d"
            ],
            [
             0.2,
             "#de77ae"
            ],
            [
             0.3,
             "#f1b6da"
            ],
            [
             0.4,
             "#fde0ef"
            ],
            [
             0.5,
             "#f7f7f7"
            ],
            [
             0.6,
             "#e6f5d0"
            ],
            [
             0.7,
             "#b8e186"
            ],
            [
             0.8,
             "#7fbc41"
            ],
            [
             0.9,
             "#4d9221"
            ],
            [
             1,
             "#276419"
            ]
           ],
           "sequential": [
            [
             0,
             "#0d0887"
            ],
            [
             0.1111111111111111,
             "#46039f"
            ],
            [
             0.2222222222222222,
             "#7201a8"
            ],
            [
             0.3333333333333333,
             "#9c179e"
            ],
            [
             0.4444444444444444,
             "#bd3786"
            ],
            [
             0.5555555555555556,
             "#d8576b"
            ],
            [
             0.6666666666666666,
             "#ed7953"
            ],
            [
             0.7777777777777778,
             "#fb9f3a"
            ],
            [
             0.8888888888888888,
             "#fdca26"
            ],
            [
             1,
             "#f0f921"
            ]
           ],
           "sequentialminus": [
            [
             0,
             "#0d0887"
            ],
            [
             0.1111111111111111,
             "#46039f"
            ],
            [
             0.2222222222222222,
             "#7201a8"
            ],
            [
             0.3333333333333333,
             "#9c179e"
            ],
            [
             0.4444444444444444,
             "#bd3786"
            ],
            [
             0.5555555555555556,
             "#d8576b"
            ],
            [
             0.6666666666666666,
             "#ed7953"
            ],
            [
             0.7777777777777778,
             "#fb9f3a"
            ],
            [
             0.8888888888888888,
             "#fdca26"
            ],
            [
             1,
             "#f0f921"
            ]
           ]
          },
          "colorway": [
           "#636efa",
           "#EF553B",
           "#00cc96",
           "#ab63fa",
           "#FFA15A",
           "#19d3f3",
           "#FF6692",
           "#B6E880",
           "#FF97FF",
           "#FECB52"
          ],
          "font": {
           "color": "#2a3f5f"
          },
          "geo": {
           "bgcolor": "white",
           "lakecolor": "white",
           "landcolor": "#E5ECF6",
           "showlakes": true,
           "showland": true,
           "subunitcolor": "white"
          },
          "hoverlabel": {
           "align": "left"
          },
          "hovermode": "closest",
          "mapbox": {
           "style": "light"
          },
          "paper_bgcolor": "white",
          "plot_bgcolor": "#E5ECF6",
          "polar": {
           "angularaxis": {
            "gridcolor": "white",
            "linecolor": "white",
            "ticks": ""
           },
           "bgcolor": "#E5ECF6",
           "radialaxis": {
            "gridcolor": "white",
            "linecolor": "white",
            "ticks": ""
           }
          },
          "scene": {
           "xaxis": {
            "backgroundcolor": "#E5ECF6",
            "gridcolor": "white",
            "gridwidth": 2,
            "linecolor": "white",
            "showbackground": true,
            "ticks": "",
            "zerolinecolor": "white"
           },
           "yaxis": {
            "backgroundcolor": "#E5ECF6",
            "gridcolor": "white",
            "gridwidth": 2,
            "linecolor": "white",
            "showbackground": true,
            "ticks": "",
            "zerolinecolor": "white"
           },
           "zaxis": {
            "backgroundcolor": "#E5ECF6",
            "gridcolor": "white",
            "gridwidth": 2,
            "linecolor": "white",
            "showbackground": true,
            "ticks": "",
            "zerolinecolor": "white"
           }
          },
          "shapedefaults": {
           "line": {
            "color": "#2a3f5f"
           }
          },
          "ternary": {
           "aaxis": {
            "gridcolor": "white",
            "linecolor": "white",
            "ticks": ""
           },
           "baxis": {
            "gridcolor": "white",
            "linecolor": "white",
            "ticks": ""
           },
           "bgcolor": "#E5ECF6",
           "caxis": {
            "gridcolor": "white",
            "linecolor": "white",
            "ticks": ""
           }
          },
          "title": {
           "x": 0.05
          },
          "xaxis": {
           "automargin": true,
           "gridcolor": "white",
           "linecolor": "white",
           "ticks": "",
           "title": {
            "standoff": 15
           },
           "zerolinecolor": "white",
           "zerolinewidth": 2
          },
          "yaxis": {
           "automargin": true,
           "gridcolor": "white",
           "linecolor": "white",
           "ticks": "",
           "title": {
            "standoff": 15
           },
           "zerolinecolor": "white",
           "zerolinewidth": 2
          }
         }
        },
        "title": {
         "text": "Distribution of Targeted productivity",
         "x": 0.5
        },
        "xaxis": {
         "anchor": "y",
         "domain": [
          0,
          1
         ],
         "tickfont": {
          "size": 14
         },
         "title": {
          "font": {
           "size": 16
          },
          "text": "Targeted Productivity"
         }
        },
        "yaxis": {
         "anchor": "x",
         "domain": [
          0,
          1
         ],
         "tickfont": {
          "size": 14
         },
         "title": {
          "font": {
           "size": 16
          },
          "text": "Records"
         }
        }
       }
      },
      "text/html": [
       "<div>                            <div id=\"4d83674f-a21e-4412-9494-8c8125166ded\" class=\"plotly-graph-div\" style=\"height:525px; width:100%;\"></div>            <script type=\"text/javascript\">                require([\"plotly\"], function(Plotly) {                    window.PLOTLYENV=window.PLOTLYENV || {};                                    if (document.getElementById(\"4d83674f-a21e-4412-9494-8c8125166ded\")) {                    Plotly.newPlot(                        \"4d83674f-a21e-4412-9494-8c8125166ded\",                        [{\"alignmentgroup\": \"True\", \"bingroup\": \"x\", \"hovertemplate\": \"targeted_productivity=%{x}<br>count=%{y}<extra></extra>\", \"legendgroup\": \"\", \"marker\": {\"color\": \"rgb(55, 83, 109)\"}, \"name\": \"\", \"nbinsx\": 20, \"offsetgroup\": \"\", \"orientation\": \"v\", \"showlegend\": false, \"type\": \"histogram\", \"x\": [0.8, 0.75, 0.8, 0.8, 0.8, 0.8, 0.75, 0.75, 0.75, 0.75, 0.7, 0.75, 0.8, 0.65, 0.75, 0.75, 0.8, 0.65, 0.7, 0.8, 0.75, 0.8, 0.75, 0.8, 0.8, 0.8, 0.8, 0.8, 0.8, 0.8, 0.8, 0.8, 0.75, 0.8, 0.75, 0.7, 0.7, 0.7, 0.8, 0.8, 0.75, 0.8, 0.8, 0.8, 0.8, 0.8, 0.8, 0.8, 0.8, 0.8, 0.8, 0.8, 0.8, 0.7, 0.75, 0.75, 0.7, 0.8, 0.8, 0.7, 0.75, 0.8, 0.8, 0.8, 0.75, 0.8, 0.8, 0.8, 0.8, 0.8, 0.8, 0.8, 0.8, 0.8, 0.8, 0.8, 0.75, 0.6, 0.75, 0.75, 0.8, 0.8, 0.6, 0.8, 0.8, 0.75, 0.8, 0.8, 0.8, 0.8, 0.75, 0.8, 0.8, 0.8, 0.8, 0.8, 0.8, 0.8, 0.8, 0.75, 0.75, 0.8, 0.65, 0.8, 0.8, 0.8, 0.8, 0.8, 0.8, 0.75, 0.8, 0.8, 0.75, 0.8, 0.8, 0.8, 0.8, 0.8, 0.8, 0.8, 0.75, 0.7, 0.8, 0.8, 0.8, 0.7, 0.8, 0.8, 0.8, 0.8, 0.8, 0.8, 0.8, 0.8, 0.8, 0.7, 0.8, 0.8, 0.8, 0.8, 0.75, 0.75, 0.8, 0.75, 0.8, 0.8, 0.35, 0.7, 0.8, 0.75, 0.8, 0.8, 0.8, 0.8, 0.8, 0.8, 0.8, 0.8, 0.8, 0.8, 0.8, 0.8, 0.8, 0.8, 0.75, 0.5, 0.8, 0.8, 0.5, 0.5, 0.75, 0.8, 0.8, 0.8, 0.8, 0.8, 0.8, 0.8, 0.8, 0.8, 0.8, 0.8, 0.8, 0.8, 0.8, 0.8, 0.8, 0.5, 0.6, 0.8, 0.8, 0.8, 0.6, 0.8, 0.35, 0.8, 0.8, 0.8, 0.8, 0.8, 0.8, 0.8, 0.8, 0.65, 0.8, 0.8, 0.8, 0.8, 0.8, 0.8, 0.65, 0.65, 0.8, 0.8, 0.35, 0.8, 0.35, 0.8, 0.8, 0.8, 0.8, 0.8, 0.8, 0.8, 0.8, 0.65, 0.8, 0.8, 0.8, 0.8, 0.8, 0.8, 0.8, 0.8, 0.7, 0.7, 0.5, 0.35, 0.8, 0.35, 0.8, 0.8, 0.65, 0.8, 0.8, 0.8, 0.8, 0.8, 0.8, 0.8, 0.8, 0.7, 0.8, 0.6, 0.5, 0.35, 0.8, 0.8, 0.8, 0.35, 0.8, 0.8, 0.65, 0.8, 0.8, 0.8, 0.8, 0.8, 0.8, 0.8, 0.7, 0.8, 0.5, 0.65, 0.8, 0.6, 0.5, 0.5, 0.65, 0.8, 0.8, 0.8, 0.8, 0.8, 0.8, 0.8, 0.8, 0.8, 0.8, 0.6, 0.7, 0.8, 0.8, 0.65, 0.6, 0.6, 0.8, 0.7, 0.8, 0.6, 0.65, 0.8, 0.8, 0.8, 0.8, 0.8, 0.7, 0.7, 0.8, 0.8, 0.65, 0.65, 0.65, 0.8, 0.6, 0.8, 0.8, 0.7, 0.7, 0.8, 0.65, 0.8, 0.8, 0.8, 0.8, 0.7, 0.7, 0.7, 0.7, 0.7, 0.8, 0.65, 0.8, 0.5, 0.7, 0.7, 0.35, 0.7, 0.8, 0.8, 0.8, 0.7, 0.7, 0.7, 0.7, 0.8, 0.7, 0.7, 0.8, 0.5, 0.35, 0.7, 0.75, 0.7, 0.75, 0.8, 0.8, 0.8, 0.7, 0.7, 0.7, 0.7, 0.7, 0.7, 0.65, 0.6, 0.8, 0.8, 0.65, 0.5, 0.7, 0.6, 0.75, 0.75, 0.7, 0.8, 0.75, 0.7, 0.7, 0.7, 0.7, 0.7, 0.75, 0.7, 0.7, 0.8, 0.6, 0.6, 0.8, 0.5, 0.7, 0.8, 0.6, 0.7, 0.75, 0.8, 0.75, 0.75, 0.75, 0.75, 0.65, 0.7, 0.7, 0.75, 0.8, 0.75, 0.75, 0.75, 0.7, 0.75, 0.65, 0.6, 0.75, 0.7, 0.35, 0.6, 0.7, 0.75, 0.7, 0.75, 0.75, 0.75, 0.75, 0.75, 0.7, 0.75, 0.8, 0.75, 0.65, 0.7, 0.7, 0.7, 0.65, 0.7, 0.75, 0.5, 0.8, 0.75, 0.75, 0.75, 0.7, 0.75, 0.7, 0.8, 0.8, 0.75, 0.75, 0.7, 0.75, 0.7, 0.75, 0.7, 0.7, 0.65, 0.6, 0.35, 0.75, 0.75, 0.8, 0.8, 0.5, 0.8, 0.75, 0.8, 0.65, 0.7, 0.5, 0.75, 0.75, 0.75, 0.7, 0.7, 0.65, 0.8, 0.8, 0.5, 0.5, 0.8, 0.8, 0.35, 0.75, 0.8, 0.8, 0.75, 0.8, 0.6, 0.8, 0.75, 0.7, 0.75, 0.8, 0.65, 0.5, 0.7, 0.35, 0.6, 0.6, 0.5, 0.8, 0.8, 0.8, 0.8, 0.8, 0.5, 0.65, 0.6, 0.8, 0.75, 0.75, 0.7, 0.65, 0.8, 0.75, 0.75, 0.6, 0.5, 0.8, 0.65, 0.8, 0.8, 0.8, 0.8, 0.8, 0.8, 0.75, 0.75, 0.75, 0.7, 0.7, 0.65, 0.65, 0.6, 0.8, 0.8, 0.75, 0.75, 0.75, 0.7, 0.65, 0.6, 0.7, 0.5, 0.65, 0.8, 0.8, 0.75, 0.8, 0.8, 0.7, 0.8, 0.8, 0.8, 0.8, 0.75, 0.75, 0.75, 0.7, 0.65, 0.6, 0.7, 0.6, 0.8, 0.75, 0.8, 0.8, 0.8, 0.8, 0.8, 0.8, 0.8, 0.75, 0.75, 0.7, 0.7, 0.65, 0.75, 0.5, 0.7, 0.6, 0.65, 0.8, 0.8, 0.8, 0.8, 0.7, 0.8, 0.8, 0.75, 0.8, 0.8, 0.8, 0.75, 0.7, 0.7, 0.7, 0.7, 0.8, 0.7, 0.6, 0.8, 0.8, 0.8, 0.8, 0.8, 0.7, 0.8, 0.8, 0.8, 0.7, 0.75, 0.7, 0.7, 0.7, 0.7, 0.8, 0.65, 0.7, 0.35, 0.8, 0.8, 0.8, 0.8, 0.8, 0.7, 0.8, 0.7, 0.8, 0.8, 0.8, 0.8, 0.75, 0.7, 0.7, 0.07, 0.5, 0.7, 0.8, 0.8, 0.8, 0.8, 0.8, 0.8, 0.8, 0.75, 0.8, 0.8, 0.8, 0.75, 0.75, 0.7, 0.7, 0.6, 0.7, 0.8, 0.7, 0.8, 0.7, 0.8, 0.8, 0.8, 0.8, 0.8, 0.8, 0.7, 0.8, 0.8, 0.75, 0.75, 0.7, 0.75, 0.8, 0.65, 0.7, 0.7, 0.8, 0.8, 0.8, 0.8, 0.8, 0.75, 0.8, 0.8, 0.8, 0.7, 0.75, 0.35, 0.7, 0.8, 0.75, 0.35, 0.35, 0.8, 0.8, 0.8, 0.8, 0.8, 0.8, 0.8, 0.8, 0.8, 0.8, 0.7, 0.75, 0.8, 0.75, 0.35, 0.7, 0.8, 0.75, 0.5, 0.5, 0.7, 0.8, 0.8, 0.8, 0.35, 0.8, 0.7, 0.8, 0.8, 0.8, 0.8, 0.75, 0.6, 0.7, 0.8, 0.6, 0.8, 0.8, 0.35, 0.8, 0.7, 0.8, 0.8, 0.8, 0.35, 0.75, 0.8, 0.8, 0.8, 0.7, 0.8, 0.7, 0.65, 0.5, 0.8, 0.65, 0.8, 0.35, 0.8, 0.7, 0.75, 0.8, 0.8, 0.8, 0.8, 0.75, 0.75, 0.7, 0.7, 0.7, 0.6, 0.8, 0.5, 0.8, 0.8, 0.8, 0.8, 0.8, 0.8, 0.8, 0.75, 0.8, 0.6, 0.7, 0.7, 0.75, 0.65, 0.7, 0.8, 0.75, 0.6, 0.8, 0.75, 0.5, 0.8, 0.8, 0.8, 0.5, 0.65, 0.8, 0.8, 0.8, 0.75, 0.75, 0.75, 0.7, 0.75, 0.7, 0.7, 0.6, 0.6, 0.7, 0.8, 0.8, 0.7, 0.8, 0.8, 0.5, 0.75, 0.75, 0.8, 0.7, 0.7, 0.7, 0.75, 0.8, 0.65, 0.6, 0.8, 0.8, 0.5, 0.65, 0.8, 0.8, 0.8, 0.7, 0.8, 0.8, 0.8, 0.8, 0.75, 0.75, 0.75, 0.7, 0.7, 0.7, 0.8, 0.7, 0.8, 0.6, 0.7, 0.5, 0.65, 0.5, 0.8, 0.8, 0.8, 0.8, 0.8, 0.75, 0.8, 0.8, 0.7, 0.7, 0.7, 0.75, 0.7, 0.7, 0.75, 0.75, 0.8, 0.65, 0.7, 0.5, 0.8, 0.8, 0.6, 0.8, 0.8, 0.8, 0.8, 0.75, 0.8, 0.7, 0.7, 0.75, 0.7, 0.7, 0.7, 0.75, 0.8, 0.8, 0.7, 0.8, 0.7, 0.8, 0.8, 0.8, 0.8, 0.8, 0.75, 0.75, 0.75, 0.7, 0.7, 0.7, 0.7, 0.7, 0.8, 0.8, 0.8, 0.7, 0.7, 0.8, 0.8, 0.8, 0.8, 0.7, 0.75, 0.75, 0.75, 0.75, 0.75, 0.7, 0.7, 0.7, 0.7, 0.7, 0.7, 0.7, 0.6, 0.75, 0.8, 0.8, 0.8, 0.7, 0.8, 0.8, 0.8, 0.75, 0.75, 0.75, 0.7, 0.7, 0.7, 0.75, 0.7, 0.8, 0.65, 0.7, 0.75, 0.7, 0.8, 0.8, 0.8, 0.8, 0.8, 0.5, 0.75, 0.75, 0.75, 0.75, 0.7, 0.7, 0.8, 0.7, 0.8, 0.35, 0.7, 0.75, 0.35, 0.75, 0.75, 0.8, 0.8, 0.8, 0.8, 0.8, 0.5, 0.75, 0.75, 0.75, 0.75, 0.7, 0.7, 0.8, 0.7, 0.5, 0.5, 0.5, 0.7, 0.75, 0.75, 0.75, 0.8, 0.75, 0.8, 0.75, 0.75, 0.75, 0.75, 0.6, 0.7, 0.6, 0.7, 0.8, 0.6, 0.7, 0.6, 0.7, 0.8, 0.6, 0.75, 0.8, 0.7, 0.8, 0.65, 0.65, 0.8, 0.75, 0.8, 0.8, 0.8, 0.75, 0.75, 0.75, 0.75, 0.65, 0.65, 0.7, 0.7, 0.8, 0.65, 0.8, 0.8, 0.8, 0.8, 0.7, 0.8, 0.8, 0.8, 0.7, 0.75, 0.75, 0.75, 0.75, 0.7, 0.7, 0.8, 0.4, 0.7, 0.7, 0.7, 0.7, 0.75, 0.4, 0.8, 0.8, 0.8, 0.75, 0.7, 0.7, 0.8, 0.8, 0.8, 0.8, 0.7, 0.7, 0.75, 0.7, 0.7, 0.8, 0.7, 0.5, 0.8, 0.5, 0.75, 0.8, 0.6, 0.8, 0.8, 0.7, 0.7, 0.8, 0.8, 0.8, 0.8, 0.7, 0.75, 0.7, 0.7, 0.7, 0.6, 0.75, 0.8, 0.35, 0.8, 0.8, 0.7, 0.8, 0.35, 0.7, 0.8, 0.8, 0.5, 0.75, 0.7, 0.7, 0.7, 0.8, 0.65, 0.8, 0.65, 0.5, 0.7, 0.8, 0.8, 0.75, 0.75, 0.75, 0.7, 0.5, 0.75, 0.75, 0.8, 0.8, 0.8, 0.8, 0.75, 0.7, 0.7, 0.6, 0.6, 0.5, 0.6, 0.7, 0.6, 0.8, 0.8, 0.6, 0.75, 0.75, 0.75, 0.8, 0.8, 0.8, 0.8, 0.75, 0.75, 0.75, 0.7, 0.7, 0.7, 0.65, 0.65, 0.6, 0.5, 0.7, 0.65, 0.8, 0.6, 0.75, 0.8, 0.75, 0.75, 0.75, 0.75, 0.8, 0.8, 0.8, 0.8, 0.75, 0.75, 0.7, 0.7, 0.7, 0.7, 0.65, 0.6, 0.65, 0.5, 0.7, 0.8, 0.8, 0.75, 0.75, 0.75, 0.8, 0.8, 0.8, 0.8, 0.7, 0.75, 0.75, 0.75, 0.75, 0.75, 0.7, 0.7, 0.7, 0.65, 0.75, 0.7, 0.65, 0.75, 0.7], \"xaxis\": \"x\", \"yaxis\": \"y\"}],                        {\"bargap\": 0.15, \"bargroupgap\": 0.1, \"barmode\": \"group\", \"legend\": {\"tracegroupgap\": 0}, \"margin\": {\"t\": 60}, \"template\": {\"data\": {\"bar\": [{\"error_x\": {\"color\": \"#2a3f5f\"}, \"error_y\": {\"color\": \"#2a3f5f\"}, \"marker\": {\"line\": {\"color\": \"#E5ECF6\", \"width\": 0.5}}, \"type\": \"bar\"}], \"barpolar\": [{\"marker\": {\"line\": {\"color\": \"#E5ECF6\", \"width\": 0.5}}, \"type\": \"barpolar\"}], \"carpet\": [{\"aaxis\": {\"endlinecolor\": \"#2a3f5f\", \"gridcolor\": \"white\", \"linecolor\": \"white\", \"minorgridcolor\": \"white\", \"startlinecolor\": \"#2a3f5f\"}, \"baxis\": {\"endlinecolor\": \"#2a3f5f\", \"gridcolor\": \"white\", \"linecolor\": \"white\", \"minorgridcolor\": \"white\", \"startlinecolor\": \"#2a3f5f\"}, \"type\": \"carpet\"}], \"choropleth\": [{\"colorbar\": {\"outlinewidth\": 0, \"ticks\": \"\"}, \"type\": \"choropleth\"}], \"contour\": [{\"colorbar\": {\"outlinewidth\": 0, \"ticks\": \"\"}, \"colorscale\": [[0.0, \"#0d0887\"], [0.1111111111111111, \"#46039f\"], [0.2222222222222222, \"#7201a8\"], [0.3333333333333333, \"#9c179e\"], [0.4444444444444444, \"#bd3786\"], [0.5555555555555556, \"#d8576b\"], [0.6666666666666666, \"#ed7953\"], [0.7777777777777778, \"#fb9f3a\"], [0.8888888888888888, \"#fdca26\"], [1.0, \"#f0f921\"]], \"type\": \"contour\"}], \"contourcarpet\": [{\"colorbar\": {\"outlinewidth\": 0, \"ticks\": \"\"}, \"type\": \"contourcarpet\"}], \"heatmap\": [{\"colorbar\": {\"outlinewidth\": 0, \"ticks\": \"\"}, \"colorscale\": [[0.0, \"#0d0887\"], [0.1111111111111111, \"#46039f\"], [0.2222222222222222, \"#7201a8\"], [0.3333333333333333, \"#9c179e\"], [0.4444444444444444, \"#bd3786\"], [0.5555555555555556, \"#d8576b\"], [0.6666666666666666, \"#ed7953\"], [0.7777777777777778, \"#fb9f3a\"], [0.8888888888888888, \"#fdca26\"], [1.0, \"#f0f921\"]], \"type\": \"heatmap\"}], \"heatmapgl\": [{\"colorbar\": {\"outlinewidth\": 0, \"ticks\": \"\"}, \"colorscale\": [[0.0, \"#0d0887\"], [0.1111111111111111, \"#46039f\"], [0.2222222222222222, \"#7201a8\"], [0.3333333333333333, \"#9c179e\"], [0.4444444444444444, \"#bd3786\"], [0.5555555555555556, \"#d8576b\"], [0.6666666666666666, \"#ed7953\"], [0.7777777777777778, \"#fb9f3a\"], [0.8888888888888888, \"#fdca26\"], [1.0, \"#f0f921\"]], \"type\": \"heatmapgl\"}], \"histogram\": [{\"marker\": {\"colorbar\": {\"outlinewidth\": 0, \"ticks\": \"\"}}, \"type\": \"histogram\"}], \"histogram2d\": [{\"colorbar\": {\"outlinewidth\": 0, \"ticks\": \"\"}, \"colorscale\": [[0.0, \"#0d0887\"], [0.1111111111111111, \"#46039f\"], [0.2222222222222222, \"#7201a8\"], [0.3333333333333333, \"#9c179e\"], [0.4444444444444444, \"#bd3786\"], [0.5555555555555556, \"#d8576b\"], [0.6666666666666666, \"#ed7953\"], [0.7777777777777778, \"#fb9f3a\"], [0.8888888888888888, \"#fdca26\"], [1.0, \"#f0f921\"]], \"type\": \"histogram2d\"}], \"histogram2dcontour\": [{\"colorbar\": {\"outlinewidth\": 0, \"ticks\": \"\"}, \"colorscale\": [[0.0, \"#0d0887\"], [0.1111111111111111, \"#46039f\"], [0.2222222222222222, \"#7201a8\"], [0.3333333333333333, \"#9c179e\"], [0.4444444444444444, \"#bd3786\"], [0.5555555555555556, \"#d8576b\"], [0.6666666666666666, \"#ed7953\"], [0.7777777777777778, \"#fb9f3a\"], [0.8888888888888888, \"#fdca26\"], [1.0, \"#f0f921\"]], \"type\": \"histogram2dcontour\"}], \"mesh3d\": [{\"colorbar\": {\"outlinewidth\": 0, \"ticks\": \"\"}, \"type\": \"mesh3d\"}], \"parcoords\": [{\"line\": {\"colorbar\": {\"outlinewidth\": 0, \"ticks\": \"\"}}, \"type\": \"parcoords\"}], \"pie\": [{\"automargin\": true, \"type\": \"pie\"}], \"scatter\": [{\"marker\": {\"colorbar\": {\"outlinewidth\": 0, \"ticks\": \"\"}}, \"type\": \"scatter\"}], \"scatter3d\": [{\"line\": {\"colorbar\": {\"outlinewidth\": 0, \"ticks\": \"\"}}, \"marker\": {\"colorbar\": {\"outlinewidth\": 0, \"ticks\": \"\"}}, \"type\": \"scatter3d\"}], \"scattercarpet\": [{\"marker\": {\"colorbar\": {\"outlinewidth\": 0, \"ticks\": \"\"}}, \"type\": \"scattercarpet\"}], \"scattergeo\": [{\"marker\": {\"colorbar\": {\"outlinewidth\": 0, \"ticks\": \"\"}}, \"type\": \"scattergeo\"}], \"scattergl\": [{\"marker\": {\"colorbar\": {\"outlinewidth\": 0, \"ticks\": \"\"}}, \"type\": \"scattergl\"}], \"scattermapbox\": [{\"marker\": {\"colorbar\": {\"outlinewidth\": 0, \"ticks\": \"\"}}, \"type\": \"scattermapbox\"}], \"scatterpolar\": [{\"marker\": {\"colorbar\": {\"outlinewidth\": 0, \"ticks\": \"\"}}, \"type\": \"scatterpolar\"}], \"scatterpolargl\": [{\"marker\": {\"colorbar\": {\"outlinewidth\": 0, \"ticks\": \"\"}}, \"type\": \"scatterpolargl\"}], \"scatterternary\": [{\"marker\": {\"colorbar\": {\"outlinewidth\": 0, \"ticks\": \"\"}}, \"type\": \"scatterternary\"}], \"surface\": [{\"colorbar\": {\"outlinewidth\": 0, \"ticks\": \"\"}, \"colorscale\": [[0.0, \"#0d0887\"], [0.1111111111111111, \"#46039f\"], [0.2222222222222222, \"#7201a8\"], [0.3333333333333333, \"#9c179e\"], [0.4444444444444444, \"#bd3786\"], [0.5555555555555556, \"#d8576b\"], [0.6666666666666666, \"#ed7953\"], [0.7777777777777778, \"#fb9f3a\"], [0.8888888888888888, \"#fdca26\"], [1.0, \"#f0f921\"]], \"type\": \"surface\"}], \"table\": [{\"cells\": {\"fill\": {\"color\": \"#EBF0F8\"}, \"line\": {\"color\": \"white\"}}, \"header\": {\"fill\": {\"color\": \"#C8D4E3\"}, \"line\": {\"color\": \"white\"}}, \"type\": \"table\"}]}, \"layout\": {\"annotationdefaults\": {\"arrowcolor\": \"#2a3f5f\", \"arrowhead\": 0, \"arrowwidth\": 1}, \"autotypenumbers\": \"strict\", \"coloraxis\": {\"colorbar\": {\"outlinewidth\": 0, \"ticks\": \"\"}}, \"colorscale\": {\"diverging\": [[0, \"#8e0152\"], [0.1, \"#c51b7d\"], [0.2, \"#de77ae\"], [0.3, \"#f1b6da\"], [0.4, \"#fde0ef\"], [0.5, \"#f7f7f7\"], [0.6, \"#e6f5d0\"], [0.7, \"#b8e186\"], [0.8, \"#7fbc41\"], [0.9, \"#4d9221\"], [1, \"#276419\"]], \"sequential\": [[0.0, \"#0d0887\"], [0.1111111111111111, \"#46039f\"], [0.2222222222222222, \"#7201a8\"], [0.3333333333333333, \"#9c179e\"], [0.4444444444444444, \"#bd3786\"], [0.5555555555555556, \"#d8576b\"], [0.6666666666666666, \"#ed7953\"], [0.7777777777777778, \"#fb9f3a\"], [0.8888888888888888, \"#fdca26\"], [1.0, \"#f0f921\"]], \"sequentialminus\": [[0.0, \"#0d0887\"], [0.1111111111111111, \"#46039f\"], [0.2222222222222222, \"#7201a8\"], [0.3333333333333333, \"#9c179e\"], [0.4444444444444444, \"#bd3786\"], [0.5555555555555556, \"#d8576b\"], [0.6666666666666666, \"#ed7953\"], [0.7777777777777778, \"#fb9f3a\"], [0.8888888888888888, \"#fdca26\"], [1.0, \"#f0f921\"]]}, \"colorway\": [\"#636efa\", \"#EF553B\", \"#00cc96\", \"#ab63fa\", \"#FFA15A\", \"#19d3f3\", \"#FF6692\", \"#B6E880\", \"#FF97FF\", \"#FECB52\"], \"font\": {\"color\": \"#2a3f5f\"}, \"geo\": {\"bgcolor\": \"white\", \"lakecolor\": \"white\", \"landcolor\": \"#E5ECF6\", \"showlakes\": true, \"showland\": true, \"subunitcolor\": \"white\"}, \"hoverlabel\": {\"align\": \"left\"}, \"hovermode\": \"closest\", \"mapbox\": {\"style\": \"light\"}, \"paper_bgcolor\": \"white\", \"plot_bgcolor\": \"#E5ECF6\", \"polar\": {\"angularaxis\": {\"gridcolor\": \"white\", \"linecolor\": \"white\", \"ticks\": \"\"}, \"bgcolor\": \"#E5ECF6\", \"radialaxis\": {\"gridcolor\": \"white\", \"linecolor\": \"white\", \"ticks\": \"\"}}, \"scene\": {\"xaxis\": {\"backgroundcolor\": \"#E5ECF6\", \"gridcolor\": \"white\", \"gridwidth\": 2, \"linecolor\": \"white\", \"showbackground\": true, \"ticks\": \"\", \"zerolinecolor\": \"white\"}, \"yaxis\": {\"backgroundcolor\": \"#E5ECF6\", \"gridcolor\": \"white\", \"gridwidth\": 2, \"linecolor\": \"white\", \"showbackground\": true, \"ticks\": \"\", \"zerolinecolor\": \"white\"}, \"zaxis\": {\"backgroundcolor\": \"#E5ECF6\", \"gridcolor\": \"white\", \"gridwidth\": 2, \"linecolor\": \"white\", \"showbackground\": true, \"ticks\": \"\", \"zerolinecolor\": \"white\"}}, \"shapedefaults\": {\"line\": {\"color\": \"#2a3f5f\"}}, \"ternary\": {\"aaxis\": {\"gridcolor\": \"white\", \"linecolor\": \"white\", \"ticks\": \"\"}, \"baxis\": {\"gridcolor\": \"white\", \"linecolor\": \"white\", \"ticks\": \"\"}, \"bgcolor\": \"#E5ECF6\", \"caxis\": {\"gridcolor\": \"white\", \"linecolor\": \"white\", \"ticks\": \"\"}}, \"title\": {\"x\": 0.05}, \"xaxis\": {\"automargin\": true, \"gridcolor\": \"white\", \"linecolor\": \"white\", \"ticks\": \"\", \"title\": {\"standoff\": 15}, \"zerolinecolor\": \"white\", \"zerolinewidth\": 2}, \"yaxis\": {\"automargin\": true, \"gridcolor\": \"white\", \"linecolor\": \"white\", \"ticks\": \"\", \"title\": {\"standoff\": 15}, \"zerolinecolor\": \"white\", \"zerolinewidth\": 2}}}, \"title\": {\"text\": \"Distribution of Targeted productivity\", \"x\": 0.5}, \"xaxis\": {\"anchor\": \"y\", \"domain\": [0.0, 1.0], \"tickfont\": {\"size\": 14}, \"title\": {\"font\": {\"size\": 16}, \"text\": \"Targeted Productivity\"}}, \"yaxis\": {\"anchor\": \"x\", \"domain\": [0.0, 1.0], \"tickfont\": {\"size\": 14}, \"title\": {\"font\": {\"size\": 16}, \"text\": \"Records\"}}},                        {\"responsive\": true}                    ).then(function(){\n",
       "                            \n",
       "var gd = document.getElementById('4d83674f-a21e-4412-9494-8c8125166ded');\n",
       "var x = new MutationObserver(function (mutations, observer) {{\n",
       "        var display = window.getComputedStyle(gd).display;\n",
       "        if (!display || display === 'none') {{\n",
       "            console.log([gd, 'removed!']);\n",
       "            Plotly.purge(gd);\n",
       "            observer.disconnect();\n",
       "        }}\n",
       "}});\n",
       "\n",
       "// Listen for the removal of the full notebook cells\n",
       "var notebookContainer = gd.closest('#notebook-container');\n",
       "if (notebookContainer) {{\n",
       "    x.observe(notebookContainer, {childList: true});\n",
       "}}\n",
       "\n",
       "// Listen for the clearing of the current output cell\n",
       "var outputEl = gd.closest('.output');\n",
       "if (outputEl) {{\n",
       "    x.observe(outputEl, {childList: true});\n",
       "}}\n",
       "\n",
       "                        })                };                });            </script>        </div>"
      ]
     },
     "metadata": {},
     "output_type": "display_data"
    }
   ],
   "source": [
    "fig = px.histogram(df, x=\"targeted_productivity\", nbins=20, color_discrete_sequence=['rgb(55, 83, 109)'])\n",
    "\n",
    "fig.update_layout(\n",
    "    title = 'Distribution of Targeted productivity',\n",
    "    title_x = 0.5,\n",
    "    xaxis_tickfont_size = 14,\n",
    "    \n",
    "    xaxis = dict(\n",
    "        title = 'Targeted Productivity',\n",
    "        titlefont_size = 16,\n",
    "        tickfont_size = 14,\n",
    "    ),\n",
    "    \n",
    "    yaxis = dict(\n",
    "        title = 'Records',\n",
    "        titlefont_size = 16,\n",
    "        tickfont_size = 14,\n",
    "    ),\n",
    "    barmode = 'group',\n",
    "    bargap = 0.15,\n",
    "    bargroupgap = 0.1,\n",
    ")\n",
    "\n",
    "fig.show()\n",
    "\n",
    "# Target productivity by authorities: \n",
    "# 0.8 => 45.2% (540/1196)\n",
    "# (0.7 + 0.75) => 38.3% (458/1196)\n",
    "# Remainings: 16.5%"
   ]
  },
  {
   "cell_type": "code",
   "execution_count": 60,
   "id": "f361dd99",
   "metadata": {},
   "outputs": [
    {
     "data": {
      "application/vnd.plotly.v1+json": {
       "config": {
        "plotlyServerURL": "https://plot.ly"
       },
       "data": [
        {
         "alignmentgroup": "True",
         "bingroup": "x",
         "hovertemplate": "actual_productivity=%{x}<br>count=%{y}<extra></extra>",
         "legendgroup": "",
         "marker": {
          "color": "rgb(242,170,76)"
         },
         "name": "",
         "nbinsx": 20,
         "offsetgroup": "",
         "orientation": "v",
         "showlegend": false,
         "type": "histogram",
         "x": [
          0.940725424,
          0.8865,
          0.800570492,
          0.800570492,
          0.800381944,
          0.800125,
          0.755166667,
          0.753683478,
          0.753097531,
          0.750427826,
          0.721126957,
          0.712205247,
          0.707045902,
          0.705916667,
          0.676666667,
          0.593055556,
          0.540729167,
          0.52118,
          0.436326389,
          0.988024691,
          0.987880435,
          0.956270833,
          0.945277778,
          0.902916667,
          0.800725314,
          0.800322936,
          0.800318644,
          0.800318644,
          0.800237288,
          0.800148649,
          0.800125,
          0.800125,
          0.787299691,
          0.782447917,
          0.75024303,
          0.7018125,
          0.700134038,
          0.699965217,
          0.628333333,
          0.6253125,
          0.991388889,
          0.931645833,
          0.915229167,
          0.879714482,
          0.861679012,
          0.850569492,
          0.850436438,
          0.850345133,
          0.800598058,
          0.800318644,
          0.800237838,
          0.800030199,
          0.792104167,
          0.759228395,
          0.750348457,
          0.75024303,
          0.699965217,
          0.682708333,
          0.667604167,
          0.603432184,
          0.345833333,
          0.961059028,
          0.939513889,
          0.893663194,
          0.875390625,
          0.850569492,
          0.820833333,
          0.804416667,
          0.800684366,
          0.800684366,
          0.800318644,
          0.800250962,
          0.800246011,
          0.800246011,
          0.800076522,
          0.800076522,
          0.763375,
          0.759270833,
          0.7504,
          0.75024303,
          0.676666667,
          0.664583333,
          0.600028736,
          0.966781346,
          0.936496212,
          0.899166667,
          0.888686869,
          0.858143939,
          0.850502311,
          0.850502311,
          0.809640152,
          0.805909091,
          0.800594466,
          0.800594466,
          0.800273829,
          0.800140969,
          0.800128721,
          0.800128721,
          0.80007657,
          0.750545455,
          0.750057851,
          0.681060606,
          0.649983281,
          0.61625,
          0.951420455,
          0.880530303,
          0.850502311,
          0.850502311,
          0.850136766,
          0.83,
          0.827186544,
          0.813371212,
          0.805909091,
          0.804640152,
          0.800594466,
          0.800594466,
          0.800343766,
          0.800273829,
          0.800246753,
          0.800128721,
          0.8,
          0.700480831,
          0.681060606,
          0.666515152,
          0.412119835,
          0.330113636,
          0.947689394,
          0.919905405,
          0.900215716,
          0.891723485,
          0.850502311,
          0.850181818,
          0.850136766,
          0.850136766,
          0.835757576,
          0.821354167,
          0.800497246,
          0.800273829,
          0.800107143,
          0.800024932,
          0.8,
          0.779791667,
          0.735984848,
          0.712626263,
          0.681060606,
          0.515606061,
          0.349951389,
          0.233705476,
          0.985,
          0.930340376,
          0.911589744,
          0.858143939,
          0.851174114,
          0.850136766,
          0.850136766,
          0.846950758,
          0.817424242,
          0.817102273,
          0.801028213,
          0.800594466,
          0.800346445,
          0.800343766,
          0.800117103,
          0.8,
          0.750098351,
          0.673245283,
          0.670075758,
          0.628882576,
          0.388007813,
          0.337973485,
          0.93532197,
          0.925643939,
          0.900215716,
          0.873068182,
          0.858143939,
          0.850502311,
          0.850136766,
          0.850136766,
          0.828295455,
          0.820833333,
          0.800343766,
          0.800246753,
          0.8,
          0.8,
          0.690182815,
          0.668087121,
          0.653598485,
          0.609138258,
          0.600229846,
          0.597348485,
          0.590435606,
          0.473134796,
          0.452979626,
          0.955151515,
          0.942213805,
          0.905454545,
          0.880530303,
          0.858143939,
          0.850522167,
          0.850502311,
          0.850136766,
          0.850136766,
          0.817424242,
          0.809564394,
          0.800273829,
          0.800181818,
          0.80007657,
          0.8,
          0.725,
          0.688557555,
          0.650040783,
          0.64998056,
          0.648106061,
          0.640577652,
          0.35063299,
          0.24625,
          0.952020202,
          0.951420455,
          0.912766667,
          0.901262626,
          0.858143939,
          0.850502311,
          0.850502311,
          0.850252525,
          0.850136766,
          0.821354167,
          0.805909091,
          0.800246753,
          0.800246753,
          0.8,
          0.705576584,
          0.681060606,
          0.670075758,
          0.601278409,
          0.582301029,
          0.526810345,
          0.500380799,
          0.35020649,
          0.934607438,
          0.908080808,
          0.900144811,
          0.891723485,
          0.864583333,
          0.858143939,
          0.850502311,
          0.850136766,
          0.837594697,
          0.820833333,
          0.800313433,
          0.800246753,
          0.800117103,
          0.700095563,
          0.667329545,
          0.600369686,
          0.499980334,
          0.35003125,
          0.332359307,
          0.311207464,
          0.247316017,
          0.988636364,
          0.953110048,
          0.884261364,
          0.860653409,
          0.858143939,
          0.850502311,
          0.850415628,
          0.850136766,
          0.800117103,
          0.80003139,
          0.80003139,
          0.700060345,
          0.689299242,
          0.660683293,
          0.650130952,
          0.606912879,
          0.600291767,
          0.500025069,
          0.499998888,
          0.98719697,
          0.980909091,
          0.974621212,
          0.884261364,
          0.82680303,
          0.800343766,
          0.800246753,
          0.800128721,
          0.800128721,
          0.800117103,
          0.800117103,
          0.77011398,
          0.7005417,
          0.675568182,
          0.661837121,
          0.650198653,
          0.600291767,
          0.600273268,
          0.465757576,
          0.452012539,
          0.313852814,
          0.852793561,
          0.838383838,
          0.804848485,
          0.800343766,
          0.800128721,
          0.800128721,
          0.800015009,
          0.7005417,
          0.700094156,
          0.692045455,
          0.662255892,
          0.650416734,
          0.650299575,
          0.650243497,
          0.639867424,
          0.600062696,
          0.582045455,
          0.403242161,
          0.235795455,
          0.977272727,
          0.964106061,
          0.958901515,
          0.800358775,
          0.800162602,
          0.800117103,
          0.793844697,
          0.750517565,
          0.750068049,
          0.750062751,
          0.750057359,
          0.700170388,
          0.683806818,
          0.650066445,
          0.576460393,
          0.549969429,
          0.538399621,
          0.409545455,
          0.35021836,
          1.033570076,
          0.800261486,
          0.800128721,
          0.800117103,
          0.750068049,
          0.750057359,
          0.750037968,
          0.750031898,
          0.72830303,
          0.700170388,
          0.700063796,
          0.639867424,
          0.500290419,
          0.400332792,
          0.362666667,
          0.978525641,
          0.912202112,
          0.900556277,
          0.850410511,
          0.827147436,
          0.800436542,
          0.800415742,
          0.800020563,
          0.758173077,
          0.750344828,
          0.750068049,
          0.700170388,
          0.700029771,
          0.60017284,
          0.594871795,
          0.520237649,
          0.505128205,
          0.500241342,
          0.470769231,
          0.957638889,
          0.940701058,
          0.849983766,
          0.800302791,
          0.800191989,
          0.800020563,
          0.750162367,
          0.750068049,
          0.742901235,
          0.700250784,
          0.700170388,
          0.670216049,
          0.649662222,
          0.649662222,
          0.626822917,
          0.600436426,
          0.60041361,
          0.555500132,
          0.500547544,
          0.460578704,
          0.397743056,
          0.327407407,
          0.966666667,
          0.937242424,
          0.910521886,
          0.90064806,
          0.900321106,
          0.896022727,
          0.895454545,
          0.870580808,
          0.858585859,
          0.800643806,
          0.80062987,
          0.800537143,
          0.80035194,
          0.750079323,
          0.750041201,
          0.700250784,
          0.651515152,
          0.650416734,
          0.600125217,
          0.578314394,
          0.578314394,
          0.34998951,
          0.261174242,
          0.973796791,
          0.970075758,
          0.970075758,
          0.961784512,
          0.955151515,
          0.952020202,
          0.900321106,
          0.850223776,
          0.800909609,
          0.800513307,
          0.800386364,
          0.800020563,
          0.749188312,
          0.7005417,
          0.70043672,
          0.700250784,
          0.650407524,
          0.618181818,
          0.59114168,
          0.500061916,
          0.329545455,
          1.059621212,
          0.997792208,
          0.963699495,
          0.959191919,
          0.910378788,
          0.910378788,
          0.850312684,
          0.800386364,
          0.80035194,
          0.800034024,
          0.800023511,
          0.800020563,
          0.769292929,
          0.750031447,
          0.70061442,
          0.70043672,
          0.646306818,
          0.600143365,
          0.350066986,
          1.000230409,
          1.000230409,
          0.979527778,
          0.940625,
          0.926388889,
          0.900129762,
          0.861875,
          0.850312684,
          0.845458333,
          0.823555556,
          0.803541667,
          0.800263218,
          0.788,
          0.77815,
          0.700386207,
          0.700164706,
          0.650307143,
          0.622828125,
          0.6225,
          0.500035345,
          0.37046657,
          1.000230409,
          1.000230409,
          0.977555556,
          0.9456,
          0.902222222,
          0.850532143,
          0.850362069,
          0.840533333,
          0.800534483,
          0.800489676,
          0.755555556,
          0.750593103,
          0.750283333,
          0.722638889,
          0.553333333,
          0.500567308,
          0.467693269,
          0.437995338,
          0.406354167,
          0.285333333,
          0.259375,
          1.000230409,
          0.989,
          0.950185965,
          0.9008,
          0.900129762,
          0.899,
          0.877552083,
          0.864583333,
          0.85695,
          0.853666667,
          0.850362069,
          0.850170115,
          0.800473729,
          0.773333333,
          0.750646667,
          0.634666667,
          0.60059761,
          0.500117677,
          0.4925,
          0.48792,
          1.000457471,
          1.000230409,
          0.971866667,
          0.971866667,
          0.971866667,
          0.971866667,
          0.971866667,
          0.971866667,
          0.971866667,
          0.971866667,
          0.971866667,
          0.971866667,
          0.971866667,
          0.971866667,
          0.920236905,
          0.900537069,
          0.850610526,
          0.850362069,
          0.750646667,
          0.656763743,
          0.650148148,
          0.600710606,
          0.388830357,
          0.286984568,
          1.0115625,
          1.000671304,
          1.000402055,
          0.950438596,
          0.950185965,
          0.912766667,
          0.892194444,
          0.8865,
          0.850532143,
          0.85011396,
          0.845069444,
          0.750593103,
          0.750450658,
          0.702666667,
          0.700508929,
          0.651007071,
          0.466821212,
          0.411553571,
          0.314166667,
          1.000602279,
          0.994270833,
          0.900158405,
          0.90014152,
          0.900129762,
          0.85695,
          0.809236111,
          0.800401961,
          0.800393224,
          0.799963218,
          0.740444444,
          0.700398148,
          0.700354545,
          0.561979167,
          0.504596491,
          0.500801724,
          0.295307738,
          0.280333333,
          0.260978788,
          1.001416667,
          1.000018551,
          0.999995238,
          0.99485,
          0.976979167,
          0.950185965,
          0.949981609,
          0.919954545,
          0.800434622,
          0.800259023,
          0.778222222,
          0.750593103,
          0.700513566,
          0.700184577,
          0.586465465,
          0.541517857,
          0.5375,
          0.495416667,
          0.415172414,
          1.05028058,
          1.000230409,
          0.999995238,
          0.966759259,
          0.929183333,
          0.915766667,
          0.900147246,
          0.800401961,
          0.799963218,
          0.779791667,
          0.755166667,
          0.700710417,
          0.700612069,
          0.700278846,
          0.700135088,
          0.687555556,
          0.650834808,
          0.531666667,
          0.350706422,
          1.000446018,
          1.000018551,
          0.999995238,
          0.999924242,
          0.950185965,
          0.9425,
          0.906666667,
          0.8471,
          0.845458333,
          0.800612676,
          0.799963218,
          0.771583333,
          0.7504,
          0.700079032,
          0.562212644,
          0.522844828,
          0.500720126,
          0.496549708,
          1.050666667,
          1.000018551,
          0.950185965,
          0.900135693,
          0.900129762,
          0.899111111,
          0.870083333,
          0.845833333,
          0.800401961,
          0.799963218,
          0.771583333,
          0.750520115,
          0.750027778,
          0.715766667,
          0.662270115,
          0.600224189,
          0.545657673,
          0.447916667,
          0.365318713,
          1.000018551,
          0.928680556,
          0.9008,
          0.900135693,
          0.900129762,
          0.893066667,
          0.891555556,
          0.875555556,
          0.840888889,
          0.800355208,
          0.799963218,
          0.75065101,
          0.750027778,
          0.700618234,
          0.610208333,
          0.607416667,
          0.568259587,
          0.355534483,
          0.353259649,
          1.057962963,
          0.962016667,
          0.9008,
          0.900509044,
          0.900477825,
          0.888125,
          0.800401961,
          0.800161172,
          0.799963218,
          0.790003236,
          0.750648148,
          0.707111111,
          0.700618234,
          0.697708333,
          0.612517157,
          0.350301724,
          0.350301724,
          0.272,
          1.004888889,
          0.966759259,
          0.90063244,
          0.90047076,
          0.90047076,
          0.899984058,
          0.853666667,
          0.8008,
          0.800401961,
          0.796755556,
          0.750797009,
          0.750648148,
          0.750356125,
          0.703770833,
          0.700618234,
          0.6895,
          0.628333333,
          0.500801724,
          0.393548851,
          1.033155556,
          1.02,
          1.000344928,
          1.000065789,
          0.994375,
          0.912037037,
          0.87,
          0.850364583,
          0.800947475,
          0.800401961,
          0.800144144,
          0.750406233,
          0.714410494,
          0.700588406,
          0.618361111,
          0.600070513,
          0.54175,
          0.536901754,
          0.507903226,
          1.100483918,
          1.096633333,
          1.000344928,
          0.838666667,
          0.800401961,
          0.755486111,
          0.750799435,
          0.688017677,
          0.664875,
          0.656666667,
          0.637711864,
          0.601944444,
          0.58,
          0.535677966,
          0.50012336,
          0.497885057,
          0.463403955,
          0.441392,
          0.350301724,
          1.000230409,
          0.929277778,
          0.902916667,
          0.800888889,
          0.800401961,
          0.80037492,
          0.796208333,
          0.750392157,
          0.750392157,
          0.725625,
          0.700206125,
          0.602,
          0.600447507,
          0.557252451,
          0.500801724,
          0.483333333,
          0.238041667,
          1.1204375,
          1.108125,
          1.000230409,
          0.876444444,
          0.800806306,
          0.760833333,
          0.722568627,
          0.715333333,
          0.700632768,
          0.700573099,
          0.681598039,
          0.650223718,
          0.605208333,
          0.604166667,
          0.598627451,
          0.475718391,
          0.432122899,
          0.287041667,
          0.283054487,
          1.000230409,
          0.960433333,
          0.891555556,
          0.864583333,
          0.802243319,
          0.800980392,
          0.800312375,
          0.773333333,
          0.75065101,
          0.750356125,
          0.722333333,
          0.700459889,
          0.629416667,
          0.621971751,
          0.565972222,
          0.35542803,
          0.329964879,
          0.258,
          1.000230409,
          0.927541667,
          0.91375,
          0.9025,
          0.800401961,
          0.7866,
          0.750621354,
          0.750356125,
          0.749166667,
          0.700888203,
          0.700614035,
          0.700603448,
          0.656666667,
          0.653431373,
          0.650134,
          0.600982906,
          0.586041667,
          0.5814,
          0.361071429,
          0.302117347,
          0.9918,
          0.936861111,
          0.919125,
          0.8211125,
          0.800980392,
          0.800980392,
          0.800401961,
          0.800279693,
          0.75065101,
          0.75053268,
          0.734645833,
          0.700603448,
          0.70009573,
          0.671875,
          0.64025,
          0.58,
          0.549791667,
          0.328131579,
          0.303574468,
          0.2565,
          0.251399254,
          0.81640625,
          0.800711494,
          0.800470513,
          0.800094017,
          0.799982853,
          0.785864198,
          0.75065101,
          0.733277778,
          0.710125,
          0.700603448,
          0.700540441,
          0.7,
          0.684027778,
          0.672135417,
          0.638614379,
          0.631354167,
          0.611140537,
          0.609583333,
          0.585315789,
          0.249416667,
          0.8721,
          0.8319375,
          0.8300625,
          0.805555556,
          0.800401961,
          0.80000295,
          0.78375,
          0.753525,
          0.75065101,
          0.727349537,
          0.700614035,
          0.700605263,
          0.672140805,
          0.627011183,
          0.626577778,
          0.456875,
          0.393548851,
          0.385791667,
          0.307501459,
          0.283958333,
          0.955791667,
          0.930416667,
          0.9025,
          0.87115,
          0.800401961,
          0.800137255,
          0.800137255,
          0.750770115,
          0.75065101,
          0.750293939,
          0.700623,
          0.700614035,
          0.700362069,
          0.60128,
          0.417916667,
          0.3715625,
          0.3715625,
          0.36871875,
          0.356458333,
          0.902222222,
          0.811388889,
          0.800401961,
          0.800137255,
          0.800071839,
          0.791458333,
          0.750727326,
          0.75065101,
          0.750437269,
          0.750176991,
          0.726933333,
          0.726933333,
          0.700623,
          0.700518519,
          0.700256795,
          0.5046875,
          0.471108491,
          0.325,
          0.268214286,
          0.970816667,
          0.902962963,
          0.900833333,
          0.899555556,
          0.845833333,
          0.800808642,
          0.800401961,
          0.800115819,
          0.75065101,
          0.750503571,
          0.750206897,
          0.700362069,
          0.700069811,
          0.700058333,
          0.676666667,
          0.658541667,
          0.598792339,
          0.581130952,
          0.440375,
          0.410833333,
          0.410833333,
          0.921703704,
          0.921604938,
          0.800808642,
          0.800516667,
          0.800401961,
          0.768847222,
          0.75065101,
          0.750473684,
          0.750371895,
          0.750206897,
          0.700251773,
          0.66237931,
          0.590617284,
          0.5565625,
          0.495617514,
          0.449964912,
          0.410833333,
          0.4078125,
          0.378895152,
          0.376597222,
          0.271875,
          0.921703704,
          0.921604938,
          0.800779018,
          0.800260821,
          0.799982853,
          0.768847222,
          0.750716981,
          0.75065101,
          0.750425926,
          0.750395513,
          0.700236601,
          0.700211111,
          0.590617284,
          0.5565625,
          0.550403509,
          0.550349708,
          0.500258046,
          0.410833333,
          0.4078125,
          0.376597222,
          0.271875,
          0.936355556,
          0.813611111,
          0.800401961,
          0.75075,
          0.75065101,
          0.750473684,
          0.750395513,
          0.707446429,
          0.700236601,
          0.700019883,
          0.683550607,
          0.682433036,
          0.673083333,
          0.664583333,
          0.600239766,
          0.585,
          0.579511494,
          0.448722222,
          0.447083333,
          0.350416667,
          0.92885,
          0.86037037,
          0.806879167,
          0.800579532,
          0.800401961,
          0.8004,
          0.800309211,
          0.800149813,
          0.800115819,
          0.773333333,
          0.750797009,
          0.750473684,
          0.750395513,
          0.750254867,
          0.700903571,
          0.70013604,
          0.632361111,
          0.607654321,
          0.537919444,
          0.342361111,
          0.999533333,
          0.902962963,
          0.800701754,
          0.800566092,
          0.800401961,
          0.800333333,
          0.800115819,
          0.750770115,
          0.750473684,
          0.750395513,
          0.750212553,
          0.702777778,
          0.700659649,
          0.699984417,
          0.636049383,
          0.567377778,
          0.555430556,
          0.555430556,
          0.463194444,
          0.354444444,
          0.309333333,
          0.30277037,
          0.939166667,
          0.930416667,
          0.885925926,
          0.83375,
          0.806879167,
          0.806058333,
          0.800701754,
          0.800401961,
          0.800333333,
          0.800055762,
          0.799975862,
          0.750651724,
          0.750395513,
          0.700424138,
          0.700058333,
          0.684888889,
          0.592083333,
          0.5403125,
          0.433263158,
          0.404144928,
          0.332146465,
          0.980984848,
          0.950625,
          0.927291667,
          0.868888889,
          0.812625,
          0.812625,
          0.810111111,
          0.800701754,
          0.800534979,
          0.800401961,
          0.750651724,
          0.750395513,
          0.750050847,
          0.700424138,
          0.700422,
          0.600099145,
          0.453125,
          0.366053523,
          0.26369382,
          0.868888889,
          0.850520588,
          0.850045,
          0.825444444,
          0.80575,
          0.800746552,
          0.800578947,
          0.800034503,
          0.7975,
          0.749987124,
          0.700422,
          0.664875,
          0.664875,
          0.657083333,
          0.65024031,
          0.590740741,
          0.528125,
          0.500528095,
          0.408960345,
          0.951944444,
          0.945555556,
          0.929074074,
          0.890604167,
          0.890604167,
          0.884,
          0.857916667,
          0.850084211,
          0.85007069,
          0.800511068,
          0.800401961,
          0.800034503,
          0.755208333,
          0.750371895,
          0.700422,
          0.700106061,
          0.601037091,
          0.600528571,
          0.500033898,
          0.4509375,
          0.441041667,
          0.271875,
          0.960625,
          0.902962963,
          0.864342593,
          0.850446154,
          0.850426891,
          0.841,
          0.800842424,
          0.800401961,
          0.800034503,
          0.795416667,
          0.7953875,
          0.794566667,
          0.750395513,
          0.700516224,
          0.700422,
          0.6825,
          0.650962281,
          0.650421429,
          0.600040678,
          0.500610909,
          0.477291667,
          0.2640625,
          0.92,
          0.909391667,
          0.900061017,
          0.894444444,
          0.881575,
          0.880754167,
          0.850084211,
          0.821666667,
          0.800401961,
          0.800071839,
          0.800034503,
          0.758229167,
          0.750608,
          0.750395513,
          0.741,
          0.700505263,
          0.700246491,
          0.700051852,
          0.650044068,
          0.630402924,
          0.560625,
          0.560625,
          0.39875,
          0.922839506,
          0.874027778,
          0.819270833,
          0.813309028,
          0.812625,
          0.800401961,
          0.800071839,
          0.800034503,
          0.786631944,
          0.75885,
          0.750608,
          0.750347333,
          0.750140741,
          0.750050847,
          0.750050847,
          0.700556897,
          0.700505263,
          0.700246491,
          0.650596491,
          0.628333333,
          0.625625,
          0.625625,
          0.505888889,
          0.394722222
         ],
         "xaxis": "x",
         "yaxis": "y"
        }
       ],
       "layout": {
        "bargap": 0.15,
        "bargroupgap": 0.1,
        "barmode": "group",
        "legend": {
         "tracegroupgap": 0
        },
        "margin": {
         "t": 60
        },
        "template": {
         "data": {
          "bar": [
           {
            "error_x": {
             "color": "#2a3f5f"
            },
            "error_y": {
             "color": "#2a3f5f"
            },
            "marker": {
             "line": {
              "color": "#E5ECF6",
              "width": 0.5
             }
            },
            "type": "bar"
           }
          ],
          "barpolar": [
           {
            "marker": {
             "line": {
              "color": "#E5ECF6",
              "width": 0.5
             }
            },
            "type": "barpolar"
           }
          ],
          "carpet": [
           {
            "aaxis": {
             "endlinecolor": "#2a3f5f",
             "gridcolor": "white",
             "linecolor": "white",
             "minorgridcolor": "white",
             "startlinecolor": "#2a3f5f"
            },
            "baxis": {
             "endlinecolor": "#2a3f5f",
             "gridcolor": "white",
             "linecolor": "white",
             "minorgridcolor": "white",
             "startlinecolor": "#2a3f5f"
            },
            "type": "carpet"
           }
          ],
          "choropleth": [
           {
            "colorbar": {
             "outlinewidth": 0,
             "ticks": ""
            },
            "type": "choropleth"
           }
          ],
          "contour": [
           {
            "colorbar": {
             "outlinewidth": 0,
             "ticks": ""
            },
            "colorscale": [
             [
              0,
              "#0d0887"
             ],
             [
              0.1111111111111111,
              "#46039f"
             ],
             [
              0.2222222222222222,
              "#7201a8"
             ],
             [
              0.3333333333333333,
              "#9c179e"
             ],
             [
              0.4444444444444444,
              "#bd3786"
             ],
             [
              0.5555555555555556,
              "#d8576b"
             ],
             [
              0.6666666666666666,
              "#ed7953"
             ],
             [
              0.7777777777777778,
              "#fb9f3a"
             ],
             [
              0.8888888888888888,
              "#fdca26"
             ],
             [
              1,
              "#f0f921"
             ]
            ],
            "type": "contour"
           }
          ],
          "contourcarpet": [
           {
            "colorbar": {
             "outlinewidth": 0,
             "ticks": ""
            },
            "type": "contourcarpet"
           }
          ],
          "heatmap": [
           {
            "colorbar": {
             "outlinewidth": 0,
             "ticks": ""
            },
            "colorscale": [
             [
              0,
              "#0d0887"
             ],
             [
              0.1111111111111111,
              "#46039f"
             ],
             [
              0.2222222222222222,
              "#7201a8"
             ],
             [
              0.3333333333333333,
              "#9c179e"
             ],
             [
              0.4444444444444444,
              "#bd3786"
             ],
             [
              0.5555555555555556,
              "#d8576b"
             ],
             [
              0.6666666666666666,
              "#ed7953"
             ],
             [
              0.7777777777777778,
              "#fb9f3a"
             ],
             [
              0.8888888888888888,
              "#fdca26"
             ],
             [
              1,
              "#f0f921"
             ]
            ],
            "type": "heatmap"
           }
          ],
          "heatmapgl": [
           {
            "colorbar": {
             "outlinewidth": 0,
             "ticks": ""
            },
            "colorscale": [
             [
              0,
              "#0d0887"
             ],
             [
              0.1111111111111111,
              "#46039f"
             ],
             [
              0.2222222222222222,
              "#7201a8"
             ],
             [
              0.3333333333333333,
              "#9c179e"
             ],
             [
              0.4444444444444444,
              "#bd3786"
             ],
             [
              0.5555555555555556,
              "#d8576b"
             ],
             [
              0.6666666666666666,
              "#ed7953"
             ],
             [
              0.7777777777777778,
              "#fb9f3a"
             ],
             [
              0.8888888888888888,
              "#fdca26"
             ],
             [
              1,
              "#f0f921"
             ]
            ],
            "type": "heatmapgl"
           }
          ],
          "histogram": [
           {
            "marker": {
             "colorbar": {
              "outlinewidth": 0,
              "ticks": ""
             }
            },
            "type": "histogram"
           }
          ],
          "histogram2d": [
           {
            "colorbar": {
             "outlinewidth": 0,
             "ticks": ""
            },
            "colorscale": [
             [
              0,
              "#0d0887"
             ],
             [
              0.1111111111111111,
              "#46039f"
             ],
             [
              0.2222222222222222,
              "#7201a8"
             ],
             [
              0.3333333333333333,
              "#9c179e"
             ],
             [
              0.4444444444444444,
              "#bd3786"
             ],
             [
              0.5555555555555556,
              "#d8576b"
             ],
             [
              0.6666666666666666,
              "#ed7953"
             ],
             [
              0.7777777777777778,
              "#fb9f3a"
             ],
             [
              0.8888888888888888,
              "#fdca26"
             ],
             [
              1,
              "#f0f921"
             ]
            ],
            "type": "histogram2d"
           }
          ],
          "histogram2dcontour": [
           {
            "colorbar": {
             "outlinewidth": 0,
             "ticks": ""
            },
            "colorscale": [
             [
              0,
              "#0d0887"
             ],
             [
              0.1111111111111111,
              "#46039f"
             ],
             [
              0.2222222222222222,
              "#7201a8"
             ],
             [
              0.3333333333333333,
              "#9c179e"
             ],
             [
              0.4444444444444444,
              "#bd3786"
             ],
             [
              0.5555555555555556,
              "#d8576b"
             ],
             [
              0.6666666666666666,
              "#ed7953"
             ],
             [
              0.7777777777777778,
              "#fb9f3a"
             ],
             [
              0.8888888888888888,
              "#fdca26"
             ],
             [
              1,
              "#f0f921"
             ]
            ],
            "type": "histogram2dcontour"
           }
          ],
          "mesh3d": [
           {
            "colorbar": {
             "outlinewidth": 0,
             "ticks": ""
            },
            "type": "mesh3d"
           }
          ],
          "parcoords": [
           {
            "line": {
             "colorbar": {
              "outlinewidth": 0,
              "ticks": ""
             }
            },
            "type": "parcoords"
           }
          ],
          "pie": [
           {
            "automargin": true,
            "type": "pie"
           }
          ],
          "scatter": [
           {
            "marker": {
             "colorbar": {
              "outlinewidth": 0,
              "ticks": ""
             }
            },
            "type": "scatter"
           }
          ],
          "scatter3d": [
           {
            "line": {
             "colorbar": {
              "outlinewidth": 0,
              "ticks": ""
             }
            },
            "marker": {
             "colorbar": {
              "outlinewidth": 0,
              "ticks": ""
             }
            },
            "type": "scatter3d"
           }
          ],
          "scattercarpet": [
           {
            "marker": {
             "colorbar": {
              "outlinewidth": 0,
              "ticks": ""
             }
            },
            "type": "scattercarpet"
           }
          ],
          "scattergeo": [
           {
            "marker": {
             "colorbar": {
              "outlinewidth": 0,
              "ticks": ""
             }
            },
            "type": "scattergeo"
           }
          ],
          "scattergl": [
           {
            "marker": {
             "colorbar": {
              "outlinewidth": 0,
              "ticks": ""
             }
            },
            "type": "scattergl"
           }
          ],
          "scattermapbox": [
           {
            "marker": {
             "colorbar": {
              "outlinewidth": 0,
              "ticks": ""
             }
            },
            "type": "scattermapbox"
           }
          ],
          "scatterpolar": [
           {
            "marker": {
             "colorbar": {
              "outlinewidth": 0,
              "ticks": ""
             }
            },
            "type": "scatterpolar"
           }
          ],
          "scatterpolargl": [
           {
            "marker": {
             "colorbar": {
              "outlinewidth": 0,
              "ticks": ""
             }
            },
            "type": "scatterpolargl"
           }
          ],
          "scatterternary": [
           {
            "marker": {
             "colorbar": {
              "outlinewidth": 0,
              "ticks": ""
             }
            },
            "type": "scatterternary"
           }
          ],
          "surface": [
           {
            "colorbar": {
             "outlinewidth": 0,
             "ticks": ""
            },
            "colorscale": [
             [
              0,
              "#0d0887"
             ],
             [
              0.1111111111111111,
              "#46039f"
             ],
             [
              0.2222222222222222,
              "#7201a8"
             ],
             [
              0.3333333333333333,
              "#9c179e"
             ],
             [
              0.4444444444444444,
              "#bd3786"
             ],
             [
              0.5555555555555556,
              "#d8576b"
             ],
             [
              0.6666666666666666,
              "#ed7953"
             ],
             [
              0.7777777777777778,
              "#fb9f3a"
             ],
             [
              0.8888888888888888,
              "#fdca26"
             ],
             [
              1,
              "#f0f921"
             ]
            ],
            "type": "surface"
           }
          ],
          "table": [
           {
            "cells": {
             "fill": {
              "color": "#EBF0F8"
             },
             "line": {
              "color": "white"
             }
            },
            "header": {
             "fill": {
              "color": "#C8D4E3"
             },
             "line": {
              "color": "white"
             }
            },
            "type": "table"
           }
          ]
         },
         "layout": {
          "annotationdefaults": {
           "arrowcolor": "#2a3f5f",
           "arrowhead": 0,
           "arrowwidth": 1
          },
          "autotypenumbers": "strict",
          "coloraxis": {
           "colorbar": {
            "outlinewidth": 0,
            "ticks": ""
           }
          },
          "colorscale": {
           "diverging": [
            [
             0,
             "#8e0152"
            ],
            [
             0.1,
             "#c51b7d"
            ],
            [
             0.2,
             "#de77ae"
            ],
            [
             0.3,
             "#f1b6da"
            ],
            [
             0.4,
             "#fde0ef"
            ],
            [
             0.5,
             "#f7f7f7"
            ],
            [
             0.6,
             "#e6f5d0"
            ],
            [
             0.7,
             "#b8e186"
            ],
            [
             0.8,
             "#7fbc41"
            ],
            [
             0.9,
             "#4d9221"
            ],
            [
             1,
             "#276419"
            ]
           ],
           "sequential": [
            [
             0,
             "#0d0887"
            ],
            [
             0.1111111111111111,
             "#46039f"
            ],
            [
             0.2222222222222222,
             "#7201a8"
            ],
            [
             0.3333333333333333,
             "#9c179e"
            ],
            [
             0.4444444444444444,
             "#bd3786"
            ],
            [
             0.5555555555555556,
             "#d8576b"
            ],
            [
             0.6666666666666666,
             "#ed7953"
            ],
            [
             0.7777777777777778,
             "#fb9f3a"
            ],
            [
             0.8888888888888888,
             "#fdca26"
            ],
            [
             1,
             "#f0f921"
            ]
           ],
           "sequentialminus": [
            [
             0,
             "#0d0887"
            ],
            [
             0.1111111111111111,
             "#46039f"
            ],
            [
             0.2222222222222222,
             "#7201a8"
            ],
            [
             0.3333333333333333,
             "#9c179e"
            ],
            [
             0.4444444444444444,
             "#bd3786"
            ],
            [
             0.5555555555555556,
             "#d8576b"
            ],
            [
             0.6666666666666666,
             "#ed7953"
            ],
            [
             0.7777777777777778,
             "#fb9f3a"
            ],
            [
             0.8888888888888888,
             "#fdca26"
            ],
            [
             1,
             "#f0f921"
            ]
           ]
          },
          "colorway": [
           "#636efa",
           "#EF553B",
           "#00cc96",
           "#ab63fa",
           "#FFA15A",
           "#19d3f3",
           "#FF6692",
           "#B6E880",
           "#FF97FF",
           "#FECB52"
          ],
          "font": {
           "color": "#2a3f5f"
          },
          "geo": {
           "bgcolor": "white",
           "lakecolor": "white",
           "landcolor": "#E5ECF6",
           "showlakes": true,
           "showland": true,
           "subunitcolor": "white"
          },
          "hoverlabel": {
           "align": "left"
          },
          "hovermode": "closest",
          "mapbox": {
           "style": "light"
          },
          "paper_bgcolor": "white",
          "plot_bgcolor": "#E5ECF6",
          "polar": {
           "angularaxis": {
            "gridcolor": "white",
            "linecolor": "white",
            "ticks": ""
           },
           "bgcolor": "#E5ECF6",
           "radialaxis": {
            "gridcolor": "white",
            "linecolor": "white",
            "ticks": ""
           }
          },
          "scene": {
           "xaxis": {
            "backgroundcolor": "#E5ECF6",
            "gridcolor": "white",
            "gridwidth": 2,
            "linecolor": "white",
            "showbackground": true,
            "ticks": "",
            "zerolinecolor": "white"
           },
           "yaxis": {
            "backgroundcolor": "#E5ECF6",
            "gridcolor": "white",
            "gridwidth": 2,
            "linecolor": "white",
            "showbackground": true,
            "ticks": "",
            "zerolinecolor": "white"
           },
           "zaxis": {
            "backgroundcolor": "#E5ECF6",
            "gridcolor": "white",
            "gridwidth": 2,
            "linecolor": "white",
            "showbackground": true,
            "ticks": "",
            "zerolinecolor": "white"
           }
          },
          "shapedefaults": {
           "line": {
            "color": "#2a3f5f"
           }
          },
          "ternary": {
           "aaxis": {
            "gridcolor": "white",
            "linecolor": "white",
            "ticks": ""
           },
           "baxis": {
            "gridcolor": "white",
            "linecolor": "white",
            "ticks": ""
           },
           "bgcolor": "#E5ECF6",
           "caxis": {
            "gridcolor": "white",
            "linecolor": "white",
            "ticks": ""
           }
          },
          "title": {
           "x": 0.05
          },
          "xaxis": {
           "automargin": true,
           "gridcolor": "white",
           "linecolor": "white",
           "ticks": "",
           "title": {
            "standoff": 15
           },
           "zerolinecolor": "white",
           "zerolinewidth": 2
          },
          "yaxis": {
           "automargin": true,
           "gridcolor": "white",
           "linecolor": "white",
           "ticks": "",
           "title": {
            "standoff": 15
           },
           "zerolinecolor": "white",
           "zerolinewidth": 2
          }
         }
        },
        "title": {
         "text": "Distribution of Actual productivity",
         "x": 0.5
        },
        "xaxis": {
         "anchor": "y",
         "domain": [
          0,
          1
         ],
         "tickfont": {
          "size": 14
         },
         "title": {
          "font": {
           "size": 16
          },
          "text": "Actual Productivity"
         }
        },
        "yaxis": {
         "anchor": "x",
         "domain": [
          0,
          1
         ],
         "tickfont": {
          "size": 14
         },
         "title": {
          "font": {
           "size": 16
          },
          "text": "Records"
         }
        }
       }
      },
      "text/html": [
       "<div>                            <div id=\"cb667510-960a-4c26-a498-30c83b3c465f\" class=\"plotly-graph-div\" style=\"height:525px; width:100%;\"></div>            <script type=\"text/javascript\">                require([\"plotly\"], function(Plotly) {                    window.PLOTLYENV=window.PLOTLYENV || {};                                    if (document.getElementById(\"cb667510-960a-4c26-a498-30c83b3c465f\")) {                    Plotly.newPlot(                        \"cb667510-960a-4c26-a498-30c83b3c465f\",                        [{\"alignmentgroup\": \"True\", \"bingroup\": \"x\", \"hovertemplate\": \"actual_productivity=%{x}<br>count=%{y}<extra></extra>\", \"legendgroup\": \"\", \"marker\": {\"color\": \"rgb(242,170,76)\"}, \"name\": \"\", \"nbinsx\": 20, \"offsetgroup\": \"\", \"orientation\": \"v\", \"showlegend\": false, \"type\": \"histogram\", \"x\": [0.940725424, 0.8865, 0.800570492, 0.800570492, 0.800381944, 0.800125, 0.755166667, 0.753683478, 0.753097531, 0.750427826, 0.721126957, 0.712205247, 0.707045902, 0.705916667, 0.676666667, 0.593055556, 0.540729167, 0.52118, 0.436326389, 0.988024691, 0.987880435, 0.956270833, 0.945277778, 0.902916667, 0.800725314, 0.800322936, 0.800318644, 0.800318644, 0.800237288, 0.800148649, 0.800125, 0.800125, 0.787299691, 0.782447917, 0.75024303, 0.7018125, 0.700134038, 0.699965217, 0.628333333, 0.6253125, 0.991388889, 0.931645833, 0.915229167, 0.879714482, 0.861679012, 0.850569492, 0.850436438, 0.850345133, 0.800598058, 0.800318644, 0.800237838, 0.800030199, 0.792104167, 0.759228395, 0.750348457, 0.75024303, 0.699965217, 0.682708333, 0.667604167, 0.603432184, 0.345833333, 0.961059028, 0.939513889, 0.893663194, 0.875390625, 0.850569492, 0.820833333, 0.804416667, 0.800684366, 0.800684366, 0.800318644, 0.800250962, 0.800246011, 0.800246011, 0.800076522, 0.800076522, 0.763375, 0.759270833, 0.7504, 0.75024303, 0.676666667, 0.664583333, 0.600028736, 0.966781346, 0.936496212, 0.899166667, 0.888686869, 0.858143939, 0.850502311, 0.850502311, 0.809640152, 0.805909091, 0.800594466, 0.800594466, 0.800273829, 0.800140969, 0.800128721, 0.800128721, 0.80007657, 0.750545455, 0.750057851, 0.681060606, 0.649983281, 0.61625, 0.951420455, 0.880530303, 0.850502311, 0.850502311, 0.850136766, 0.83, 0.827186544, 0.813371212, 0.805909091, 0.804640152, 0.800594466, 0.800594466, 0.800343766, 0.800273829, 0.800246753, 0.800128721, 0.8, 0.700480831, 0.681060606, 0.666515152, 0.412119835, 0.330113636, 0.947689394, 0.919905405, 0.900215716, 0.891723485, 0.850502311, 0.850181818, 0.850136766, 0.850136766, 0.835757576, 0.821354167, 0.800497246, 0.800273829, 0.800107143, 0.800024932, 0.8, 0.779791667, 0.735984848, 0.712626263, 0.681060606, 0.515606061, 0.349951389, 0.233705476, 0.985, 0.930340376, 0.911589744, 0.858143939, 0.851174114, 0.850136766, 0.850136766, 0.846950758, 0.817424242, 0.817102273, 0.801028213, 0.800594466, 0.800346445, 0.800343766, 0.800117103, 0.8, 0.750098351, 0.673245283, 0.670075758, 0.628882576, 0.388007813, 0.337973485, 0.93532197, 0.925643939, 0.900215716, 0.873068182, 0.858143939, 0.850502311, 0.850136766, 0.850136766, 0.828295455, 0.820833333, 0.800343766, 0.800246753, 0.8, 0.8, 0.690182815, 0.668087121, 0.653598485, 0.609138258, 0.600229846, 0.597348485, 0.590435606, 0.473134796, 0.452979626, 0.955151515, 0.942213805, 0.905454545, 0.880530303, 0.858143939, 0.850522167, 0.850502311, 0.850136766, 0.850136766, 0.817424242, 0.809564394, 0.800273829, 0.800181818, 0.80007657, 0.8, 0.725, 0.688557555, 0.650040783, 0.64998056, 0.648106061, 0.640577652, 0.35063299, 0.24625, 0.952020202, 0.951420455, 0.912766667, 0.901262626, 0.858143939, 0.850502311, 0.850502311, 0.850252525, 0.850136766, 0.821354167, 0.805909091, 0.800246753, 0.800246753, 0.8, 0.705576584, 0.681060606, 0.670075758, 0.601278409, 0.582301029, 0.526810345, 0.500380799, 0.35020649, 0.934607438, 0.908080808, 0.900144811, 0.891723485, 0.864583333, 0.858143939, 0.850502311, 0.850136766, 0.837594697, 0.820833333, 0.800313433, 0.800246753, 0.800117103, 0.700095563, 0.667329545, 0.600369686, 0.499980334, 0.35003125, 0.332359307, 0.311207464, 0.247316017, 0.988636364, 0.953110048, 0.884261364, 0.860653409, 0.858143939, 0.850502311, 0.850415628, 0.850136766, 0.800117103, 0.80003139, 0.80003139, 0.700060345, 0.689299242, 0.660683293, 0.650130952, 0.606912879, 0.600291767, 0.500025069, 0.499998888, 0.98719697, 0.980909091, 0.974621212, 0.884261364, 0.82680303, 0.800343766, 0.800246753, 0.800128721, 0.800128721, 0.800117103, 0.800117103, 0.77011398, 0.7005417, 0.675568182, 0.661837121, 0.650198653, 0.600291767, 0.600273268, 0.465757576, 0.452012539, 0.313852814, 0.852793561, 0.838383838, 0.804848485, 0.800343766, 0.800128721, 0.800128721, 0.800015009, 0.7005417, 0.700094156, 0.692045455, 0.662255892, 0.650416734, 0.650299575, 0.650243497, 0.639867424, 0.600062696, 0.582045455, 0.403242161, 0.235795455, 0.977272727, 0.964106061, 0.958901515, 0.800358775, 0.800162602, 0.800117103, 0.793844697, 0.750517565, 0.750068049, 0.750062751, 0.750057359, 0.700170388, 0.683806818, 0.650066445, 0.576460393, 0.549969429, 0.538399621, 0.409545455, 0.35021836, 1.033570076, 0.800261486, 0.800128721, 0.800117103, 0.750068049, 0.750057359, 0.750037968, 0.750031898, 0.72830303, 0.700170388, 0.700063796, 0.639867424, 0.500290419, 0.400332792, 0.362666667, 0.978525641, 0.912202112, 0.900556277, 0.850410511, 0.827147436, 0.800436542, 0.800415742, 0.800020563, 0.758173077, 0.750344828, 0.750068049, 0.700170388, 0.700029771, 0.60017284, 0.594871795, 0.520237649, 0.505128205, 0.500241342, 0.470769231, 0.957638889, 0.940701058, 0.849983766, 0.800302791, 0.800191989, 0.800020563, 0.750162367, 0.750068049, 0.742901235, 0.700250784, 0.700170388, 0.670216049, 0.649662222, 0.649662222, 0.626822917, 0.600436426, 0.60041361, 0.555500132, 0.500547544, 0.460578704, 0.397743056, 0.327407407, 0.966666667, 0.937242424, 0.910521886, 0.90064806, 0.900321106, 0.896022727, 0.895454545, 0.870580808, 0.858585859, 0.800643806, 0.80062987, 0.800537143, 0.80035194, 0.750079323, 0.750041201, 0.700250784, 0.651515152, 0.650416734, 0.600125217, 0.578314394, 0.578314394, 0.34998951, 0.261174242, 0.973796791, 0.970075758, 0.970075758, 0.961784512, 0.955151515, 0.952020202, 0.900321106, 0.850223776, 0.800909609, 0.800513307, 0.800386364, 0.800020563, 0.749188312, 0.7005417, 0.70043672, 0.700250784, 0.650407524, 0.618181818, 0.59114168, 0.500061916, 0.329545455, 1.059621212, 0.997792208, 0.963699495, 0.959191919, 0.910378788, 0.910378788, 0.850312684, 0.800386364, 0.80035194, 0.800034024, 0.800023511, 0.800020563, 0.769292929, 0.750031447, 0.70061442, 0.70043672, 0.646306818, 0.600143365, 0.350066986, 1.000230409, 1.000230409, 0.979527778, 0.940625, 0.926388889, 0.900129762, 0.861875, 0.850312684, 0.845458333, 0.823555556, 0.803541667, 0.800263218, 0.788, 0.77815, 0.700386207, 0.700164706, 0.650307143, 0.622828125, 0.6225, 0.500035345, 0.37046657, 1.000230409, 1.000230409, 0.977555556, 0.9456, 0.902222222, 0.850532143, 0.850362069, 0.840533333, 0.800534483, 0.800489676, 0.755555556, 0.750593103, 0.750283333, 0.722638889, 0.553333333, 0.500567308, 0.467693269, 0.437995338, 0.406354167, 0.285333333, 0.259375, 1.000230409, 0.989, 0.950185965, 0.9008, 0.900129762, 0.899, 0.877552083, 0.864583333, 0.85695, 0.853666667, 0.850362069, 0.850170115, 0.800473729, 0.773333333, 0.750646667, 0.634666667, 0.60059761, 0.500117677, 0.4925, 0.48792, 1.000457471, 1.000230409, 0.971866667, 0.971866667, 0.971866667, 0.971866667, 0.971866667, 0.971866667, 0.971866667, 0.971866667, 0.971866667, 0.971866667, 0.971866667, 0.971866667, 0.920236905, 0.900537069, 0.850610526, 0.850362069, 0.750646667, 0.656763743, 0.650148148, 0.600710606, 0.388830357, 0.286984568, 1.0115625, 1.000671304, 1.000402055, 0.950438596, 0.950185965, 0.912766667, 0.892194444, 0.8865, 0.850532143, 0.85011396, 0.845069444, 0.750593103, 0.750450658, 0.702666667, 0.700508929, 0.651007071, 0.466821212, 0.411553571, 0.314166667, 1.000602279, 0.994270833, 0.900158405, 0.90014152, 0.900129762, 0.85695, 0.809236111, 0.800401961, 0.800393224, 0.799963218, 0.740444444, 0.700398148, 0.700354545, 0.561979167, 0.504596491, 0.500801724, 0.295307738, 0.280333333, 0.260978788, 1.001416667, 1.000018551, 0.999995238, 0.99485, 0.976979167, 0.950185965, 0.949981609, 0.919954545, 0.800434622, 0.800259023, 0.778222222, 0.750593103, 0.700513566, 0.700184577, 0.586465465, 0.541517857, 0.5375, 0.495416667, 0.415172414, 1.05028058, 1.000230409, 0.999995238, 0.966759259, 0.929183333, 0.915766667, 0.900147246, 0.800401961, 0.799963218, 0.779791667, 0.755166667, 0.700710417, 0.700612069, 0.700278846, 0.700135088, 0.687555556, 0.650834808, 0.531666667, 0.350706422, 1.000446018, 1.000018551, 0.999995238, 0.999924242, 0.950185965, 0.9425, 0.906666667, 0.8471, 0.845458333, 0.800612676, 0.799963218, 0.771583333, 0.7504, 0.700079032, 0.562212644, 0.522844828, 0.500720126, 0.496549708, 1.050666667, 1.000018551, 0.950185965, 0.900135693, 0.900129762, 0.899111111, 0.870083333, 0.845833333, 0.800401961, 0.799963218, 0.771583333, 0.750520115, 0.750027778, 0.715766667, 0.662270115, 0.600224189, 0.545657673, 0.447916667, 0.365318713, 1.000018551, 0.928680556, 0.9008, 0.900135693, 0.900129762, 0.893066667, 0.891555556, 0.875555556, 0.840888889, 0.800355208, 0.799963218, 0.75065101, 0.750027778, 0.700618234, 0.610208333, 0.607416667, 0.568259587, 0.355534483, 0.353259649, 1.057962963, 0.962016667, 0.9008, 0.900509044, 0.900477825, 0.888125, 0.800401961, 0.800161172, 0.799963218, 0.790003236, 0.750648148, 0.707111111, 0.700618234, 0.697708333, 0.612517157, 0.350301724, 0.350301724, 0.272, 1.004888889, 0.966759259, 0.90063244, 0.90047076, 0.90047076, 0.899984058, 0.853666667, 0.8008, 0.800401961, 0.796755556, 0.750797009, 0.750648148, 0.750356125, 0.703770833, 0.700618234, 0.6895, 0.628333333, 0.500801724, 0.393548851, 1.033155556, 1.02, 1.000344928, 1.000065789, 0.994375, 0.912037037, 0.87, 0.850364583, 0.800947475, 0.800401961, 0.800144144, 0.750406233, 0.714410494, 0.700588406, 0.618361111, 0.600070513, 0.54175, 0.536901754, 0.507903226, 1.100483918, 1.096633333, 1.000344928, 0.838666667, 0.800401961, 0.755486111, 0.750799435, 0.688017677, 0.664875, 0.656666667, 0.637711864, 0.601944444, 0.58, 0.535677966, 0.50012336, 0.497885057, 0.463403955, 0.441392, 0.350301724, 1.000230409, 0.929277778, 0.902916667, 0.800888889, 0.800401961, 0.80037492, 0.796208333, 0.750392157, 0.750392157, 0.725625, 0.700206125, 0.602, 0.600447507, 0.557252451, 0.500801724, 0.483333333, 0.238041667, 1.1204375, 1.108125, 1.000230409, 0.876444444, 0.800806306, 0.760833333, 0.722568627, 0.715333333, 0.700632768, 0.700573099, 0.681598039, 0.650223718, 0.605208333, 0.604166667, 0.598627451, 0.475718391, 0.432122899, 0.287041667, 0.283054487, 1.000230409, 0.960433333, 0.891555556, 0.864583333, 0.802243319, 0.800980392, 0.800312375, 0.773333333, 0.75065101, 0.750356125, 0.722333333, 0.700459889, 0.629416667, 0.621971751, 0.565972222, 0.35542803, 0.329964879, 0.258, 1.000230409, 0.927541667, 0.91375, 0.9025, 0.800401961, 0.7866, 0.750621354, 0.750356125, 0.749166667, 0.700888203, 0.700614035, 0.700603448, 0.656666667, 0.653431373, 0.650134, 0.600982906, 0.586041667, 0.5814, 0.361071429, 0.302117347, 0.9918, 0.936861111, 0.919125, 0.8211125, 0.800980392, 0.800980392, 0.800401961, 0.800279693, 0.75065101, 0.75053268, 0.734645833, 0.700603448, 0.70009573, 0.671875, 0.64025, 0.58, 0.549791667, 0.328131579, 0.303574468, 0.2565, 0.251399254, 0.81640625, 0.800711494, 0.800470513, 0.800094017, 0.799982853, 0.785864198, 0.75065101, 0.733277778, 0.710125, 0.700603448, 0.700540441, 0.7, 0.684027778, 0.672135417, 0.638614379, 0.631354167, 0.611140537, 0.609583333, 0.585315789, 0.249416667, 0.8721, 0.8319375, 0.8300625, 0.805555556, 0.800401961, 0.80000295, 0.78375, 0.753525, 0.75065101, 0.727349537, 0.700614035, 0.700605263, 0.672140805, 0.627011183, 0.626577778, 0.456875, 0.393548851, 0.385791667, 0.307501459, 0.283958333, 0.955791667, 0.930416667, 0.9025, 0.87115, 0.800401961, 0.800137255, 0.800137255, 0.750770115, 0.75065101, 0.750293939, 0.700623, 0.700614035, 0.700362069, 0.60128, 0.417916667, 0.3715625, 0.3715625, 0.36871875, 0.356458333, 0.902222222, 0.811388889, 0.800401961, 0.800137255, 0.800071839, 0.791458333, 0.750727326, 0.75065101, 0.750437269, 0.750176991, 0.726933333, 0.726933333, 0.700623, 0.700518519, 0.700256795, 0.5046875, 0.471108491, 0.325, 0.268214286, 0.970816667, 0.902962963, 0.900833333, 0.899555556, 0.845833333, 0.800808642, 0.800401961, 0.800115819, 0.75065101, 0.750503571, 0.750206897, 0.700362069, 0.700069811, 0.700058333, 0.676666667, 0.658541667, 0.598792339, 0.581130952, 0.440375, 0.410833333, 0.410833333, 0.921703704, 0.921604938, 0.800808642, 0.800516667, 0.800401961, 0.768847222, 0.75065101, 0.750473684, 0.750371895, 0.750206897, 0.700251773, 0.66237931, 0.590617284, 0.5565625, 0.495617514, 0.449964912, 0.410833333, 0.4078125, 0.378895152, 0.376597222, 0.271875, 0.921703704, 0.921604938, 0.800779018, 0.800260821, 0.799982853, 0.768847222, 0.750716981, 0.75065101, 0.750425926, 0.750395513, 0.700236601, 0.700211111, 0.590617284, 0.5565625, 0.550403509, 0.550349708, 0.500258046, 0.410833333, 0.4078125, 0.376597222, 0.271875, 0.936355556, 0.813611111, 0.800401961, 0.75075, 0.75065101, 0.750473684, 0.750395513, 0.707446429, 0.700236601, 0.700019883, 0.683550607, 0.682433036, 0.673083333, 0.664583333, 0.600239766, 0.585, 0.579511494, 0.448722222, 0.447083333, 0.350416667, 0.92885, 0.86037037, 0.806879167, 0.800579532, 0.800401961, 0.8004, 0.800309211, 0.800149813, 0.800115819, 0.773333333, 0.750797009, 0.750473684, 0.750395513, 0.750254867, 0.700903571, 0.70013604, 0.632361111, 0.607654321, 0.537919444, 0.342361111, 0.999533333, 0.902962963, 0.800701754, 0.800566092, 0.800401961, 0.800333333, 0.800115819, 0.750770115, 0.750473684, 0.750395513, 0.750212553, 0.702777778, 0.700659649, 0.699984417, 0.636049383, 0.567377778, 0.555430556, 0.555430556, 0.463194444, 0.354444444, 0.309333333, 0.30277037, 0.939166667, 0.930416667, 0.885925926, 0.83375, 0.806879167, 0.806058333, 0.800701754, 0.800401961, 0.800333333, 0.800055762, 0.799975862, 0.750651724, 0.750395513, 0.700424138, 0.700058333, 0.684888889, 0.592083333, 0.5403125, 0.433263158, 0.404144928, 0.332146465, 0.980984848, 0.950625, 0.927291667, 0.868888889, 0.812625, 0.812625, 0.810111111, 0.800701754, 0.800534979, 0.800401961, 0.750651724, 0.750395513, 0.750050847, 0.700424138, 0.700422, 0.600099145, 0.453125, 0.366053523, 0.26369382, 0.868888889, 0.850520588, 0.850045, 0.825444444, 0.80575, 0.800746552, 0.800578947, 0.800034503, 0.7975, 0.749987124, 0.700422, 0.664875, 0.664875, 0.657083333, 0.65024031, 0.590740741, 0.528125, 0.500528095, 0.408960345, 0.951944444, 0.945555556, 0.929074074, 0.890604167, 0.890604167, 0.884, 0.857916667, 0.850084211, 0.85007069, 0.800511068, 0.800401961, 0.800034503, 0.755208333, 0.750371895, 0.700422, 0.700106061, 0.601037091, 0.600528571, 0.500033898, 0.4509375, 0.441041667, 0.271875, 0.960625, 0.902962963, 0.864342593, 0.850446154, 0.850426891, 0.841, 0.800842424, 0.800401961, 0.800034503, 0.795416667, 0.7953875, 0.794566667, 0.750395513, 0.700516224, 0.700422, 0.6825, 0.650962281, 0.650421429, 0.600040678, 0.500610909, 0.477291667, 0.2640625, 0.92, 0.909391667, 0.900061017, 0.894444444, 0.881575, 0.880754167, 0.850084211, 0.821666667, 0.800401961, 0.800071839, 0.800034503, 0.758229167, 0.750608, 0.750395513, 0.741, 0.700505263, 0.700246491, 0.700051852, 0.650044068, 0.630402924, 0.560625, 0.560625, 0.39875, 0.922839506, 0.874027778, 0.819270833, 0.813309028, 0.812625, 0.800401961, 0.800071839, 0.800034503, 0.786631944, 0.75885, 0.750608, 0.750347333, 0.750140741, 0.750050847, 0.750050847, 0.700556897, 0.700505263, 0.700246491, 0.650596491, 0.628333333, 0.625625, 0.625625, 0.505888889, 0.394722222], \"xaxis\": \"x\", \"yaxis\": \"y\"}],                        {\"bargap\": 0.15, \"bargroupgap\": 0.1, \"barmode\": \"group\", \"legend\": {\"tracegroupgap\": 0}, \"margin\": {\"t\": 60}, \"template\": {\"data\": {\"bar\": [{\"error_x\": {\"color\": \"#2a3f5f\"}, \"error_y\": {\"color\": \"#2a3f5f\"}, \"marker\": {\"line\": {\"color\": \"#E5ECF6\", \"width\": 0.5}}, \"type\": \"bar\"}], \"barpolar\": [{\"marker\": {\"line\": {\"color\": \"#E5ECF6\", \"width\": 0.5}}, \"type\": \"barpolar\"}], \"carpet\": [{\"aaxis\": {\"endlinecolor\": \"#2a3f5f\", \"gridcolor\": \"white\", \"linecolor\": \"white\", \"minorgridcolor\": \"white\", \"startlinecolor\": \"#2a3f5f\"}, \"baxis\": {\"endlinecolor\": \"#2a3f5f\", \"gridcolor\": \"white\", \"linecolor\": \"white\", \"minorgridcolor\": \"white\", \"startlinecolor\": \"#2a3f5f\"}, \"type\": \"carpet\"}], \"choropleth\": [{\"colorbar\": {\"outlinewidth\": 0, \"ticks\": \"\"}, \"type\": \"choropleth\"}], \"contour\": [{\"colorbar\": {\"outlinewidth\": 0, \"ticks\": \"\"}, \"colorscale\": [[0.0, \"#0d0887\"], [0.1111111111111111, \"#46039f\"], [0.2222222222222222, \"#7201a8\"], [0.3333333333333333, \"#9c179e\"], [0.4444444444444444, \"#bd3786\"], [0.5555555555555556, \"#d8576b\"], [0.6666666666666666, \"#ed7953\"], [0.7777777777777778, \"#fb9f3a\"], [0.8888888888888888, \"#fdca26\"], [1.0, \"#f0f921\"]], \"type\": \"contour\"}], \"contourcarpet\": [{\"colorbar\": {\"outlinewidth\": 0, \"ticks\": \"\"}, \"type\": \"contourcarpet\"}], \"heatmap\": [{\"colorbar\": {\"outlinewidth\": 0, \"ticks\": \"\"}, \"colorscale\": [[0.0, \"#0d0887\"], [0.1111111111111111, \"#46039f\"], [0.2222222222222222, \"#7201a8\"], [0.3333333333333333, \"#9c179e\"], [0.4444444444444444, \"#bd3786\"], [0.5555555555555556, \"#d8576b\"], [0.6666666666666666, \"#ed7953\"], [0.7777777777777778, \"#fb9f3a\"], [0.8888888888888888, \"#fdca26\"], [1.0, \"#f0f921\"]], \"type\": \"heatmap\"}], \"heatmapgl\": [{\"colorbar\": {\"outlinewidth\": 0, \"ticks\": \"\"}, \"colorscale\": [[0.0, \"#0d0887\"], [0.1111111111111111, \"#46039f\"], [0.2222222222222222, \"#7201a8\"], [0.3333333333333333, \"#9c179e\"], [0.4444444444444444, \"#bd3786\"], [0.5555555555555556, \"#d8576b\"], [0.6666666666666666, \"#ed7953\"], [0.7777777777777778, \"#fb9f3a\"], [0.8888888888888888, \"#fdca26\"], [1.0, \"#f0f921\"]], \"type\": \"heatmapgl\"}], \"histogram\": [{\"marker\": {\"colorbar\": {\"outlinewidth\": 0, \"ticks\": \"\"}}, \"type\": \"histogram\"}], \"histogram2d\": [{\"colorbar\": {\"outlinewidth\": 0, \"ticks\": \"\"}, \"colorscale\": [[0.0, \"#0d0887\"], [0.1111111111111111, \"#46039f\"], [0.2222222222222222, \"#7201a8\"], [0.3333333333333333, \"#9c179e\"], [0.4444444444444444, \"#bd3786\"], [0.5555555555555556, \"#d8576b\"], [0.6666666666666666, \"#ed7953\"], [0.7777777777777778, \"#fb9f3a\"], [0.8888888888888888, \"#fdca26\"], [1.0, \"#f0f921\"]], \"type\": \"histogram2d\"}], \"histogram2dcontour\": [{\"colorbar\": {\"outlinewidth\": 0, \"ticks\": \"\"}, \"colorscale\": [[0.0, \"#0d0887\"], [0.1111111111111111, \"#46039f\"], [0.2222222222222222, \"#7201a8\"], [0.3333333333333333, \"#9c179e\"], [0.4444444444444444, \"#bd3786\"], [0.5555555555555556, \"#d8576b\"], [0.6666666666666666, \"#ed7953\"], [0.7777777777777778, \"#fb9f3a\"], [0.8888888888888888, \"#fdca26\"], [1.0, \"#f0f921\"]], \"type\": \"histogram2dcontour\"}], \"mesh3d\": [{\"colorbar\": {\"outlinewidth\": 0, \"ticks\": \"\"}, \"type\": \"mesh3d\"}], \"parcoords\": [{\"line\": {\"colorbar\": {\"outlinewidth\": 0, \"ticks\": \"\"}}, \"type\": \"parcoords\"}], \"pie\": [{\"automargin\": true, \"type\": \"pie\"}], \"scatter\": [{\"marker\": {\"colorbar\": {\"outlinewidth\": 0, \"ticks\": \"\"}}, \"type\": \"scatter\"}], \"scatter3d\": [{\"line\": {\"colorbar\": {\"outlinewidth\": 0, \"ticks\": \"\"}}, \"marker\": {\"colorbar\": {\"outlinewidth\": 0, \"ticks\": \"\"}}, \"type\": \"scatter3d\"}], \"scattercarpet\": [{\"marker\": {\"colorbar\": {\"outlinewidth\": 0, \"ticks\": \"\"}}, \"type\": \"scattercarpet\"}], \"scattergeo\": [{\"marker\": {\"colorbar\": {\"outlinewidth\": 0, \"ticks\": \"\"}}, \"type\": \"scattergeo\"}], \"scattergl\": [{\"marker\": {\"colorbar\": {\"outlinewidth\": 0, \"ticks\": \"\"}}, \"type\": \"scattergl\"}], \"scattermapbox\": [{\"marker\": {\"colorbar\": {\"outlinewidth\": 0, \"ticks\": \"\"}}, \"type\": \"scattermapbox\"}], \"scatterpolar\": [{\"marker\": {\"colorbar\": {\"outlinewidth\": 0, \"ticks\": \"\"}}, \"type\": \"scatterpolar\"}], \"scatterpolargl\": [{\"marker\": {\"colorbar\": {\"outlinewidth\": 0, \"ticks\": \"\"}}, \"type\": \"scatterpolargl\"}], \"scatterternary\": [{\"marker\": {\"colorbar\": {\"outlinewidth\": 0, \"ticks\": \"\"}}, \"type\": \"scatterternary\"}], \"surface\": [{\"colorbar\": {\"outlinewidth\": 0, \"ticks\": \"\"}, \"colorscale\": [[0.0, \"#0d0887\"], [0.1111111111111111, \"#46039f\"], [0.2222222222222222, \"#7201a8\"], [0.3333333333333333, \"#9c179e\"], [0.4444444444444444, \"#bd3786\"], [0.5555555555555556, \"#d8576b\"], [0.6666666666666666, \"#ed7953\"], [0.7777777777777778, \"#fb9f3a\"], [0.8888888888888888, \"#fdca26\"], [1.0, \"#f0f921\"]], \"type\": \"surface\"}], \"table\": [{\"cells\": {\"fill\": {\"color\": \"#EBF0F8\"}, \"line\": {\"color\": \"white\"}}, \"header\": {\"fill\": {\"color\": \"#C8D4E3\"}, \"line\": {\"color\": \"white\"}}, \"type\": \"table\"}]}, \"layout\": {\"annotationdefaults\": {\"arrowcolor\": \"#2a3f5f\", \"arrowhead\": 0, \"arrowwidth\": 1}, \"autotypenumbers\": \"strict\", \"coloraxis\": {\"colorbar\": {\"outlinewidth\": 0, \"ticks\": \"\"}}, \"colorscale\": {\"diverging\": [[0, \"#8e0152\"], [0.1, \"#c51b7d\"], [0.2, \"#de77ae\"], [0.3, \"#f1b6da\"], [0.4, \"#fde0ef\"], [0.5, \"#f7f7f7\"], [0.6, \"#e6f5d0\"], [0.7, \"#b8e186\"], [0.8, \"#7fbc41\"], [0.9, \"#4d9221\"], [1, \"#276419\"]], \"sequential\": [[0.0, \"#0d0887\"], [0.1111111111111111, \"#46039f\"], [0.2222222222222222, \"#7201a8\"], [0.3333333333333333, \"#9c179e\"], [0.4444444444444444, \"#bd3786\"], [0.5555555555555556, \"#d8576b\"], [0.6666666666666666, \"#ed7953\"], [0.7777777777777778, \"#fb9f3a\"], [0.8888888888888888, \"#fdca26\"], [1.0, \"#f0f921\"]], \"sequentialminus\": [[0.0, \"#0d0887\"], [0.1111111111111111, \"#46039f\"], [0.2222222222222222, \"#7201a8\"], [0.3333333333333333, \"#9c179e\"], [0.4444444444444444, \"#bd3786\"], [0.5555555555555556, \"#d8576b\"], [0.6666666666666666, \"#ed7953\"], [0.7777777777777778, \"#fb9f3a\"], [0.8888888888888888, \"#fdca26\"], [1.0, \"#f0f921\"]]}, \"colorway\": [\"#636efa\", \"#EF553B\", \"#00cc96\", \"#ab63fa\", \"#FFA15A\", \"#19d3f3\", \"#FF6692\", \"#B6E880\", \"#FF97FF\", \"#FECB52\"], \"font\": {\"color\": \"#2a3f5f\"}, \"geo\": {\"bgcolor\": \"white\", \"lakecolor\": \"white\", \"landcolor\": \"#E5ECF6\", \"showlakes\": true, \"showland\": true, \"subunitcolor\": \"white\"}, \"hoverlabel\": {\"align\": \"left\"}, \"hovermode\": \"closest\", \"mapbox\": {\"style\": \"light\"}, \"paper_bgcolor\": \"white\", \"plot_bgcolor\": \"#E5ECF6\", \"polar\": {\"angularaxis\": {\"gridcolor\": \"white\", \"linecolor\": \"white\", \"ticks\": \"\"}, \"bgcolor\": \"#E5ECF6\", \"radialaxis\": {\"gridcolor\": \"white\", \"linecolor\": \"white\", \"ticks\": \"\"}}, \"scene\": {\"xaxis\": {\"backgroundcolor\": \"#E5ECF6\", \"gridcolor\": \"white\", \"gridwidth\": 2, \"linecolor\": \"white\", \"showbackground\": true, \"ticks\": \"\", \"zerolinecolor\": \"white\"}, \"yaxis\": {\"backgroundcolor\": \"#E5ECF6\", \"gridcolor\": \"white\", \"gridwidth\": 2, \"linecolor\": \"white\", \"showbackground\": true, \"ticks\": \"\", \"zerolinecolor\": \"white\"}, \"zaxis\": {\"backgroundcolor\": \"#E5ECF6\", \"gridcolor\": \"white\", \"gridwidth\": 2, \"linecolor\": \"white\", \"showbackground\": true, \"ticks\": \"\", \"zerolinecolor\": \"white\"}}, \"shapedefaults\": {\"line\": {\"color\": \"#2a3f5f\"}}, \"ternary\": {\"aaxis\": {\"gridcolor\": \"white\", \"linecolor\": \"white\", \"ticks\": \"\"}, \"baxis\": {\"gridcolor\": \"white\", \"linecolor\": \"white\", \"ticks\": \"\"}, \"bgcolor\": \"#E5ECF6\", \"caxis\": {\"gridcolor\": \"white\", \"linecolor\": \"white\", \"ticks\": \"\"}}, \"title\": {\"x\": 0.05}, \"xaxis\": {\"automargin\": true, \"gridcolor\": \"white\", \"linecolor\": \"white\", \"ticks\": \"\", \"title\": {\"standoff\": 15}, \"zerolinecolor\": \"white\", \"zerolinewidth\": 2}, \"yaxis\": {\"automargin\": true, \"gridcolor\": \"white\", \"linecolor\": \"white\", \"ticks\": \"\", \"title\": {\"standoff\": 15}, \"zerolinecolor\": \"white\", \"zerolinewidth\": 2}}}, \"title\": {\"text\": \"Distribution of Actual productivity\", \"x\": 0.5}, \"xaxis\": {\"anchor\": \"y\", \"domain\": [0.0, 1.0], \"tickfont\": {\"size\": 14}, \"title\": {\"font\": {\"size\": 16}, \"text\": \"Actual Productivity\"}}, \"yaxis\": {\"anchor\": \"x\", \"domain\": [0.0, 1.0], \"tickfont\": {\"size\": 14}, \"title\": {\"font\": {\"size\": 16}, \"text\": \"Records\"}}},                        {\"responsive\": true}                    ).then(function(){\n",
       "                            \n",
       "var gd = document.getElementById('cb667510-960a-4c26-a498-30c83b3c465f');\n",
       "var x = new MutationObserver(function (mutations, observer) {{\n",
       "        var display = window.getComputedStyle(gd).display;\n",
       "        if (!display || display === 'none') {{\n",
       "            console.log([gd, 'removed!']);\n",
       "            Plotly.purge(gd);\n",
       "            observer.disconnect();\n",
       "        }}\n",
       "}});\n",
       "\n",
       "// Listen for the removal of the full notebook cells\n",
       "var notebookContainer = gd.closest('#notebook-container');\n",
       "if (notebookContainer) {{\n",
       "    x.observe(notebookContainer, {childList: true});\n",
       "}}\n",
       "\n",
       "// Listen for the clearing of the current output cell\n",
       "var outputEl = gd.closest('.output');\n",
       "if (outputEl) {{\n",
       "    x.observe(outputEl, {childList: true});\n",
       "}}\n",
       "\n",
       "                        })                };                });            </script>        </div>"
      ]
     },
     "metadata": {},
     "output_type": "display_data"
    }
   ],
   "source": [
    "fig = px.histogram(df, x=\"actual_productivity\", nbins=20, color_discrete_sequence=['rgb(242,170,76)'])\n",
    "\n",
    "fig.update_layout(\n",
    "    title = 'Distribution of Actual productivity',\n",
    "    title_x = 0.5,\n",
    "    xaxis_tickfont_size = 14,\n",
    "    \n",
    "    xaxis = dict(\n",
    "        title = 'Actual Productivity',\n",
    "        titlefont_size = 16,\n",
    "        tickfont_size = 14,\n",
    "    ),\n",
    "    \n",
    "    yaxis = dict(\n",
    "        title = 'Records',\n",
    "        titlefont_size = 16,\n",
    "        tickfont_size = 14,\n",
    "    ),\n",
    "    \n",
    "    barmode = 'group',\n",
    "    bargap = 0.15,\n",
    "    bargroupgap = 0.1,\n",
    ")\n",
    "\n",
    "fig.show()\n",
    "\n",
    "# Work better than expected (> 0.825): "
   ]
  },
  {
   "cell_type": "code",
   "execution_count": null,
   "id": "dc99ef45",
   "metadata": {},
   "outputs": [],
   "source": []
  },
  {
   "cell_type": "code",
   "execution_count": null,
   "id": "36498e6e",
   "metadata": {},
   "outputs": [],
   "source": []
  }
 ],
 "metadata": {
  "kernelspec": {
   "display_name": "Python 3",
   "language": "python",
   "name": "python3"
  },
  "language_info": {
   "codemirror_mode": {
    "name": "ipython",
    "version": 3
   },
   "file_extension": ".py",
   "mimetype": "text/x-python",
   "name": "python",
   "nbconvert_exporter": "python",
   "pygments_lexer": "ipython3",
   "version": "3.9.1"
  }
 },
 "nbformat": 4,
 "nbformat_minor": 5
}
